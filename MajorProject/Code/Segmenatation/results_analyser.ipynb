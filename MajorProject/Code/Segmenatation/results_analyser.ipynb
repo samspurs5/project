{
 "cells": [
  {
   "cell_type": "code",
   "execution_count": 181,
   "id": "940da813",
   "metadata": {},
   "outputs": [],
   "source": [
    "import matplotlib.pyplot as plt\n",
    "import seaborn as sns\n",
    "import pandas as pd\n",
    "import matplotlib.pyplot as plt\n",
    "import numpy as np\n",
    "import os"
   ]
  },
  {
   "cell_type": "code",
   "execution_count": 182,
   "id": "eb96f7af",
   "metadata": {},
   "outputs": [],
   "source": [
    "dataset = \"birds\"\n",
    "record_list = []\n",
    "data_list = []\n",
    "for file in os.walk(\".\\\\\"):\n",
    "    results = [f for f in file[2] if \".npy\" in f]\n",
    "    if results != []:\n",
    "        directory = file[0]\n",
    "        for result in results:\n",
    "            if dataset in result:\n",
    "                data_list.append(np.load(directory+\"\\\\\"+result))\n",
    "                record_list.append(directory+\"\\\\\"+result)"
   ]
  },
  {
   "cell_type": "code",
   "execution_count": 183,
   "id": "c65e5948",
   "metadata": {},
   "outputs": [],
   "source": [
    "columns = [i.split(\"\\\\\")[-1][:-4] for i in record_list]"
   ]
  },
  {
   "cell_type": "code",
   "execution_count": 184,
   "id": "ca523987",
   "metadata": {},
   "outputs": [
    {
     "ename": "ValueError",
     "evalue": "max() arg is an empty sequence",
     "output_type": "error",
     "traceback": [
      "\u001b[1;31m---------------------------------------------------------------------------\u001b[0m",
      "\u001b[1;31mValueError\u001b[0m                                Traceback (most recent call last)",
      "\u001b[1;32m<ipython-input-184-9081637c2d77>\u001b[0m in \u001b[0;36m<module>\u001b[1;34m\u001b[0m\n\u001b[1;32m----> 1\u001b[1;33m \u001b[0mlargest_record\u001b[0m \u001b[1;33m=\u001b[0m \u001b[0mmax\u001b[0m\u001b[1;33m(\u001b[0m\u001b[0mmap\u001b[0m\u001b[1;33m(\u001b[0m\u001b[1;32mlambda\u001b[0m \u001b[0mx\u001b[0m\u001b[1;33m:\u001b[0m\u001b[0mlen\u001b[0m\u001b[1;33m(\u001b[0m\u001b[0mx\u001b[0m\u001b[1;33m)\u001b[0m\u001b[1;33m,\u001b[0m\u001b[0mdata_list\u001b[0m\u001b[1;33m)\u001b[0m\u001b[1;33m)\u001b[0m\u001b[1;33m\u001b[0m\u001b[1;33m\u001b[0m\u001b[0m\n\u001b[0m",
      "\u001b[1;31mValueError\u001b[0m: max() arg is an empty sequence"
     ]
    }
   ],
   "source": [
    "largest_record = max(map(lambda x:len(x),data_list))"
   ]
  },
  {
   "cell_type": "code",
   "execution_count": 185,
   "id": "63f54a4a",
   "metadata": {},
   "outputs": [],
   "source": [
    "df = pd.DataFrame(columns=columns)"
   ]
  },
  {
   "cell_type": "code",
   "execution_count": 177,
   "id": "0cf752f0",
   "metadata": {},
   "outputs": [],
   "source": [
    "for count,record in enumerate(record_list):\n",
    "    data = np.load(record)\n",
    "    df.iloc[:,count] = np.pad(data,(0,largest_record-len(data)),\"constant\")"
   ]
  },
  {
   "cell_type": "code",
   "execution_count": 178,
   "id": "1298ca52",
   "metadata": {},
   "outputs": [],
   "source": [
    "df = df.replace({0:np.nan})"
   ]
  },
  {
   "cell_type": "code",
   "execution_count": 180,
   "id": "94ad0528",
   "metadata": {},
   "outputs": [
    {
     "data": {
      "image/png": "[encoded data removed]",
      "text/plain": [
       "<Figure size 1440x360 with 1 Axes>"
      ]
     },
     "metadata": {
      "needs_background": "light"
     },
     "output_type": "display_data"
    }
   ],
   "source": [
    "plt.rcParams[\"figure.figsize\"] = (20,5)\n",
    "ax = sns.boxplot(data=df)\n",
    "\n",
    "for i in range(0,len(df.columns),2) :\n",
    "    ax.artists[i].set_facecolor('blue')\n",
    "    ax.artists[i+1].set_facecolor('orange')"
   ]
  },
  {
   "cell_type": "code",
   "execution_count": 171,
   "id": "ec4fd155",
   "metadata": {},
   "outputs": [
    {
     "data": {
      "text/html": [
       "<div>\n",
       "<style scoped>\n",
       "    .dataframe tbody tr th:only-of-type {\n",
       "        vertical-align: middle;\n",
       "    }\n",
       "\n",
       "    .dataframe tbody tr th {\n",
       "        vertical-align: top;\n",
       "    }\n",
       "\n",
       "    .dataframe thead th {\n",
       "        text-align: right;\n",
       "    }\n",
       "</style>\n",
       "<table border=\"1\" class=\"dataframe\">\n",
       "  <thead>\n",
       "    <tr style=\"text-align: right;\">\n",
       "      <th></th>\n",
       "      <th>CNN_pets_test</th>\n",
       "      <th>CNN_pets_train</th>\n",
       "      <th>UNET_pets_train</th>\n",
       "      <th>PCWN_CONV_pets_test</th>\n",
       "      <th>PCWN_CONV_pets_train</th>\n",
       "      <th>PCWN_CONN_pets_test</th>\n",
       "      <th>PCWN_CONN_pets_train</th>\n",
       "    </tr>\n",
       "  </thead>\n",
       "  <tbody>\n",
       "    <tr>\n",
       "      <th>count</th>\n",
       "      <td>300.000000</td>\n",
       "      <td>7035.000000</td>\n",
       "      <td>7035.000000</td>\n",
       "      <td>300.000000</td>\n",
       "      <td>7049.000000</td>\n",
       "      <td>300.000000</td>\n",
       "      <td>7049.000000</td>\n",
       "    </tr>\n",
       "    <tr>\n",
       "      <th>mean</th>\n",
       "      <td>0.812959</td>\n",
       "      <td>0.884539</td>\n",
       "      <td>0.885259</td>\n",
       "      <td>0.589416</td>\n",
       "      <td>0.670238</td>\n",
       "      <td>0.591932</td>\n",
       "      <td>0.585133</td>\n",
       "    </tr>\n",
       "    <tr>\n",
       "      <th>std</th>\n",
       "      <td>0.107630</td>\n",
       "      <td>0.067144</td>\n",
       "      <td>0.087213</td>\n",
       "      <td>0.175755</td>\n",
       "      <td>0.196606</td>\n",
       "      <td>0.195806</td>\n",
       "      <td>0.194124</td>\n",
       "    </tr>\n",
       "    <tr>\n",
       "      <th>min</th>\n",
       "      <td>0.349262</td>\n",
       "      <td>0.214837</td>\n",
       "      <td>0.063370</td>\n",
       "      <td>0.125725</td>\n",
       "      <td>0.000074</td>\n",
       "      <td>0.079583</td>\n",
       "      <td>0.000072</td>\n",
       "    </tr>\n",
       "    <tr>\n",
       "      <th>25%</th>\n",
       "      <td>0.764364</td>\n",
       "      <td>0.859777</td>\n",
       "      <td>0.861670</td>\n",
       "      <td>0.473491</td>\n",
       "      <td>0.534269</td>\n",
       "      <td>0.458168</td>\n",
       "      <td>0.445304</td>\n",
       "    </tr>\n",
       "    <tr>\n",
       "      <th>50%</th>\n",
       "      <td>0.842203</td>\n",
       "      <td>0.899211</td>\n",
       "      <td>0.909236</td>\n",
       "      <td>0.601752</td>\n",
       "      <td>0.690782</td>\n",
       "      <td>0.603471</td>\n",
       "      <td>0.596824</td>\n",
       "    </tr>\n",
       "    <tr>\n",
       "      <th>75%</th>\n",
       "      <td>0.887165</td>\n",
       "      <td>0.927762</td>\n",
       "      <td>0.938416</td>\n",
       "      <td>0.719714</td>\n",
       "      <td>0.823546</td>\n",
       "      <td>0.737585</td>\n",
       "      <td>0.734592</td>\n",
       "    </tr>\n",
       "    <tr>\n",
       "      <th>max</th>\n",
       "      <td>0.974379</td>\n",
       "      <td>0.994159</td>\n",
       "      <td>0.990588</td>\n",
       "      <td>0.939294</td>\n",
       "      <td>0.999542</td>\n",
       "      <td>0.957976</td>\n",
       "      <td>0.988746</td>\n",
       "    </tr>\n",
       "  </tbody>\n",
       "</table>\n",
       "</div>"
      ],
      "text/plain": [
       "       CNN_pets_test  CNN_pets_train  UNET_pets_train  PCWN_CONV_pets_test  \\\n",
       "count     300.000000     7035.000000      7035.000000           300.000000   \n",
       "mean        0.812959        0.884539         0.885259             0.589416   \n",
       "std         0.107630        0.067144         0.087213             0.175755   \n",
       "min         0.349262        0.214837         0.063370             0.125725   \n",
       "25%         0.764364        0.859777         0.861670             0.473491   \n",
       "50%         0.842203        0.899211         0.909236             0.601752   \n",
       "75%         0.887165        0.927762         0.938416             0.719714   \n",
       "max         0.974379        0.994159         0.990588             0.939294   \n",
       "\n",
       "       PCWN_CONV_pets_train  PCWN_CONN_pets_test  PCWN_CONN_pets_train  \n",
       "count           7049.000000           300.000000           7049.000000  \n",
       "mean               0.670238             0.591932              0.585133  \n",
       "std                0.196606             0.195806              0.194124  \n",
       "min                0.000074             0.079583              0.000072  \n",
       "25%                0.534269             0.458168              0.445304  \n",
       "50%                0.690782             0.603471              0.596824  \n",
       "75%                0.823546             0.737585              0.734592  \n",
       "max                0.999542             0.957976              0.988746  "
      ]
     },
     "execution_count": 171,
     "metadata": {},
     "output_type": "execute_result"
    }
   ],
   "source": [
    "df.describe()"
   ]
  },
  {
   "cell_type": "code",
   "execution_count": null,
   "id": "bb8548df",
   "metadata": {},
   "outputs": [],
   "source": []
  }
 ],
 "metadata": {
  "kernelspec": {
   "display_name": "Python 3",
   "language": "python",
   "name": "python3"
  },
  "language_info": {
   "codemirror_mode": {
    "name": "ipython",
    "version": 3
   },
   "file_extension": ".py",
   "mimetype": "text/x-python",
   "name": "python",
   "nbconvert_exporter": "python",
   "pygments_lexer": "ipython3",
   "version": "3.8.8"
  }
 },
 "nbformat": 4,
 "nbformat_minor": 5
}
