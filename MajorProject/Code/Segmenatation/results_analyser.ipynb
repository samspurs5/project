{
 "cells": [
  {
   "cell_type": "code",
   "execution_count": 304,
   "id": "940da813",
   "metadata": {},
   "outputs": [],
   "source": [
    "import matplotlib.pyplot as plt\n",
    "import seaborn as sns\n",
    "import pandas as pd\n",
    "import matplotlib.pyplot as plt\n",
    "import numpy as np\n",
    "import os"
   ]
  },
  {
   "cell_type": "code",
   "execution_count": 312,
   "id": "eb96f7af",
   "metadata": {},
   "outputs": [],
   "source": [
    "dataset = \"pets\"\n",
    "record_list = []\n",
    "data_list = []\n",
    "for file in os.walk(\".\\\\\"):\n",
    "    results = [f for f in file[2] if \".npy\" in f]\n",
    "    if results != []:\n",
    "        directory = file[0]\n",
    "        for result in results:\n",
    "            if dataset in result:\n",
    "                data_list.append(np.load(directory+\"\\\\\"+result))\n",
    "                record_list.append(directory+\"\\\\\"+result)"
   ]
  },
  {
   "cell_type": "code",
   "execution_count": 313,
   "id": "c65e5948",
   "metadata": {},
   "outputs": [],
   "source": [
    "columns = [i.split(\"\\\\\")[-1][:-4] for i in record_list]"
   ]
  },
  {
   "cell_type": "code",
   "execution_count": 314,
   "id": "ca523987",
   "metadata": {},
   "outputs": [],
   "source": [
    "largest_record = max(map(lambda x:len(x),data_list))"
   ]
  },
  {
   "cell_type": "code",
   "execution_count": 315,
   "id": "63f54a4a",
   "metadata": {},
   "outputs": [],
   "source": [
    "df = pd.DataFrame(columns=columns)"
   ]
  },
  {
   "cell_type": "code",
   "execution_count": 316,
   "id": "0cf752f0",
   "metadata": {},
   "outputs": [],
   "source": [
    "for count,record in enumerate(record_list):\n",
    "    data = np.load(record)\n",
    "    df.iloc[:,count] = np.pad(data,(0,largest_record-len(data)),\"constant\")"
   ]
  },
  {
   "cell_type": "code",
   "execution_count": 317,
   "id": "1298ca52",
   "metadata": {},
   "outputs": [],
   "source": [
    "df = df.replace({0:np.nan})"
   ]
  },
  {
   "cell_type": "code",
   "execution_count": 318,
   "id": "94ad0528",
   "metadata": {},
   "outputs": [
    {
     "data": {
      "image/png": "[encoded data removed]",
      "text/plain": [
       "<Figure size 1296x360 with 1 Axes>"
      ]
     },
     "metadata": {
      "needs_background": "light"
     },
     "output_type": "display_data"
    }
   ],
   "source": [
    "plt.rcParams[\"figure.figsize\"] = (18,5)\n",
    "ax = sns.boxplot(data=df)\n",
    "\n",
    "for i in range(0,len(df.columns),2) :\n",
    "    ax.artists[i].set_facecolor('blue')\n",
    "    ax.artists[i+1].set_facecolor('orange')"
   ]
  },
  {
   "cell_type": "code",
   "execution_count": 303,
   "id": "e310e08f",
   "metadata": {},
   "outputs": [
    {
     "data": {
      "text/html": [
       "<div>\n",
       "<style scoped>\n",
       "    .dataframe tbody tr th:only-of-type {\n",
       "        vertical-align: middle;\n",
       "    }\n",
       "\n",
       "    .dataframe tbody tr th {\n",
       "        vertical-align: top;\n",
       "    }\n",
       "\n",
       "    .dataframe thead th {\n",
       "        text-align: right;\n",
       "    }\n",
       "</style>\n",
       "<table border=\"1\" class=\"dataframe\">\n",
       "  <thead>\n",
       "    <tr style=\"text-align: right;\">\n",
       "      <th></th>\n",
       "      <th>CNN_birds_test</th>\n",
       "      <th>CNN_birds_train</th>\n",
       "      <th>UNET_birds_test</th>\n",
       "      <th>UNET_birds_train</th>\n",
       "      <th>PCWN_CONV_birds_test</th>\n",
       "      <th>PCWN_CONV_birds_train</th>\n",
       "      <th>PCWN_CONN_birds_test</th>\n",
       "      <th>PCWN_CONN_birds_train</th>\n",
       "    </tr>\n",
       "  </thead>\n",
       "  <tbody>\n",
       "    <tr>\n",
       "      <th>count</th>\n",
       "      <td>300.000000</td>\n",
       "      <td>5.733000e+03</td>\n",
       "      <td>300.000000</td>\n",
       "      <td>5.733000e+03</td>\n",
       "      <td>300.000000</td>\n",
       "      <td>5733.000000</td>\n",
       "      <td>300.000000</td>\n",
       "      <td>5733.000000</td>\n",
       "    </tr>\n",
       "    <tr>\n",
       "      <th>mean</th>\n",
       "      <td>0.687906</td>\n",
       "      <td>7.471481e-01</td>\n",
       "      <td>0.697616</td>\n",
       "      <td>7.136916e-01</td>\n",
       "      <td>0.334936</td>\n",
       "      <td>0.646047</td>\n",
       "      <td>0.171166</td>\n",
       "      <td>0.163264</td>\n",
       "    </tr>\n",
       "    <tr>\n",
       "      <th>std</th>\n",
       "      <td>0.185481</td>\n",
       "      <td>1.598325e-01</td>\n",
       "      <td>0.191609</td>\n",
       "      <td>1.791282e-01</td>\n",
       "      <td>0.169154</td>\n",
       "      <td>0.213386</td>\n",
       "      <td>0.204298</td>\n",
       "      <td>0.200384</td>\n",
       "    </tr>\n",
       "    <tr>\n",
       "      <th>min</th>\n",
       "      <td>0.000417</td>\n",
       "      <td>9.818260e-29</td>\n",
       "      <td>0.042544</td>\n",
       "      <td>9.270577e-32</td>\n",
       "      <td>0.000551</td>\n",
       "      <td>0.000760</td>\n",
       "      <td>0.000122</td>\n",
       "      <td>0.000078</td>\n",
       "    </tr>\n",
       "    <tr>\n",
       "      <th>25%</th>\n",
       "      <td>0.602411</td>\n",
       "      <td>6.924262e-01</td>\n",
       "      <td>0.606107</td>\n",
       "      <td>6.246465e-01</td>\n",
       "      <td>0.202678</td>\n",
       "      <td>0.503411</td>\n",
       "      <td>0.000622</td>\n",
       "      <td>0.000616</td>\n",
       "    </tr>\n",
       "    <tr>\n",
       "      <th>50%</th>\n",
       "      <td>0.742106</td>\n",
       "      <td>7.963290e-01</td>\n",
       "      <td>0.751156</td>\n",
       "      <td>7.649401e-01</td>\n",
       "      <td>0.324988</td>\n",
       "      <td>0.690816</td>\n",
       "      <td>0.067855</td>\n",
       "      <td>0.054971</td>\n",
       "    </tr>\n",
       "    <tr>\n",
       "      <th>75%</th>\n",
       "      <td>0.822264</td>\n",
       "      <td>8.554875e-01</td>\n",
       "      <td>0.837897</td>\n",
       "      <td>8.468531e-01</td>\n",
       "      <td>0.445205</td>\n",
       "      <td>0.822026</td>\n",
       "      <td>0.322082</td>\n",
       "      <td>0.300081</td>\n",
       "    </tr>\n",
       "    <tr>\n",
       "      <th>max</th>\n",
       "      <td>0.924942</td>\n",
       "      <td>9.590497e-01</td>\n",
       "      <td>0.946121</td>\n",
       "      <td>9.687237e-01</td>\n",
       "      <td>0.799249</td>\n",
       "      <td>0.976290</td>\n",
       "      <td>0.780274</td>\n",
       "      <td>0.908799</td>\n",
       "    </tr>\n",
       "  </tbody>\n",
       "</table>\n",
       "</div>"
      ],
      "text/plain": [
       "       CNN_birds_test  CNN_birds_train  UNET_birds_test  UNET_birds_train  \\\n",
       "count      300.000000     5.733000e+03       300.000000      5.733000e+03   \n",
       "mean         0.687906     7.471481e-01         0.697616      7.136916e-01   \n",
       "std          0.185481     1.598325e-01         0.191609      1.791282e-01   \n",
       "min          0.000417     9.818260e-29         0.042544      9.270577e-32   \n",
       "25%          0.602411     6.924262e-01         0.606107      6.246465e-01   \n",
       "50%          0.742106     7.963290e-01         0.751156      7.649401e-01   \n",
       "75%          0.822264     8.554875e-01         0.837897      8.468531e-01   \n",
       "max          0.924942     9.590497e-01         0.946121      9.687237e-01   \n",
       "\n",
       "       PCWN_CONV_birds_test  PCWN_CONV_birds_train  PCWN_CONN_birds_test  \\\n",
       "count            300.000000            5733.000000            300.000000   \n",
       "mean               0.334936               0.646047              0.171166   \n",
       "std                0.169154               0.213386              0.204298   \n",
       "min                0.000551               0.000760              0.000122   \n",
       "25%                0.202678               0.503411              0.000622   \n",
       "50%                0.324988               0.690816              0.067855   \n",
       "75%                0.445205               0.822026              0.322082   \n",
       "max                0.799249               0.976290              0.780274   \n",
       "\n",
       "       PCWN_CONN_birds_train  \n",
       "count            5733.000000  \n",
       "mean                0.163264  \n",
       "std                 0.200384  \n",
       "min                 0.000078  \n",
       "25%                 0.000616  \n",
       "50%                 0.054971  \n",
       "75%                 0.300081  \n",
       "max                 0.908799  "
      ]
     },
     "execution_count": 303,
     "metadata": {},
     "output_type": "execute_result"
    }
   ],
   "source": [
    "df.describe()"
   ]
  },
  {
   "cell_type": "code",
   "execution_count": null,
   "id": "bb8548df",
   "metadata": {},
   "outputs": [],
   "source": []
  }
 ],
 "metadata": {
  "kernelspec": {
   "display_name": "Python 3",
   "language": "python",
   "name": "python3"
  },
  "language_info": {
   "codemirror_mode": {
    "name": "ipython",
    "version": 3
   },
   "file_extension": ".py",
   "mimetype": "text/x-python",
   "name": "python",
   "nbconvert_exporter": "python",
   "pygments_lexer": "ipython3",
   "version": "3.8.8"
  }
 },
 "nbformat": 4,
 "nbformat_minor": 5
}
