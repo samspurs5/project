{
 "cells": [
  {
   "cell_type": "markdown",
   "id": "abb327ee",
   "metadata": {},
   "source": [
    "# SETUP"
   ]
  },
  {
   "cell_type": "markdown",
   "id": "ec6296aa",
   "metadata": {},
   "source": [
    "The first part of the code sets up the pca_wavelet network, the training comes later. Most of this code comes from the original authors"
   ]
  },
  {
   "cell_type": "code",
   "execution_count": 1,
   "id": "985217e7",
   "metadata": {},
   "outputs": [
    {
     "name": "stdout",
     "output_type": "stream",
     "text": [
      "GPU device not found\n",
      "Found GPU at: \n"
     ]
    }
   ],
   "source": [
    "import sys\n",
    "sys.path.append('../segmentation_helper')\n",
    "\n",
    "import tensorflow as tf\n",
    "import keras\n",
    "import tqdm\n",
    "import matplotlib.pyplot as plt\n",
    "import numpy as np\n",
    "import data_loader as dl\n",
    "import model_broker as mb\n",
    "import os\n",
    "import gc"
   ]
  },
  {
   "cell_type": "code",
   "execution_count": 2,
   "id": "8912e566",
   "metadata": {},
   "outputs": [
    {
     "data": {
      "text/plain": [
       "15"
      ]
     },
     "execution_count": 2,
     "metadata": {},
     "output_type": "execute_result"
    }
   ],
   "source": [
    "gc.collect()"
   ]
  },
  {
   "cell_type": "code",
   "execution_count": 3,
   "id": "37602504",
   "metadata": {},
   "outputs": [],
   "source": [
    "tf.keras.backend.set_floatx(\"float64\")"
   ]
  },
  {
   "cell_type": "code",
   "execution_count": 4,
   "id": "f2598a9e",
   "metadata": {},
   "outputs": [],
   "source": [
    "dataset = \"pets\"\n",
    "loader = dl.DataLoader(IMAGE_SIZE=128,dataset=dataset)\n",
    "img_ds = loader.import_processed_img()\n",
    "seg_ds = loader.import_processed_seg()"
   ]
  },
  {
   "cell_type": "code",
   "execution_count": 10,
   "id": "b0c7c570",
   "metadata": {},
   "outputs": [],
   "source": [
    "cardinality = img_ds.cardinality()\n",
    "train_size = 7000\n",
    "img_train = img_ds.take(train_size)\n",
    "seg_train = seg_ds.take(train_size)\n",
    "img_test = img_ds.skip(train_size)\n",
    "seg_test = seg_ds.skip(train_size)"
   ]
  },
  {
   "cell_type": "code",
   "execution_count": 12,
   "id": "3fb70530",
   "metadata": {
    "scrolled": true
   },
   "outputs": [
    {
     "name": "stdout",
     "output_type": "stream",
     "text": [
      "keep_percent 0.20629283704945683\n",
      "meanimg.dtype <dtype: 'float64'>\n",
      "self.mean.dtype <dtype: 'float64'>\n",
      "self.mean.dtype <dtype: 'float64'>\n",
      "Starting level 0\n",
      "Completing 64.0\n",
      "pca shape tf.Tensor([27 27], shape=(2,), dtype=int32)\n",
      "keep_channels 5 keep_max 12.0\n",
      "keep_channels 5\n",
      "ufilts.shape (1, 1, 1, 27, 5)\n",
      "end loop 64.0\n",
      "Starting level 1\n"
     ]
    },
    {
     "name": "stderr",
     "output_type": "stream",
     "text": [
      "C:\\Users\\spurl\\AppData\\Local\\Temp\\__autograph_generated_filet9nmd4vv.py:40: SyntaxWarning: \"is\" with a literal. Did you mean \"==\"?\n",
      "  ag__.if_stmt((ag__.ld(self).data_format is 'channels_first'), if_body, else_body, get_state, set_state, ('pad',), 1)\n",
      "C:\\Users\\spurl\\AppData\\Local\\Temp\\__autograph_generated_filet9nmd4vv.py:42: SyntaxWarning: \"is\" with a literal. Did you mean \"==\"?\n",
      "  ag__.if_stmt((ag__.ld(self).data_format is 'channels_last'), if_body_1, else_body_1, get_state_1, set_state_1, ('pad',), 1)\n"
     ]
    },
    {
     "name": "stdout",
     "output_type": "stream",
     "text": [
      "Completing 32.0\n",
      "pca shape tf.Tensor([45 45], shape=(2,), dtype=int32)\n",
      "keep_channels 9 keep_max 80.0\n",
      "keep_channels 9\n",
      "ufilts.shape (1, 1, 1, 45, 9)\n",
      "end loop 32.0\n",
      "Starting level 2\n",
      "Completing 16.0\n",
      "pca shape tf.Tensor([81 81], shape=(2,), dtype=int32)\n",
      "keep_channels 16 keep_max 576.0\n",
      "keep_channels 16\n",
      "ufilts.shape (1, 1, 1, 81, 16)\n",
      "end loop 16.0\n",
      "saving to: models/pets_img\n",
      "out.shape (1, 16, 16, 16)\n",
      "keep_percent 0.20629283704945683\n",
      "meanimg.dtype <dtype: 'float64'>\n",
      "self.mean.dtype <dtype: 'float64'>\n",
      "self.mean.dtype <dtype: 'float64'>\n",
      "Starting level 0\n",
      "Completing 64.0\n",
      "pca shape tf.Tensor([27 27], shape=(2,), dtype=int32)\n",
      "keep_channels 5 keep_max 12.0\n",
      "keep_channels 5\n",
      "ufilts.shape (1, 1, 1, 27, 5)\n",
      "end loop 64.0\n",
      "Starting level 1\n",
      "Completing 32.0\n",
      "pca shape tf.Tensor([45 45], shape=(2,), dtype=int32)\n",
      "keep_channels 9 keep_max 80.0\n",
      "keep_channels 9\n",
      "ufilts.shape (1, 1, 1, 45, 9)\n",
      "end loop 32.0\n",
      "Starting level 2\n",
      "Completing 16.0\n",
      "pca shape tf.Tensor([81 81], shape=(2,), dtype=int32)\n",
      "keep_channels 16 keep_max 576.0\n",
      "keep_channels 16\n",
      "ufilts.shape (1, 1, 1, 81, 16)\n",
      "end loop 16.0\n",
      "sample.shape (128, 128, 3)\n",
      "after reshape: sample.shape (1, 128, 128, 3)\n",
      "loading from: models/pets_img\n",
      "out.shape (1, 16, 16, 16)\n",
      "WARNING:tensorflow:Layers in a Sequential model should only have a single input tensor, but we receive a <class 'list'> input: [<tf.Tensor: shape=(128, 128, 3), dtype=float64, numpy=\n",
      "array([[[0.81798166, 0.73197001, 0.7411564 ],\n",
      "        [0.75214791, 0.65082604, 0.63651937],\n",
      "        [0.74894232, 0.63819271, 0.62207341],\n",
      "        ...,\n",
      "        [0.92448515, 0.92448515, 0.92448515],\n",
      "        [0.92936224, 0.92936224, 0.92936224],\n",
      "        [0.92763484, 0.92763484, 0.92763484]],\n",
      "\n",
      "       [[0.81168455, 0.71747142, 0.72539109],\n",
      "        [0.86471999, 0.81362736, 0.76886058],\n",
      "        [0.84084451, 0.70659471, 0.67284513],\n",
      "        ...,\n",
      "        [0.92156863, 0.92156863, 0.92156863],\n",
      "        [0.92422956, 0.92422956, 0.92422956],\n",
      "        [0.92763484, 0.92763484, 0.92763484]],\n",
      "\n",
      "       [[0.8126139 , 0.69517463, 0.68207723],\n",
      "        [0.84020138, 0.76338321, 0.7064544 ],\n",
      "        [0.83109057, 0.71486604, 0.65730655],\n",
      "        ...,\n",
      "        [0.92225796, 0.92225796, 0.92225796],\n",
      "        [0.92156863, 0.92156863, 0.92156863],\n",
      "        [0.92763484, 0.92763484, 0.92763484]],\n",
      "\n",
      "       ...,\n",
      "\n",
      "       [[0.88158697, 0.8449142 , 0.85736823],\n",
      "        [0.87607282, 0.85047537, 0.85900784],\n",
      "        [0.90342921, 0.86813509, 0.87953359],\n",
      "        ...,\n",
      "        [0.90199357, 0.86498231, 0.87898433],\n",
      "        [0.89709473, 0.85972732, 0.8807165 ],\n",
      "        [0.87433529, 0.85934103, 0.87188101]],\n",
      "\n",
      "       [[0.90546876, 0.86233151, 0.87801778],\n",
      "        [0.89552695, 0.85238969, 0.86807597],\n",
      "        [0.89793462, 0.86211705, 0.87338418],\n",
      "        ...,\n",
      "        [0.90546876, 0.88193935, 0.89762563],\n",
      "        [0.90181214, 0.87828273, 0.893969  ],\n",
      "        [0.90980393, 0.87450981, 0.88627452]],\n",
      "\n",
      "       [[0.90565616, 0.87058824, 0.88227755],\n",
      "        [0.88897419, 0.84601361, 0.86161155],\n",
      "        [0.89463252, 0.85444844, 0.86145836],\n",
      "        ...,\n",
      "        [0.90484071, 0.8637135 , 0.88623792],\n",
      "        [0.90319341, 0.86780024, 0.88745761],\n",
      "        [0.90012139, 0.86482728, 0.87659198]]])>]\n",
      "Consider rewriting this model with the Functional API.\n"
     ]
    },
    {
     "name": "stderr",
     "output_type": "stream",
     "text": [
      "WARNING:tensorflow:Layers in a Sequential model should only have a single input tensor, but we receive a <class 'list'> input: [<tf.Tensor: shape=(128, 128, 3), dtype=float64, numpy=\n",
      "array([[[0.81798166, 0.73197001, 0.7411564 ],\n",
      "        [0.75214791, 0.65082604, 0.63651937],\n",
      "        [0.74894232, 0.63819271, 0.62207341],\n",
      "        ...,\n",
      "        [0.92448515, 0.92448515, 0.92448515],\n",
      "        [0.92936224, 0.92936224, 0.92936224],\n",
      "        [0.92763484, 0.92763484, 0.92763484]],\n",
      "\n",
      "       [[0.81168455, 0.71747142, 0.72539109],\n",
      "        [0.86471999, 0.81362736, 0.76886058],\n",
      "        [0.84084451, 0.70659471, 0.67284513],\n",
      "        ...,\n",
      "        [0.92156863, 0.92156863, 0.92156863],\n",
      "        [0.92422956, 0.92422956, 0.92422956],\n",
      "        [0.92763484, 0.92763484, 0.92763484]],\n",
      "\n",
      "       [[0.8126139 , 0.69517463, 0.68207723],\n",
      "        [0.84020138, 0.76338321, 0.7064544 ],\n",
      "        [0.83109057, 0.71486604, 0.65730655],\n",
      "        ...,\n",
      "        [0.92225796, 0.92225796, 0.92225796],\n",
      "        [0.92156863, 0.92156863, 0.92156863],\n",
      "        [0.92763484, 0.92763484, 0.92763484]],\n",
      "\n",
      "       ...,\n",
      "\n",
      "       [[0.88158697, 0.8449142 , 0.85736823],\n",
      "        [0.87607282, 0.85047537, 0.85900784],\n",
      "        [0.90342921, 0.86813509, 0.87953359],\n",
      "        ...,\n",
      "        [0.90199357, 0.86498231, 0.87898433],\n",
      "        [0.89709473, 0.85972732, 0.8807165 ],\n",
      "        [0.87433529, 0.85934103, 0.87188101]],\n",
      "\n",
      "       [[0.90546876, 0.86233151, 0.87801778],\n",
      "        [0.89552695, 0.85238969, 0.86807597],\n",
      "        [0.89793462, 0.86211705, 0.87338418],\n",
      "        ...,\n",
      "        [0.90546876, 0.88193935, 0.89762563],\n",
      "        [0.90181214, 0.87828273, 0.893969  ],\n",
      "        [0.90980393, 0.87450981, 0.88627452]],\n",
      "\n",
      "       [[0.90565616, 0.87058824, 0.88227755],\n",
      "        [0.88897419, 0.84601361, 0.86161155],\n",
      "        [0.89463252, 0.85444844, 0.86145836],\n",
      "        ...,\n",
      "        [0.90484071, 0.8637135 , 0.88623792],\n",
      "        [0.90319341, 0.86780024, 0.88745761],\n",
      "        [0.90012139, 0.86482728, 0.87659198]]])>]\n",
      "Consider rewriting this model with the Functional API.\n"
     ]
    },
    {
     "name": "stdout",
     "output_type": "stream",
     "text": [
      "sample.shape (128, 128, 3)\n",
      "pred.shape (1, 16, 16, 16)\n",
      "recon.shape (128, 128, 3)\n",
      "sample.dtype <dtype: 'float64'>\n",
      "recon[0].dtype <dtype: 'float64'>\n",
      "np.prod(sample.shape) 49152\n",
      "psnr =  22.84241808458861\n",
      "ncc =  [[1.         0.94659767]\n",
      " [0.94659767 1.        ]]\n",
      "sample[30:34,30:34,0] tf.Tensor(\n",
      "[[0.70621312 0.69431227 0.68545997 0.67965233]\n",
      " [0.7683022  0.78843206 0.76961148 0.72066844]\n",
      " [0.78710169 0.80666125 0.80945158 0.80692858]\n",
      " [0.75404871 0.80453336 0.82834762 0.81671095]], shape=(4, 4), dtype=float64)\n",
      "recon[30:34,30:34,0] tf.Tensor(\n",
      "[[0.71010117 0.68851377 0.69100588 0.6779951 ]\n",
      " [0.70562171 0.69500995 0.68557774 0.67469868]\n",
      " [0.72002432 0.70166569 0.70806986 0.69404753]\n",
      " [0.73460638 0.71593037 0.72298817 0.72222396]], shape=(4, 4), dtype=float64)\n"
     ]
    },
    {
     "data": {
      "text/plain": [
       "(22.84241808458861,\n",
       " array([[1.        , 0.94659767],\n",
       "        [0.94659767, 1.        ]]))"
      ]
     },
     "execution_count": 12,
     "metadata": {},
     "output_type": "execute_result"
    },
    {
     "data": {
      "image/png": "[encoded data removed]",
      "text/plain": [
       "<Figure size 432x288 with 4 Axes>"
      ]
     },
     "metadata": {
      "needs_background": "light"
     },
     "output_type": "display_data"
    }
   ],
   "source": [
    "img_broker = mb.ModelBroker(trainset=img_train,\n",
    "                            testset=img_test,\n",
    "                            dirname=dataset+\"_img\",\n",
    "                            keep_percent=0.1,\n",
    "                            count=3,\n",
    "                            sample_size=100)\n",
    "                            #activity_regularizer = scaledtanh,\n",
    "                            #inverse_activity_regularizer=scaledatanh,\n",
    "                            #activation_before=True)\n",
    "imghead,imginvhead = img_broker.build_model()\n",
    "imghead,imginvhead = img_broker.load_model()                                      \n",
    "img_broker.check_build(imghead,imginvhead,img_train)"
   ]
  },
  {
   "cell_type": "code",
   "execution_count": 13,
   "id": "8f88d27e",
   "metadata": {},
   "outputs": [
    {
     "name": "stdout",
     "output_type": "stream",
     "text": [
      "keep_percent 0.20629283704945683\n",
      "meanimg.dtype <dtype: 'float64'>\n",
      "self.mean.dtype <dtype: 'float64'>\n",
      "self.mean.dtype <dtype: 'float64'>\n",
      "Starting level 0\n",
      "Completing 64.0\n",
      "pca shape tf.Tensor([27 27], shape=(2,), dtype=int32)\n",
      "keep_channels 5 keep_max 12.0\n",
      "keep_channels 5\n",
      "ufilts.shape (1, 1, 1, 27, 5)\n",
      "end loop 64.0\n",
      "Starting level 1\n",
      "Completing 32.0\n",
      "pca shape tf.Tensor([45 45], shape=(2,), dtype=int32)\n",
      "keep_channels 9 keep_max 80.0\n",
      "keep_channels 9\n",
      "ufilts.shape (1, 1, 1, 45, 9)\n",
      "end loop 32.0\n",
      "Starting level 2\n",
      "Completing 16.0\n",
      "pca shape tf.Tensor([81 81], shape=(2,), dtype=int32)\n",
      "keep_channels 16 keep_max 576.0\n",
      "keep_channels 16\n",
      "ufilts.shape (1, 1, 1, 81, 16)\n",
      "end loop 16.0\n",
      "saving to: models/pets_seg\n",
      "out.shape (1, 16, 16, 16)\n",
      "keep_percent 0.20629283704945683\n",
      "meanimg.dtype <dtype: 'float64'>\n",
      "self.mean.dtype <dtype: 'float64'>\n",
      "self.mean.dtype <dtype: 'float64'>\n",
      "Starting level 0\n",
      "Completing 64.0\n",
      "pca shape tf.Tensor([27 27], shape=(2,), dtype=int32)\n",
      "keep_channels 5 keep_max 12.0\n",
      "keep_channels 5\n",
      "ufilts.shape (1, 1, 1, 27, 5)\n",
      "end loop 64.0\n",
      "Starting level 1\n",
      "Completing 32.0\n",
      "pca shape tf.Tensor([45 45], shape=(2,), dtype=int32)\n",
      "keep_channels 9 keep_max 80.0\n",
      "keep_channels 9\n",
      "ufilts.shape (1, 1, 1, 45, 9)\n",
      "end loop 32.0\n",
      "Starting level 2\n",
      "Completing 16.0\n",
      "pca shape tf.Tensor([81 81], shape=(2,), dtype=int32)\n",
      "keep_channels 16 keep_max 576.0\n",
      "keep_channels 16\n",
      "ufilts.shape (1, 1, 1, 81, 16)\n",
      "end loop 16.0\n",
      "sample.shape (128, 128, 3)\n",
      "after reshape: sample.shape (1, 128, 128, 3)\n",
      "loading from: models/pets_seg\n",
      "out.shape (1, 16, 16, 16)\n",
      "WARNING:tensorflow:Layers in a Sequential model should only have a single input tensor, but we receive a <class 'list'> input: [<tf.Tensor: shape=(128, 128, 3), dtype=float64, numpy=\n",
      "array([[[0.84077579, 0.82043266, 0.85002828],\n",
      "        [0.75807554, 0.76340646, 0.76702166],\n",
      "        [0.79583001, 0.79583001, 0.78798687],\n",
      "        ...,\n",
      "        [0.18732743, 0.19736113, 0.22285205],\n",
      "        [0.37809271, 0.49217317, 0.43411916],\n",
      "        [0.64405996, 0.72917837, 0.66868997]],\n",
      "\n",
      "       [[0.82052076, 0.78886533, 0.83022559],\n",
      "        [0.76276493, 0.76386791, 0.78096348],\n",
      "        [0.72815323, 0.72815323, 0.72546244],\n",
      "        ...,\n",
      "        [0.41054496, 0.50570381, 0.44661242],\n",
      "        [0.187213  , 0.25816149, 0.22587438],\n",
      "        [0.69288808, 0.82094103, 0.77294326]],\n",
      "\n",
      "       [[0.7884658 , 0.75813496, 0.78987515],\n",
      "        [0.7810303 , 0.77799195, 0.7996704 ],\n",
      "        [0.7547586 , 0.7547586 , 0.7547586 ],\n",
      "        ...,\n",
      "        [0.19370285, 0.17014207, 0.17250043],\n",
      "        [0.40280718, 0.49493387, 0.47501391],\n",
      "        [0.59110034, 0.67578173, 0.64795977]],\n",
      "\n",
      "       ...,\n",
      "\n",
      "       [[0.91644239, 0.94908637, 0.93761277],\n",
      "        [0.83577758, 0.88079166, 0.86692566],\n",
      "        [0.47230873, 0.49146274, 0.46952432],\n",
      "        ...,\n",
      "        [0.62872559, 0.56489068, 0.51766407],\n",
      "        [0.65602309, 0.64966804, 0.59666872],\n",
      "        [0.64952874, 0.65211499, 0.62205648]],\n",
      "\n",
      "       [[0.86334062, 0.86877513, 0.86553115],\n",
      "        [0.91328746, 0.93595737, 0.92743564],\n",
      "        [0.81449026, 0.84145105, 0.82184321],\n",
      "        ...,\n",
      "        [0.63316411, 0.60842985, 0.53478003],\n",
      "        [0.77486765, 0.79374641, 0.7666983 ],\n",
      "        [0.65614474, 0.67719251, 0.67017657]],\n",
      "\n",
      "       [[0.87881386, 0.92195112, 0.90283585],\n",
      "        [0.5851177 , 0.60693145, 0.57939214],\n",
      "        [0.7221812 , 0.73741984, 0.70872468],\n",
      "        ...,\n",
      "        [0.82650435, 0.83696026, 0.80318868],\n",
      "        [0.64135361, 0.66580933, 0.63985598],\n",
      "        [0.84720027, 0.87929279, 0.8503406 ]]])>]\n",
      "Consider rewriting this model with the Functional API.\n"
     ]
    },
    {
     "name": "stderr",
     "output_type": "stream",
     "text": [
      "WARNING:tensorflow:Layers in a Sequential model should only have a single input tensor, but we receive a <class 'list'> input: [<tf.Tensor: shape=(128, 128, 3), dtype=float64, numpy=\n",
      "array([[[0.84077579, 0.82043266, 0.85002828],\n",
      "        [0.75807554, 0.76340646, 0.76702166],\n",
      "        [0.79583001, 0.79583001, 0.78798687],\n",
      "        ...,\n",
      "        [0.18732743, 0.19736113, 0.22285205],\n",
      "        [0.37809271, 0.49217317, 0.43411916],\n",
      "        [0.64405996, 0.72917837, 0.66868997]],\n",
      "\n",
      "       [[0.82052076, 0.78886533, 0.83022559],\n",
      "        [0.76276493, 0.76386791, 0.78096348],\n",
      "        [0.72815323, 0.72815323, 0.72546244],\n",
      "        ...,\n",
      "        [0.41054496, 0.50570381, 0.44661242],\n",
      "        [0.187213  , 0.25816149, 0.22587438],\n",
      "        [0.69288808, 0.82094103, 0.77294326]],\n",
      "\n",
      "       [[0.7884658 , 0.75813496, 0.78987515],\n",
      "        [0.7810303 , 0.77799195, 0.7996704 ],\n",
      "        [0.7547586 , 0.7547586 , 0.7547586 ],\n",
      "        ...,\n",
      "        [0.19370285, 0.17014207, 0.17250043],\n",
      "        [0.40280718, 0.49493387, 0.47501391],\n",
      "        [0.59110034, 0.67578173, 0.64795977]],\n",
      "\n",
      "       ...,\n",
      "\n",
      "       [[0.91644239, 0.94908637, 0.93761277],\n",
      "        [0.83577758, 0.88079166, 0.86692566],\n",
      "        [0.47230873, 0.49146274, 0.46952432],\n",
      "        ...,\n",
      "        [0.62872559, 0.56489068, 0.51766407],\n",
      "        [0.65602309, 0.64966804, 0.59666872],\n",
      "        [0.64952874, 0.65211499, 0.62205648]],\n",
      "\n",
      "       [[0.86334062, 0.86877513, 0.86553115],\n",
      "        [0.91328746, 0.93595737, 0.92743564],\n",
      "        [0.81449026, 0.84145105, 0.82184321],\n",
      "        ...,\n",
      "        [0.63316411, 0.60842985, 0.53478003],\n",
      "        [0.77486765, 0.79374641, 0.7666983 ],\n",
      "        [0.65614474, 0.67719251, 0.67017657]],\n",
      "\n",
      "       [[0.87881386, 0.92195112, 0.90283585],\n",
      "        [0.5851177 , 0.60693145, 0.57939214],\n",
      "        [0.7221812 , 0.73741984, 0.70872468],\n",
      "        ...,\n",
      "        [0.82650435, 0.83696026, 0.80318868],\n",
      "        [0.64135361, 0.66580933, 0.63985598],\n",
      "        [0.84720027, 0.87929279, 0.8503406 ]]])>]\n",
      "Consider rewriting this model with the Functional API.\n",
      "WARNING:matplotlib.image:Clipping input data to the valid range for imshow with RGB data ([0..1] for floats or [0..255] for integers).\n"
     ]
    },
    {
     "name": "stdout",
     "output_type": "stream",
     "text": [
      "sample.shape (128, 128, 3)\n",
      "pred.shape (1, 16, 16, 16)\n",
      "recon.shape (128, 128, 3)\n",
      "sample.dtype <dtype: 'float64'>\n",
      "recon[0].dtype <dtype: 'float64'>\n",
      "np.prod(sample.shape) 49152\n",
      "psnr =  19.49019157221189\n",
      "ncc =  [[1.         0.96022644]\n",
      " [0.96022644 1.        ]]\n",
      "sample[30:34,30:34,0] tf.Tensor(\n",
      "[[0. 0. 0. 0.]\n",
      " [0. 0. 0. 0.]\n",
      " [0. 0. 0. 0.]\n",
      " [0. 0. 0. 0.]], shape=(4, 4), dtype=float64)\n",
      "recon[30:34,30:34,0] tf.Tensor(\n",
      "[[-0.00533521  0.00197747 -0.00751374 -0.00830283]\n",
      " [ 0.00356981  0.0172665   0.00296824  0.00265268]\n",
      " [ 0.00720699  0.01662696  0.01461023  0.00919345]\n",
      " [-0.00133319  0.0075699   0.01549511  0.01124774]], shape=(4, 4), dtype=float64)\n"
     ]
    },
    {
     "data": {
      "text/plain": [
       "(19.49019157221189,\n",
       " array([[1.        , 0.96022644],\n",
       "        [0.96022644, 1.        ]]))"
      ]
     },
     "execution_count": 13,
     "metadata": {},
     "output_type": "execute_result"
    },
    {
     "data": {
      "image/png": "[encoded data removed]",
      "text/plain": [
       "<Figure size 432x288 with 4 Axes>"
      ]
     },
     "metadata": {
      "needs_background": "light"
     },
     "output_type": "display_data"
    }
   ],
   "source": [
    "seg_broker = mb.ModelBroker(trainset=seg_train,\n",
    "                            testset=seg_test,\n",
    "                            dirname=dataset+\"_seg\",\n",
    "                            keep_percent=0.1,\n",
    "                            count=3,\n",
    "                            sample_size=100)\n",
    "                            #activity_regularizer =scaledtanh ,\n",
    "                            #inverse_activity_regularizer=scaledatanh ,\n",
    "                            #activation_before=False)\n",
    "seghead,seginvhead = seg_broker.build_model()                                        \n",
    "seghead,seginvhead = seg_broker.load_model()\n",
    "seg_broker.check_build(seghead,seginvhead,seg_test)"
   ]
  },
  {
   "cell_type": "markdown",
   "id": "9b983f2c",
   "metadata": {},
   "source": [
    "# Training"
   ]
  },
  {
   "cell_type": "markdown",
   "id": "424e726f",
   "metadata": {},
   "source": [
    "This is the loop used to find the variables to find A and b in y=Ax+b"
   ]
  },
  {
   "cell_type": "code",
   "execution_count": 14,
   "id": "9ba6e772",
   "metadata": {},
   "outputs": [
    {
     "data": {
      "application/vnd.jupyter.widget-view+json": {
       "model_id": "bdcd0a598fc54489b58f5d975d6d0647",
       "version_major": 2,
       "version_minor": 0
      },
      "text/plain": [
       "  0%|          | 0/7000 [00:00<?, ?it/s]"
      ]
     },
     "metadata": {},
     "output_type": "display_data"
    },
    {
     "name": "stdout",
     "output_type": "stream",
     "text": [
      "loop calculated\n",
      "calculating inverse\n",
      "calculating A\n",
      "calculating b\n"
     ]
    }
   ],
   "source": [
    "imgflat = np.prod(imghead(next(iter(img_train))[0]).shape)\n",
    "segflat = np.prod(seghead(next(iter(seg_train))[0]).shape)\n",
    "end_shape = next(iter(seg_train))[0].shape\n",
    "n = 0.0\n",
    "\n",
    "xxt = np.zeros([imgflat])\n",
    "yxt = np.zeros([segflat])\n",
    "x = np.zeros([imgflat])\n",
    "y = np.zeros([segflat]) \n",
    "\n",
    "bar = tqdm.notebook.tqdm(total = int(img_train.cardinality()))\n",
    "\n",
    "for item in iter(zip(img_train,seg_train)):\n",
    "\n",
    "    bar.update(1)\n",
    "\n",
    "    image = item[0][0]\n",
    "    segmentation = item[1][0]\n",
    "\n",
    "    imgdecom = imghead(image)\n",
    "    segdecom = seghead(segmentation)\n",
    "\n",
    "    mat = tf.reshape(imgdecom,[-1])\n",
    "    segmat = tf.reshape(segdecom,[-1])\n",
    "\n",
    "    cov = tf.matmul([mat],[mat],transpose_a=True)\n",
    "    xxt += cov\n",
    "    segcov = tf.matmul([mat],[segmat],transpose_a=True)\n",
    "    yxt += segcov\n",
    "    x+=mat\n",
    "    y+=segmat\n",
    "    n += 1\n",
    "\n",
    "print(\"loop calculated\")\n",
    "xxt = xxt - tf.matmul([x],[x],transpose_a=True)/n\n",
    "yxt = yxt - tf.matmul([x],[y],transpose_a=True)/n\n",
    "print(\"calculating inverse\")\n",
    "inverse_xxt = tf.linalg.pinv(xxt)\n",
    "print(\"calculating A\")\n",
    "A = tf.linalg.matmul(inverse_xxt,yxt)\n",
    "print(\"calculating b\")\n",
    "b = (y - tf.linalg.matvec(A,x,transpose_a=True))/n"
   ]
  },
  {
   "cell_type": "code",
   "execution_count": null,
   "id": "aecc01a7",
   "metadata": {},
   "outputs": [],
   "source": [
    "threshold_intensity = 0.01\n",
    "dice_coeff_vals = []\n",
    "iou_coeff_vals = []\n",
    "n = 0\n",
    "reconstruct = seghead(next(iter(seg_ds))[0]).shape\n",
    "for image,seg_base in iter(zip(img_ds,seg_ds)):\n",
    "    imgdecom = imghead(image[0])\n",
    "    imgdecom = tf.reshape(imgdecom,(1,-1))\n",
    "    segdecom = tf.linalg.matvec(A,imgdecom,transpose_a=True)+b\n",
    "    seg = seginvhead(tf.reshape(segdecom,(reconstruct)))\n",
    "    y_true = tf.cast(tf.reduce_min(seg_base[0],2)==0,tf.float64)\n",
    "    y_pred = tf.cast(tf.reduce_min(seg[0],2)<threshold_intensity,tf.float64)\n",
    "    dice_coeff_vals.append(dice_coef(y_true,y_pred))\n",
    "    iou_coeff_vals.append(iou_coef(y_true,y_pred))\n",
    "    n+=1"
   ]
  },
  {
   "cell_type": "code",
   "execution_count": null,
   "id": "3005b4dd",
   "metadata": {},
   "outputs": [],
   "source": [
    "img_train, img_test = loader.import_processed_img()"
   ]
  },
  {
   "cell_type": "code",
   "execution_count": null,
   "id": "605e7dbc",
   "metadata": {},
   "outputs": [],
   "source": [
    "threshold_intensity = 0.1\n",
    "\n",
    "image,seg_base = next(iter(zip(img_train,seg_train)))\n",
    "imgdecom = imghead(image[0])\n",
    "\n",
    "conv = tf.nn.conv2d(imgdecom, A_filter,1,\"VALID\")\n",
    "conv = tf.nn.bias_add(conv,b)\n",
    "seg = seginvhead(conv)\n",
    "\n",
    "plt.subplot(2,1,1)\n",
    "plt.imshow(np.hstack([image,seg_base,seg[0]]))\n",
    "plt.subplot(2,1,2)\n",
    "plt.imshow(np.hstack([tf.reduce_min(seg_base,2)==0,tf.reduce_min(seg[0],2)<threshold_intensity]))"
   ]
  },
  {
   "cell_type": "code",
   "execution_count": null,
   "id": "3b0014b6",
   "metadata": {},
   "outputs": [],
   "source": []
  },
  {
   "cell_type": "code",
   "execution_count": null,
   "id": "89c5ee79",
   "metadata": {},
   "outputs": [],
   "source": []
  }
 ],
 "metadata": {
  "kernelspec": {
   "display_name": "Python 3",
   "language": "python",
   "name": "python3"
  },
  "language_info": {
   "codemirror_mode": {
    "name": "ipython",
    "version": 3
   },
   "file_extension": ".py",
   "mimetype": "text/x-python",
   "name": "python",
   "nbconvert_exporter": "python",
   "pygments_lexer": "ipython3",
   "version": "3.8.8"
  }
 },
 "nbformat": 4,
 "nbformat_minor": 5
}
