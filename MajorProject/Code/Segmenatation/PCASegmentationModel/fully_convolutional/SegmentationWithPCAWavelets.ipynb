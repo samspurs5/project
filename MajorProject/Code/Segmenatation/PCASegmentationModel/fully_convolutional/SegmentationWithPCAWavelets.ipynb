{
 "cells": [
  {
   "cell_type": "markdown",
   "id": "abb327ee",
   "metadata": {},
   "source": [
    "# SETUP"
   ]
  },
  {
   "cell_type": "markdown",
   "id": "ec6296aa",
   "metadata": {},
   "source": [
    "The first part of the code sets up the pca_wavelet network, the training comes later. Most of this code comes from the original authors"
   ]
  },
  {
   "cell_type": "code",
   "execution_count": 1,
   "id": "985217e7",
   "metadata": {},
   "outputs": [
    {
     "name": "stdout",
     "output_type": "stream",
     "text": [
      "GPU device not found\n",
      "Found GPU at: \n"
     ]
    }
   ],
   "source": [
    "import sys\n",
    "sys.path.append('../segmentation_helper')\n",
    "\n",
    "import tensorflow as tf\n",
    "import keras\n",
    "import tqdm\n",
    "import matplotlib.pyplot as plt\n",
    "import numpy as np\n",
    "import data_loader as dl\n",
    "import model_broker as mb\n",
    "import os\n",
    "import gc"
   ]
  },
  {
   "cell_type": "code",
   "execution_count": 2,
   "id": "8912e566",
   "metadata": {},
   "outputs": [
    {
     "data": {
      "text/plain": [
       "15"
      ]
     },
     "execution_count": 2,
     "metadata": {},
     "output_type": "execute_result"
    }
   ],
   "source": [
    "gc.collect()"
   ]
  },
  {
   "cell_type": "code",
   "execution_count": 3,
   "id": "37602504",
   "metadata": {},
   "outputs": [],
   "source": [
    "tf.keras.backend.set_floatx(\"float64\")"
   ]
  },
  {
   "cell_type": "code",
   "execution_count": 4,
   "id": "f2598a9e",
   "metadata": {},
   "outputs": [],
   "source": [
    "dataset = \"pets\"\n",
    "loader = dl.DataLoader(IMAGE_SIZE=128,dataset=dataset)\n",
    "img_ds = loader.import_processed_img()\n",
    "seg_ds = loader.import_processed_seg()"
   ]
  },
  {
   "cell_type": "code",
   "execution_count": 28,
   "id": "b0c7c570",
   "metadata": {},
   "outputs": [],
   "source": [
    "cardinality = img_ds.cardinality()\n",
    "train_size = 1000\n",
    "img_train = img_ds.take(train_size)\n",
    "seg_train = seg_ds.take(train_size)\n",
    "img_test = img_ds.skip(train_size)\n",
    "seg_test = seg_ds.skip(train_size)"
   ]
  },
  {
   "cell_type": "code",
   "execution_count": 122,
   "id": "3fb70530",
   "metadata": {
    "scrolled": true
   },
   "outputs": [
    {
     "name": "stdout",
     "output_type": "stream",
     "text": [
      "keep_percent 0.29752575559207534\n",
      "meanimg.dtype <dtype: 'float64'>\n",
      "self.mean.dtype <dtype: 'float64'>\n",
      "self.mean.dtype <dtype: 'float64'>\n",
      "Starting level 0\n",
      "Completing 64.0\n",
      "pca shape tf.Tensor([27 27], shape=(2,), dtype=int32)\n",
      "keep_channels 8 keep_max 12.0\n",
      "keep_channels 8\n",
      "ufilts.shape (1, 1, 1, 27, 8)\n",
      "end loop 64.0\n",
      "Starting level 1\n",
      "Completing 32.0\n",
      "pca shape tf.Tensor([72 72], shape=(2,), dtype=int32)\n",
      "keep_channels 21 keep_max 128.0\n",
      "keep_channels 21\n",
      "ufilts.shape (1, 1, 1, 72, 21)\n",
      "end loop 32.0\n",
      "Starting level 2\n",
      "Completing 16.0\n",
      "pca shape tf.Tensor([189 189], shape=(2,), dtype=int32)\n",
      "keep_channels 56 keep_max 1344.0\n",
      "keep_channels 56\n",
      "ufilts.shape (1, 1, 1, 189, 56)\n",
      "end loop 16.0\n",
      "saving to: models/pets_img\n",
      "out.shape (1, 16, 16, 56)\n",
      "keep_percent 0.29752575559207534\n",
      "meanimg.dtype <dtype: 'float64'>\n",
      "self.mean.dtype <dtype: 'float64'>\n",
      "self.mean.dtype <dtype: 'float64'>\n",
      "Starting level 0\n",
      "Completing 64.0\n",
      "pca shape tf.Tensor([27 27], shape=(2,), dtype=int32)\n",
      "keep_channels 8 keep_max 12.0\n",
      "keep_channels 8\n",
      "ufilts.shape (1, 1, 1, 27, 8)\n",
      "end loop 64.0\n",
      "Starting level 1\n",
      "Completing 32.0\n",
      "pca shape tf.Tensor([72 72], shape=(2,), dtype=int32)\n",
      "keep_channels 21 keep_max 128.0\n",
      "keep_channels 21\n",
      "ufilts.shape (1, 1, 1, 72, 21)\n",
      "end loop 32.0\n",
      "Starting level 2\n",
      "Completing 16.0\n",
      "pca shape tf.Tensor([189 189], shape=(2,), dtype=int32)\n",
      "keep_channels 56 keep_max 1344.0\n",
      "keep_channels 56\n",
      "ufilts.shape (1, 1, 1, 189, 56)\n",
      "end loop 16.0\n",
      "sample.shape (128, 128, 3)\n",
      "after reshape: sample.shape (1, 128, 128, 3)\n",
      "loading from: models/pets_img\n",
      "out.shape (1, 16, 16, 56)\n",
      "WARNING:tensorflow:Layers in a Sequential model should only have a single input tensor, but we receive a <class 'list'> input: [<tf.Tensor: shape=(128, 128, 3), dtype=float64, numpy=\n",
      "array([[[0.03921569, 0.03921569, 0.03921569],\n",
      "        [0.03921569, 0.03921569, 0.03921569],\n",
      "        [0.03921569, 0.03921569, 0.03921569],\n",
      "        ...,\n",
      "        [0.03921569, 0.03921569, 0.03921569],\n",
      "        [0.03921569, 0.03921569, 0.03921569],\n",
      "        [0.03921569, 0.03921569, 0.03921569]],\n",
      "\n",
      "       [[0.03921569, 0.03921569, 0.03921569],\n",
      "        [0.03921569, 0.03921569, 0.03921569],\n",
      "        [0.03921569, 0.03921569, 0.03921569],\n",
      "        ...,\n",
      "        [0.03921569, 0.03921569, 0.03921569],\n",
      "        [0.03921569, 0.03921569, 0.03921569],\n",
      "        [0.03921569, 0.03921569, 0.03921569]],\n",
      "\n",
      "       [[0.03921569, 0.03921569, 0.03921569],\n",
      "        [0.03921569, 0.03921569, 0.03921569],\n",
      "        [0.03921569, 0.03921569, 0.03921569],\n",
      "        ...,\n",
      "        [0.03921569, 0.03921569, 0.03921569],\n",
      "        [0.03921569, 0.03921569, 0.03921569],\n",
      "        [0.03921569, 0.03921569, 0.03921569]],\n",
      "\n",
      "       ...,\n",
      "\n",
      "       [[0.03921569, 0.03921569, 0.03921569],\n",
      "        [0.03921569, 0.03921569, 0.03959004],\n",
      "        [0.03921569, 0.03921569, 0.03921569],\n",
      "        ...,\n",
      "        [0.03921569, 0.03921569, 0.03921569],\n",
      "        [0.03921569, 0.03921569, 0.03921569],\n",
      "        [0.03921569, 0.03921569, 0.03921569]],\n",
      "\n",
      "       [[0.03921569, 0.03921569, 0.03921569],\n",
      "        [0.03921569, 0.04011853, 0.03921569],\n",
      "        [0.03921569, 0.03921569, 0.04055033],\n",
      "        ...,\n",
      "        [0.03921569, 0.03921569, 0.04106063],\n",
      "        [0.03921569, 0.03921569, 0.03921569],\n",
      "        [0.03921569, 0.03921569, 0.03921569]],\n",
      "\n",
      "       [[0.03921569, 0.03921569, 0.04018746],\n",
      "        [0.03921569, 0.03921569, 0.04226314],\n",
      "        [0.03921569, 0.03978535, 0.04370692],\n",
      "        ...,\n",
      "        [0.03921569, 0.03921569, 0.03921569],\n",
      "        [0.03921569, 0.03921569, 0.03921569],\n",
      "        [0.03921569, 0.03921569, 0.03921569]]])>]\n",
      "Consider rewriting this model with the Functional API.\n"
     ]
    },
    {
     "name": "stderr",
     "output_type": "stream",
     "text": [
      "WARNING:tensorflow:Layers in a Sequential model should only have a single input tensor, but we receive a <class 'list'> input: [<tf.Tensor: shape=(128, 128, 3), dtype=float64, numpy=\n",
      "array([[[0.03921569, 0.03921569, 0.03921569],\n",
      "        [0.03921569, 0.03921569, 0.03921569],\n",
      "        [0.03921569, 0.03921569, 0.03921569],\n",
      "        ...,\n",
      "        [0.03921569, 0.03921569, 0.03921569],\n",
      "        [0.03921569, 0.03921569, 0.03921569],\n",
      "        [0.03921569, 0.03921569, 0.03921569]],\n",
      "\n",
      "       [[0.03921569, 0.03921569, 0.03921569],\n",
      "        [0.03921569, 0.03921569, 0.03921569],\n",
      "        [0.03921569, 0.03921569, 0.03921569],\n",
      "        ...,\n",
      "        [0.03921569, 0.03921569, 0.03921569],\n",
      "        [0.03921569, 0.03921569, 0.03921569],\n",
      "        [0.03921569, 0.03921569, 0.03921569]],\n",
      "\n",
      "       [[0.03921569, 0.03921569, 0.03921569],\n",
      "        [0.03921569, 0.03921569, 0.03921569],\n",
      "        [0.03921569, 0.03921569, 0.03921569],\n",
      "        ...,\n",
      "        [0.03921569, 0.03921569, 0.03921569],\n",
      "        [0.03921569, 0.03921569, 0.03921569],\n",
      "        [0.03921569, 0.03921569, 0.03921569]],\n",
      "\n",
      "       ...,\n",
      "\n",
      "       [[0.03921569, 0.03921569, 0.03921569],\n",
      "        [0.03921569, 0.03921569, 0.03959004],\n",
      "        [0.03921569, 0.03921569, 0.03921569],\n",
      "        ...,\n",
      "        [0.03921569, 0.03921569, 0.03921569],\n",
      "        [0.03921569, 0.03921569, 0.03921569],\n",
      "        [0.03921569, 0.03921569, 0.03921569]],\n",
      "\n",
      "       [[0.03921569, 0.03921569, 0.03921569],\n",
      "        [0.03921569, 0.04011853, 0.03921569],\n",
      "        [0.03921569, 0.03921569, 0.04055033],\n",
      "        ...,\n",
      "        [0.03921569, 0.03921569, 0.04106063],\n",
      "        [0.03921569, 0.03921569, 0.03921569],\n",
      "        [0.03921569, 0.03921569, 0.03921569]],\n",
      "\n",
      "       [[0.03921569, 0.03921569, 0.04018746],\n",
      "        [0.03921569, 0.03921569, 0.04226314],\n",
      "        [0.03921569, 0.03978535, 0.04370692],\n",
      "        ...,\n",
      "        [0.03921569, 0.03921569, 0.03921569],\n",
      "        [0.03921569, 0.03921569, 0.03921569],\n",
      "        [0.03921569, 0.03921569, 0.03921569]]])>]\n",
      "Consider rewriting this model with the Functional API.\n",
      "WARNING:matplotlib.image:Clipping input data to the valid range for imshow with RGB data ([0..1] for floats or [0..255] for integers).\n"
     ]
    },
    {
     "name": "stdout",
     "output_type": "stream",
     "text": [
      "sample.shape (128, 128, 3)\n",
      "pred.shape (1, 16, 16, 56)\n",
      "recon.shape (128, 128, 3)\n",
      "sample.dtype <dtype: 'float64'>\n",
      "recon[0].dtype <dtype: 'float64'>\n",
      "np.prod(sample.shape) 49152\n",
      "psnr =  32.247585232705205\n",
      "ncc =  [[1.         0.99297971]\n",
      " [0.99297971 1.        ]]\n",
      "sample[30:34,30:34,0] tf.Tensor(\n",
      "[[0.03921569 0.03921569 0.03921569 0.03921569]\n",
      " [0.03921569 0.03921569 0.03921569 0.03921569]\n",
      " [0.03921569 0.03921569 0.03921569 0.03921569]\n",
      " [0.03921569 0.03921569 0.03921569 0.03921569]], shape=(4, 4), dtype=float64)\n",
      "recon[30:34,30:34,0] tf.Tensor(\n",
      "[[0.04063198 0.03628674 0.03830739 0.04227468]\n",
      " [0.03325402 0.05219423 0.05122618 0.05949696]\n",
      " [0.03820976 0.03723757 0.05227938 0.0464113 ]\n",
      " [0.05532254 0.05313877 0.04808176 0.06345149]], shape=(4, 4), dtype=float64)\n"
     ]
    },
    {
     "data": {
      "text/plain": [
       "(32.247585232705205,\n",
       " array([[1.        , 0.99297971],\n",
       "        [0.99297971, 1.        ]]))"
      ]
     },
     "execution_count": 122,
     "metadata": {},
     "output_type": "execute_result"
    },
    {
     "data": {
      "image/png": "[encoded data removed]",
      "text/plain": [
       "<Figure size 432x288 with 4 Axes>"
      ]
     },
     "metadata": {
      "needs_background": "light"
     },
     "output_type": "display_data"
    }
   ],
   "source": [
    "img_broker = mb.ModelBroker(trainset=img_train,\n",
    "                            testset=img_test,\n",
    "                            dirname=dataset+\"_img\",\n",
    "                            keep_percent=0.3,\n",
    "                            count=3,\n",
    "                            sample_size=100)\n",
    "                            #activity_regularizer = scaledtanh,\n",
    "                            #inverse_activity_regularizer=scaledatanh,\n",
    "                            #activation_before=True)\n",
    "imghead,imginvhead = img_broker.build_model()\n",
    "imghead,imginvhead = img_broker.load_model()                                      \n",
    "img_broker.check_build(imghead,imginvhead,img_train)"
   ]
  },
  {
   "cell_type": "code",
   "execution_count": 123,
   "id": "8f88d27e",
   "metadata": {},
   "outputs": [
    {
     "name": "stdout",
     "output_type": "stream",
     "text": [
      "keep_percent 0.29752575559207534\n",
      "meanimg.dtype <dtype: 'float64'>\n",
      "self.mean.dtype <dtype: 'float64'>\n",
      "self.mean.dtype <dtype: 'float64'>\n",
      "Starting level 0\n",
      "Completing 64.0\n",
      "pca shape tf.Tensor([27 27], shape=(2,), dtype=int32)\n",
      "keep_channels 8 keep_max 12.0\n",
      "keep_channels 8\n",
      "ufilts.shape (1, 1, 1, 27, 8)\n",
      "end loop 64.0\n",
      "Starting level 1\n",
      "Completing 32.0\n",
      "pca shape tf.Tensor([72 72], shape=(2,), dtype=int32)\n",
      "keep_channels 21 keep_max 128.0\n",
      "keep_channels 21\n",
      "ufilts.shape (1, 1, 1, 72, 21)\n",
      "end loop 32.0\n",
      "Starting level 2\n",
      "Completing 16.0\n",
      "pca shape tf.Tensor([189 189], shape=(2,), dtype=int32)\n",
      "keep_channels 56 keep_max 1344.0\n",
      "keep_channels 56\n",
      "ufilts.shape (1, 1, 1, 189, 56)\n",
      "end loop 16.0\n",
      "saving to: models/pets_seg\n",
      "out.shape (1, 16, 16, 56)\n",
      "keep_percent 0.29752575559207534\n",
      "meanimg.dtype <dtype: 'float64'>\n",
      "self.mean.dtype <dtype: 'float64'>\n",
      "self.mean.dtype <dtype: 'float64'>\n",
      "Starting level 0\n",
      "Completing 64.0\n",
      "pca shape tf.Tensor([27 27], shape=(2,), dtype=int32)\n",
      "keep_channels 8 keep_max 12.0\n",
      "keep_channels 8\n",
      "ufilts.shape (1, 1, 1, 27, 8)\n",
      "end loop 64.0\n",
      "Starting level 1\n",
      "Completing 32.0\n",
      "pca shape tf.Tensor([72 72], shape=(2,), dtype=int32)\n",
      "keep_channels 21 keep_max 128.0\n",
      "keep_channels 21\n",
      "ufilts.shape (1, 1, 1, 72, 21)\n",
      "end loop 32.0\n",
      "Starting level 2\n",
      "Completing 16.0\n",
      "pca shape tf.Tensor([189 189], shape=(2,), dtype=int32)\n",
      "keep_channels 56 keep_max 1344.0\n",
      "keep_channels 56\n",
      "ufilts.shape (1, 1, 1, 189, 56)\n",
      "end loop 16.0\n",
      "sample.shape (128, 128, 3)\n",
      "after reshape: sample.shape (1, 128, 128, 3)\n",
      "loading from: models/pets_seg\n",
      "out.shape (1, 16, 16, 56)\n",
      "WARNING:tensorflow:Layers in a Sequential model should only have a single input tensor, but we receive a <class 'list'> input: [<tf.Tensor: shape=(128, 128, 3), dtype=float64, numpy=\n",
      "array([[[0.84942555, 0.78275889, 0.6705423 ],\n",
      "        [0.85046721, 0.78723192, 0.66910231],\n",
      "        [0.86318934, 0.80219442, 0.6906212 ],\n",
      "        ...,\n",
      "        [0.8656863 , 0.62475491, 0.3214193 ],\n",
      "        [0.86397058, 0.62303925, 0.32132354],\n",
      "        [0.85618871, 0.61525732, 0.3113358 ]],\n",
      "\n",
      "       [[0.84637332, 0.77970666, 0.66695392],\n",
      "        [0.83065641, 0.77130437, 0.6597963 ],\n",
      "        [0.58282787, 0.5489009 , 0.45932138],\n",
      "        ...,\n",
      "        [0.8495481 , 0.60978478, 0.29975492],\n",
      "        [0.85543048, 0.60724187, 0.29087013],\n",
      "        [0.85397899, 0.59907705, 0.28044963]],\n",
      "\n",
      "       [[0.84638476, 0.7797181 , 0.66991419],\n",
      "        [0.84601712, 0.77935046, 0.66954654],\n",
      "        [0.85332036, 0.7866537 , 0.67108995],\n",
      "        ...,\n",
      "        [0.86974192, 0.63297719, 0.34562269],\n",
      "        [0.85328585, 0.61292511, 0.30216378],\n",
      "        [0.85171568, 0.60465688, 0.29166669]],\n",
      "\n",
      "       ...,\n",
      "\n",
      "       [[0.7645604 , 0.68203127, 0.53418356],\n",
      "        [0.81247699, 0.73272061, 0.60319012],\n",
      "        [0.81539905, 0.73843825, 0.59321773],\n",
      "        ...,\n",
      "        [0.68329501, 0.55572152, 0.38803616],\n",
      "        [0.60507047, 0.5275774 , 0.39937195],\n",
      "        [0.69619334, 0.60820317, 0.4811734 ]],\n",
      "\n",
      "       [[0.80652958, 0.72443318, 0.59379983],\n",
      "        [0.79316789, 0.70297182, 0.57208949],\n",
      "        [0.80617726, 0.72774589, 0.59833413],\n",
      "        ...,\n",
      "        [0.68939954, 0.57046574, 0.40159315],\n",
      "        [0.64905792, 0.56718373, 0.43996632],\n",
      "        [0.74103099, 0.65284544, 0.52668506]],\n",
      "\n",
      "       [[0.83983994, 0.76361442, 0.63640857],\n",
      "        [0.827788  , 0.74183136, 0.61149669],\n",
      "        [0.81280637, 0.72261029, 0.59368873],\n",
      "        ...,\n",
      "        [0.67427623, 0.57387412, 0.40895757],\n",
      "        [0.69297647, 0.621764  , 0.49407551],\n",
      "        [0.73550481, 0.66614205, 0.53501463]]])>]\n",
      "Consider rewriting this model with the Functional API.\n"
     ]
    },
    {
     "name": "stderr",
     "output_type": "stream",
     "text": [
      "WARNING:tensorflow:Layers in a Sequential model should only have a single input tensor, but we receive a <class 'list'> input: [<tf.Tensor: shape=(128, 128, 3), dtype=float64, numpy=\n",
      "array([[[0.84942555, 0.78275889, 0.6705423 ],\n",
      "        [0.85046721, 0.78723192, 0.66910231],\n",
      "        [0.86318934, 0.80219442, 0.6906212 ],\n",
      "        ...,\n",
      "        [0.8656863 , 0.62475491, 0.3214193 ],\n",
      "        [0.86397058, 0.62303925, 0.32132354],\n",
      "        [0.85618871, 0.61525732, 0.3113358 ]],\n",
      "\n",
      "       [[0.84637332, 0.77970666, 0.66695392],\n",
      "        [0.83065641, 0.77130437, 0.6597963 ],\n",
      "        [0.58282787, 0.5489009 , 0.45932138],\n",
      "        ...,\n",
      "        [0.8495481 , 0.60978478, 0.29975492],\n",
      "        [0.85543048, 0.60724187, 0.29087013],\n",
      "        [0.85397899, 0.59907705, 0.28044963]],\n",
      "\n",
      "       [[0.84638476, 0.7797181 , 0.66991419],\n",
      "        [0.84601712, 0.77935046, 0.66954654],\n",
      "        [0.85332036, 0.7866537 , 0.67108995],\n",
      "        ...,\n",
      "        [0.86974192, 0.63297719, 0.34562269],\n",
      "        [0.85328585, 0.61292511, 0.30216378],\n",
      "        [0.85171568, 0.60465688, 0.29166669]],\n",
      "\n",
      "       ...,\n",
      "\n",
      "       [[0.7645604 , 0.68203127, 0.53418356],\n",
      "        [0.81247699, 0.73272061, 0.60319012],\n",
      "        [0.81539905, 0.73843825, 0.59321773],\n",
      "        ...,\n",
      "        [0.68329501, 0.55572152, 0.38803616],\n",
      "        [0.60507047, 0.5275774 , 0.39937195],\n",
      "        [0.69619334, 0.60820317, 0.4811734 ]],\n",
      "\n",
      "       [[0.80652958, 0.72443318, 0.59379983],\n",
      "        [0.79316789, 0.70297182, 0.57208949],\n",
      "        [0.80617726, 0.72774589, 0.59833413],\n",
      "        ...,\n",
      "        [0.68939954, 0.57046574, 0.40159315],\n",
      "        [0.64905792, 0.56718373, 0.43996632],\n",
      "        [0.74103099, 0.65284544, 0.52668506]],\n",
      "\n",
      "       [[0.83983994, 0.76361442, 0.63640857],\n",
      "        [0.827788  , 0.74183136, 0.61149669],\n",
      "        [0.81280637, 0.72261029, 0.59368873],\n",
      "        ...,\n",
      "        [0.67427623, 0.57387412, 0.40895757],\n",
      "        [0.69297647, 0.621764  , 0.49407551],\n",
      "        [0.73550481, 0.66614205, 0.53501463]]])>]\n",
      "Consider rewriting this model with the Functional API.\n"
     ]
    },
    {
     "name": "stdout",
     "output_type": "stream",
     "text": [
      "sample.shape (128, 128, 3)\n"
     ]
    },
    {
     "name": "stderr",
     "output_type": "stream",
     "text": [
      "WARNING:matplotlib.image:Clipping input data to the valid range for imshow with RGB data ([0..1] for floats or [0..255] for integers).\n"
     ]
    },
    {
     "name": "stdout",
     "output_type": "stream",
     "text": [
      "pred.shape (1, 16, 16, 56)\n",
      "recon.shape (128, 128, 3)\n",
      "sample.dtype <dtype: 'float64'>\n",
      "recon[0].dtype <dtype: 'float64'>\n",
      "np.prod(sample.shape) 49152\n",
      "psnr =  27.189848892191186\n",
      "ncc =  [[1.         0.99107779]\n",
      " [0.99107779 1.        ]]\n",
      "sample[30:34,30:34,0] tf.Tensor(\n",
      "[[0.9386642  0.94117647 0.9388442  0.93646979]\n",
      " [0.94258577 0.94017696 0.93946081 0.94117647]\n",
      " [0.94196922 0.93682593 0.93803233 0.93835402]\n",
      " [0.93172872 0.93602943 0.94253218 0.82833183]], shape=(4, 4), dtype=float64)\n",
      "recon[30:34,30:34,0] tf.Tensor(\n",
      "[[0.96225991 0.9442454  0.99537903 0.99748922]\n",
      " [0.96469579 0.95137111 1.00708307 1.02688323]\n",
      " [1.08006915 1.01603702 0.96188784 0.83469866]\n",
      " [1.11292987 1.04392187 0.87599777 0.59067995]], shape=(4, 4), dtype=float64)\n"
     ]
    },
    {
     "data": {
      "text/plain": [
       "(27.189848892191186,\n",
       " array([[1.        , 0.99107779],\n",
       "        [0.99107779, 1.        ]]))"
      ]
     },
     "execution_count": 123,
     "metadata": {},
     "output_type": "execute_result"
    },
    {
     "data": {
      "image/png": "[encoded data removed]",
      "text/plain": [
       "<Figure size 432x288 with 4 Axes>"
      ]
     },
     "metadata": {
      "needs_background": "light"
     },
     "output_type": "display_data"
    }
   ],
   "source": [
    "seg_broker = mb.ModelBroker(trainset=seg_train,\n",
    "                            testset=seg_test,\n",
    "                            dirname=dataset+\"_seg\",\n",
    "                            keep_percent=0.3,\n",
    "                            count=3,\n",
    "                            sample_size=100)\n",
    "                            #activity_regularizer =scaledtanh ,\n",
    "                            #inverse_activity_regularizer=scaledatanh ,\n",
    "                            #activation_before=False)\n",
    "seghead,seginvhead = seg_broker.build_model()                                        \n",
    "seghead,seginvhead = seg_broker.load_model()\n",
    "seg_broker.check_build(seghead,seginvhead,seg_test)"
   ]
  },
  {
   "cell_type": "markdown",
   "id": "9b983f2c",
   "metadata": {},
   "source": [
    "# Training"
   ]
  },
  {
   "cell_type": "markdown",
   "id": "424e726f",
   "metadata": {},
   "source": [
    "This is the loop used to find the variables to find A and b in y=Ax+b"
   ]
  },
  {
   "cell_type": "code",
   "execution_count": null,
   "id": "9ba6e772",
   "metadata": {},
   "outputs": [
    {
     "data": {
      "application/vnd.jupyter.widget-view+json": {
       "model_id": "ce91be8f09e44332ba9a2da8e9e05cb6",
       "version_major": 2,
       "version_minor": 0
      },
      "text/plain": [
       "  0%|          | 0/1000 [00:00<?, ?it/s]"
      ]
     },
     "metadata": {},
     "output_type": "display_data"
    }
   ],
   "source": [
    "imgflat = np.prod(imghead(next(iter(img_train))[0]).shape)\n",
    "segflat = np.prod(seghead(next(iter(seg_train))[0]).shape)\n",
    "end_shape = next(iter(seg_train))[0].shape\n",
    "n = 0.0\n",
    "\n",
    "xxt = np.zeros([imgflat])\n",
    "yxt = np.zeros([segflat])\n",
    "x = np.zeros([imgflat])\n",
    "y = np.zeros([segflat]) \n",
    "\n",
    "bar = tqdm.notebook.tqdm(total = int(img_train.cardinality()))\n",
    "\n",
    "for item in iter(zip(img_train,seg_train)):\n",
    "\n",
    "    bar.update(1)\n",
    "\n",
    "    image = item[0][0]\n",
    "    segmentation = item[1][0]\n",
    "\n",
    "    imgdecom = imghead(image)\n",
    "    segdecom = seghead(segmentation)\n",
    "\n",
    "    mat = tf.reshape(imgdecom,[-1])\n",
    "    segmat = tf.reshape(segdecom,[-1])\n",
    "\n",
    "    cov = tf.matmul([mat],[mat],transpose_a=True)\n",
    "    xxt += cov\n",
    "    segcov = tf.matmul([mat],[segmat],transpose_a=True)\n",
    "    yxt += segcov\n",
    "    x+=mat\n",
    "    y+=segmat\n",
    "    n += 1\n",
    "\n",
    "print(\"loop calculated\")\n",
    "xxt = xxt - tf.matmul([x],[x],transpose_a=True)/n\n",
    "yxt = yxt - tf.matmul([x],[y],transpose_a=True)/n\n",
    "print(\"calculating inverse\")\n",
    "inverse_xxt = tf.linalg.pinv(xxt)\n",
    "print(\"calculating A\")\n",
    "A = tf.linalg.matmul(inverse_xxt,yxt)\n",
    "print(\"calculating b\")\n",
    "b = (y - tf.linalg.matvec(A,x,transpose_a=True))/n"
   ]
  },
  {
   "cell_type": "code",
   "execution_count": null,
   "id": "8c418bec",
   "metadata": {},
   "outputs": [],
   "source": [
    "#b = (y - tf.linalg.matvec(A,x,transpose_a=True))"
   ]
  },
  {
   "cell_type": "code",
   "execution_count": null,
   "id": "d16a1ed3",
   "metadata": {},
   "outputs": [],
   "source": [
    "iterable = iter(zip(img_train,seg_train))"
   ]
  },
  {
   "cell_type": "code",
   "execution_count": null,
   "id": "aecc01a7",
   "metadata": {},
   "outputs": [],
   "source": [
    "threshold_intensity = 0.001\n",
    "dice_coeff_vals = []\n",
    "iou_coeff_vals = []\n",
    "n = 0\n",
    "reconstruct = seghead(next(iter(seg_ds))[0]).shape\n",
    "image,seg_base = next(iterable)\n",
    "imgdecom = imghead(image[0])\n",
    "imgdecom = tf.reshape(imgdecom,(1,-1))\n",
    "segdecom = tf.linalg.matvec(A,imgdecom,transpose_a=True)+b\n",
    "seg = seginvhead(tf.reshape(segdecom,(reconstruct)))\n",
    "y_true = tf.cast(tf.reduce_min(seg_base[0],2)==0,tf.float64)\n",
    "y_pred = tf.cast(tf.reduce_min(seg[0],2)<threshold_intensity,tf.float64)\n",
    "#dice_coeff_vals.append(dice_coef(y_true,y_pred))\n",
    "#iou_coeff_vals.append(iou_coef(y_true,y_pred))\n",
    "n+=1\n",
    "plt.subplot(2,1,1)\n",
    "plt.imshow(np.hstack([image[0],seg_base[0],seg[0]]))\n",
    "plt.subplot(2,1,2)\n",
    "plt.imshow(np.hstack([y_true,y_pred]))"
   ]
  },
  {
   "cell_type": "code",
   "execution_count": null,
   "id": "3005b4dd",
   "metadata": {},
   "outputs": [],
   "source": [
    "img_train, img_test = loader.import_processed_img()"
   ]
  },
  {
   "cell_type": "code",
   "execution_count": null,
   "id": "605e7dbc",
   "metadata": {},
   "outputs": [],
   "source": [
    "threshold_intensity = 0.1\n",
    "\n",
    "image,seg_base = next(iter(zip(img_train,seg_train)))\n",
    "imgdecom = imghead(image[0])\n",
    "\n",
    "conv = tf.nn.conv2d(imgdecom, A_filter,1,\"VALID\")\n",
    "conv = tf.nn.bias_add(conv,b)\n",
    "seg = seginvhead(conv)\n",
    "\n",
    "plt.subplot(2,1,1)\n",
    "plt.imshow(np.hstack([image,seg_base,seg[0]]))\n",
    "plt.subplot(2,1,2)\n",
    "plt.imshow(np.hstack([tf.reduce_min(seg_base,2)==0,tf.reduce_min(seg[0],2)<threshold_intensity]))"
   ]
  },
  {
   "cell_type": "code",
   "execution_count": null,
   "id": "3b0014b6",
   "metadata": {},
   "outputs": [],
   "source": []
  },
  {
   "cell_type": "code",
   "execution_count": null,
   "id": "89c5ee79",
   "metadata": {},
   "outputs": [],
   "source": []
  }
 ],
 "metadata": {
  "kernelspec": {
   "display_name": "Python 3",
   "language": "python",
   "name": "python3"
  },
  "language_info": {
   "codemirror_mode": {
    "name": "ipython",
    "version": 3
   },
   "file_extension": ".py",
   "mimetype": "text/x-python",
   "name": "python",
   "nbconvert_exporter": "python",
   "pygments_lexer": "ipython3",
   "version": "3.8.8"
  }
 },
 "nbformat": 4,
 "nbformat_minor": 5
}
