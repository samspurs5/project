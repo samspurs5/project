{
 "cells": [
  {
   "cell_type": "markdown",
   "id": "abb327ee",
   "metadata": {},
   "source": [
    "# SETUP"
   ]
  },
  {
   "cell_type": "markdown",
   "id": "ec6296aa",
   "metadata": {},
   "source": [
    "The first part of the code sets up the pca_wavelet network, the training comes later. Most of this code comes from the original authors"
   ]
  },
  {
   "cell_type": "code",
   "execution_count": 2,
   "id": "985217e7",
   "metadata": {},
   "outputs": [
    {
     "name": "stdout",
     "output_type": "stream",
     "text": [
      "GPU device not found\n",
      "Found GPU at: \n"
     ]
    }
   ],
   "source": [
    "import sys\n",
    "sys.path.append('../segmentation_helper')\n",
    "\n",
    "import tensorflow as tf\n",
    "import keras\n",
    "import tqdm\n",
    "import matplotlib.pyplot as plt\n",
    "import numpy as np\n",
    "import data_loader as dl\n",
    "import model_broker as mb\n",
    "import os"
   ]
  },
  {
   "cell_type": "code",
   "execution_count": 3,
   "id": "37602504",
   "metadata": {},
   "outputs": [],
   "source": [
    "tf.keras.backend.set_floatx(\"float64\")"
   ]
  },
  {
   "cell_type": "code",
   "execution_count": null,
   "id": "f2598a9e",
   "metadata": {},
   "outputs": [],
   "source": [
    "loader = dl.DataLoader(IMAGE_SIZE=128)\n",
    "img_train,img_test = loader.import_processed_img()\n",
    "seg_train,seg_test = loader.import_processed_seg()\n",
    "combined_train, combined_test = loader.import_processed_combined()"
   ]
  },
  {
   "cell_type": "code",
   "execution_count": null,
   "id": "261bd0b4",
   "metadata": {},
   "outputs": [],
   "source": [
    "plt.imshow((next(iter(seg_train))[0]))"
   ]
  },
  {
   "cell_type": "code",
   "execution_count": null,
   "id": "3fb70530",
   "metadata": {
    "scrolled": true
   },
   "outputs": [],
   "source": [
    "broker = mb.ModelBroker()\n",
    "seghead,seginvhead = broker.build_model(seg_train,seg_test,dirname=\"bird_seg\",keep_percent=0.3,count=2,samplesize=100)\n",
    "seghead,seginvhead = broker.load_model(seg_train,seg_test,dirname=\"bird_seg\",keep_percent=0.3,count=2)\n",
    "imghead,imginvhead = broker.build_model(img_train,img_test,dirname=\"bird_img\",keep_percent=0.3,count=2,samplesize=100)\n",
    "imghead,imginvhead = broker.load_model(img_train,img_test,dirname=\"bird_img\",keep_percent=0.3,count=2)"
   ]
  },
  {
   "cell_type": "code",
   "execution_count": null,
   "id": "4c02dc67",
   "metadata": {},
   "outputs": [],
   "source": [
    "broker.check_build(seghead,seginvhead,seg_train)"
   ]
  },
  {
   "cell_type": "code",
   "execution_count": null,
   "id": "81649a8f",
   "metadata": {},
   "outputs": [],
   "source": [
    "broker.check_build(imghead,imginvhead,img_train)"
   ]
  },
  {
   "cell_type": "markdown",
   "id": "9b983f2c",
   "metadata": {},
   "source": [
    "# Training"
   ]
  },
  {
   "cell_type": "markdown",
   "id": "424e726f",
   "metadata": {},
   "source": [
    "This is the loop used to find the variables to find A and b in y=Ax+b"
   ]
  },
  {
   "cell_type": "code",
   "execution_count": null,
   "id": "ee513b6b",
   "metadata": {
    "scrolled": true
   },
   "outputs": [],
   "source": [
    "shape = imghead(next(iter(img_train))).shape"
   ]
  },
  {
   "cell_type": "code",
   "execution_count": null,
   "id": "f8580451",
   "metadata": {},
   "outputs": [],
   "source": [
    "shape_0 = shape[3]\n",
    "shape_1 = shape[1]*shape[2]\n",
    "shape_2 = shape[1]"
   ]
  },
  {
   "cell_type": "code",
   "execution_count": null,
   "id": "85fae39c",
   "metadata": {},
   "outputs": [],
   "source": [
    "n = 0.0\n",
    "\n",
    "\n",
    "xxt = np.zeros([shape_0,shape_0])\n",
    "yxt = np.zeros([shape_0,shape_0])\n",
    "x = np.ones([shape_1])\n",
    "x_m = np.zeros([shape_0])\n",
    "y = np.ones([shape_1]) \n",
    "y_m = np.zeros([shape_0])\n",
    "\n",
    "bar = tqdm.notebook.tqdm(total = int(combined_train.cardinality()))\n",
    "\n",
    "for item in iter(combined_train):\n",
    "    bar.update(1)\n",
    "    image = item[0][0]\n",
    "    segmentation = item[0][1]\n",
    "    \n",
    "    imgdecom = imghead(image)\n",
    "    segdecom = seghead(segmentation)\n",
    "    \n",
    "    mat = tf.reshape(imgdecom,[-1,imgdecom.shape[-1]])\n",
    "    segmat = tf.reshape(segdecom,[-1,imgdecom.shape[-1]])\n",
    "    \n",
    "    cov = tf.tensordot(mat,mat,[0,0])\n",
    "    xxt += cov\n",
    "    #del cov\n",
    "    \n",
    "    segcov = tf.tensordot(mat,segmat,[0,0])\n",
    "    yxt += segcov\n",
    "    #del segcov\n",
    "    \n",
    "    x_m += tf.linalg.matvec(mat,x,transpose_a=True)\n",
    "    y_m += tf.linalg.matvec(segmat,y,transpose_a=True)\n",
    "    \n",
    "    n += 1"
   ]
  },
  {
   "cell_type": "code",
   "execution_count": null,
   "id": "b1275016",
   "metadata": {},
   "outputs": [],
   "source": [
    "directory = \"pca_vars/\"+\"seg2img\"\n",
    "if not os.path.exists(directory):\n",
    "    os.makedirs(directory)"
   ]
  },
  {
   "cell_type": "code",
   "execution_count": null,
   "id": "49a63537",
   "metadata": {},
   "outputs": [],
   "source": [
    "np.save(directory+\"/xxt\",xxt)\n",
    "np.save(directory+\"/yxt\",yxt)\n",
    "np.save(directory+\"/x_m\",x_m)\n",
    "np.save(directory+\"/y_m\",y_m)\n",
    "np.save(directory+\"/n\",n)"
   ]
  },
  {
   "cell_type": "markdown",
   "id": "e50c3c20",
   "metadata": {},
   "source": [
    "## Calculating A and B"
   ]
  },
  {
   "cell_type": "markdown",
   "id": "f8d43fb5",
   "metadata": {},
   "source": [
    "This section uses the values found in the training loop to calculate values for A and B"
   ]
  },
  {
   "cell_type": "code",
   "execution_count": null,
   "id": "a9db7982",
   "metadata": {},
   "outputs": [],
   "source": [
    "xxt = np.load(directory+\"/xxt.npy\")\n",
    "yxt = np.load(directory+\"/yxt.npy\")\n",
    "x_m = np.load(directory+\"/x_m.npy\")\n",
    "y_m = np.load(directory+\"/y_m.npy\")\n",
    "n = np.load(directory+\"/n.npy\")"
   ]
  },
  {
   "cell_type": "code",
   "execution_count": null,
   "id": "89aeb210",
   "metadata": {},
   "outputs": [],
   "source": [
    "xxt = (xxt - tf.tensordot(x_m,x_m,0))/n\n",
    "yxt = (yxt - tf.tensordot(x_m,y_m,0))/n"
   ]
  },
  {
   "cell_type": "code",
   "execution_count": null,
   "id": "20d9e71e",
   "metadata": {},
   "outputs": [],
   "source": [
    "inverse_xxt = tf.linalg.pinv(xxt)"
   ]
  },
  {
   "cell_type": "code",
   "execution_count": null,
   "id": "729db57a",
   "metadata": {},
   "outputs": [],
   "source": [
    "A = tf.reduce_sum(tf.tensordot(inverse_xxt,yxt,[0,0]),0)"
   ]
  },
  {
   "cell_type": "code",
   "execution_count": null,
   "id": "aecc01a7",
   "metadata": {},
   "outputs": [],
   "source": [
    "b = (y_m - A*x_m)/n"
   ]
  },
  {
   "cell_type": "code",
   "execution_count": null,
   "id": "3005b4dd",
   "metadata": {},
   "outputs": [],
   "source": [
    "img_train, img_test = loader.import_processed_img()"
   ]
  },
  {
   "cell_type": "code",
   "execution_count": null,
   "id": "605e7dbc",
   "metadata": {},
   "outputs": [],
   "source": [
    "image,seg_base = next(iter(combined_test.shuffle(100)))[0]\n",
    "imgdecom = imghead(image)\n",
    "imgdecom = tf.reshape(imgdecom,(-1,shape_0))\n",
    "y = A*imgdecom + b\n",
    "seg = seginvhead(tf.reshape(y,(1,shape_2,shape_2,shape_0)))\n",
    "plt.imshow(np.hstack([image,tf.round(seg_base),tf.round(seg[0])]))"
   ]
  }
 ],
 "metadata": {
  "kernelspec": {
   "display_name": "Python 3",
   "language": "python",
   "name": "python3"
  },
  "language_info": {
   "codemirror_mode": {
    "name": "ipython",
    "version": 3
   },
   "file_extension": ".py",
   "mimetype": "text/x-python",
   "name": "python",
   "nbconvert_exporter": "python",
   "pygments_lexer": "ipython3",
   "version": "3.8.8"
  }
 },
 "nbformat": 4,
 "nbformat_minor": 5
}
