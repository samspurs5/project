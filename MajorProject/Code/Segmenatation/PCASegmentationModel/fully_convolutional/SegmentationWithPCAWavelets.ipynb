{
 "cells": [
  {
   "cell_type": "markdown",
   "id": "abb327ee",
   "metadata": {},
   "source": [
    "# SETUP"
   ]
  },
  {
   "cell_type": "markdown",
   "id": "ec6296aa",
   "metadata": {},
   "source": [
    "The first part of the code sets up the pca_wavelet network, the training comes later. Most of this code comes from the original authors"
   ]
  },
  {
   "cell_type": "code",
   "execution_count": 7,
   "id": "985217e7",
   "metadata": {},
   "outputs": [],
   "source": [
    "import sys\n",
    "sys.path.append('../segmentation_helper')\n",
    "\n",
    "import tensorflow as tf\n",
    "import keras\n",
    "import tqdm\n",
    "import matplotlib.pyplot as plt\n",
    "import numpy as np\n",
    "import data_loader as dl\n",
    "import model_broker as mb\n",
    "import os\n",
    "import gc"
   ]
  },
  {
   "cell_type": "code",
   "execution_count": 8,
   "id": "8912e566",
   "metadata": {},
   "outputs": [
    {
     "data": {
      "text/plain": [
       "30321"
      ]
     },
     "execution_count": 8,
     "metadata": {},
     "output_type": "execute_result"
    }
   ],
   "source": [
    "gc.collect()"
   ]
  },
  {
   "cell_type": "code",
   "execution_count": 9,
   "id": "37602504",
   "metadata": {},
   "outputs": [],
   "source": [
    "tf.keras.backend.set_floatx(\"float64\")"
   ]
  },
  {
   "cell_type": "code",
   "execution_count": 10,
   "id": "f2598a9e",
   "metadata": {},
   "outputs": [],
   "source": [
    "dataset = \"pets\"\n",
    "loader = dl.DataLoader(IMAGE_SIZE=128,dataset=dataset)\n",
    "img_ds = loader.import_processed_img()\n",
    "seg_ds = loader.import_processed_seg()"
   ]
  },
  {
   "cell_type": "code",
   "execution_count": null,
   "id": "b0c7c570",
   "metadata": {},
   "outputs": [],
   "source": [
    "cardinality = img_ds.cardinality()\n",
    "train_size = 7000\n",
    "img_train = img_ds.take(train_size)\n",
    "seg_train = seg_ds.take(train_size)\n",
    "img_test = img_ds.skip(cardinality-train_size)\n",
    "seg_test = seg_ds.skip(cardinality-train_size)"
   ]
  },
  {
   "cell_type": "code",
   "execution_count": 5,
   "id": "3fb70530",
   "metadata": {
    "scrolled": true
   },
   "outputs": [
    {
     "name": "stdout",
     "output_type": "stream",
     "text": [
      "keep_percent 0.35275578932626656\n",
      "meanimg.dtype <dtype: 'float64'>\n",
      "self.mean.dtype <dtype: 'float64'>\n",
      "self.mean.dtype <dtype: 'float64'>\n",
      "Starting level 0\n",
      "Completing 32.0\n",
      "pca shape tf.Tensor([27 27], shape=(2,), dtype=int32)\n",
      "keep_channels 9 keep_max 12.0\n",
      "keep_channels 9\n",
      "ufilts.shape (1, 1, 1, 27, 9)\n",
      "end loop 32.0\n",
      "Starting level 1\n"
     ]
    },
    {
     "name": "stderr",
     "output_type": "stream",
     "text": [
      "C:\\Users\\spurl\\AppData\\Local\\Temp\\__autograph_generated_filegudxd1ib.py:40: SyntaxWarning: \"is\" with a literal. Did you mean \"==\"?\n",
      "  ag__.if_stmt((ag__.ld(self).data_format is 'channels_first'), if_body, else_body, get_state, set_state, ('pad',), 1)\n",
      "C:\\Users\\spurl\\AppData\\Local\\Temp\\__autograph_generated_filegudxd1ib.py:42: SyntaxWarning: \"is\" with a literal. Did you mean \"==\"?\n",
      "  ag__.if_stmt((ag__.ld(self).data_format is 'channels_last'), if_body_1, else_body_1, get_state_1, set_state_1, ('pad',), 1)\n"
     ]
    },
    {
     "name": "stdout",
     "output_type": "stream",
     "text": [
      "Completing 16.0\n",
      "pca shape tf.Tensor([81 81], shape=(2,), dtype=int32)\n",
      "keep_channels 28 keep_max 144.0\n",
      "keep_channels 28\n",
      "ufilts.shape (1, 1, 1, 81, 28)\n",
      "end loop 16.0\n",
      "Starting level 2\n",
      "Completing 8.0\n",
      "pca shape tf.Tensor([252 252], shape=(2,), dtype=int32)\n",
      "keep_channels 88 keep_max 1792.0\n",
      "keep_channels 88\n",
      "ufilts.shape (1, 1, 1, 252, 88)\n",
      "end loop 8.0\n",
      "saving to: models/pets_img\n",
      "out.shape (1, 8, 8, 88)\n",
      "keep_percent 0.35275578932626656\n",
      "meanimg.dtype <dtype: 'float64'>\n",
      "self.mean.dtype <dtype: 'float64'>\n",
      "self.mean.dtype <dtype: 'float64'>\n",
      "Starting level 0\n",
      "Completing 32.0\n",
      "pca shape tf.Tensor([27 27], shape=(2,), dtype=int32)\n",
      "keep_channels 9 keep_max 12.0\n",
      "keep_channels 9\n",
      "ufilts.shape (1, 1, 1, 27, 9)\n",
      "end loop 32.0\n",
      "Starting level 1\n",
      "Completing 16.0\n",
      "pca shape tf.Tensor([81 81], shape=(2,), dtype=int32)\n",
      "keep_channels 28 keep_max 144.0\n",
      "keep_channels 28\n",
      "ufilts.shape (1, 1, 1, 81, 28)\n",
      "end loop 16.0\n",
      "Starting level 2\n",
      "Completing 8.0\n",
      "pca shape tf.Tensor([252 252], shape=(2,), dtype=int32)\n",
      "keep_channels 88 keep_max 1792.0\n",
      "keep_channels 88\n",
      "ufilts.shape (1, 1, 1, 252, 88)\n",
      "end loop 8.0\n",
      "sample.shape (64, 64, 3)\n",
      "after reshape: sample.shape (1, 64, 64, 3)\n",
      "loading from: models/pets_img\n",
      "out.shape (1, 8, 8, 88)\n",
      "sample.shape (64, 64, 3)\n",
      "WARNING:tensorflow:Layers in a Sequential model should only have a single input tensor, but we receive a <class 'list'> input: [<tf.Tensor: shape=(64, 64, 3), dtype=float64, numpy=\n",
      "array([[[0.17278551, 0.12991059, 0.02585784],\n",
      "        [0.14590897, 0.11755037, 0.02223786],\n",
      "        [0.16476907, 0.13073109, 0.02320581],\n",
      "        ...,\n",
      "        [0.22068015, 0.17567402, 0.04034927],\n",
      "        [0.41712144, 0.29647195, 0.13728076],\n",
      "        [0.45400488, 0.33084312, 0.14676586]],\n",
      "\n",
      "       [[0.15393592, 0.12697037, 0.0247482 ],\n",
      "        [0.16862746, 0.12156863, 0.02319049],\n",
      "        [0.16778302, 0.13134192, 0.02159926],\n",
      "        ...,\n",
      "        [0.2813113 , 0.19877835, 0.07280465],\n",
      "        [0.43641335, 0.31115004, 0.1502901 ],\n",
      "        [0.46017158, 0.33130652, 0.17145567]],\n",
      "\n",
      "       [[0.15793505, 0.12772097, 0.01871362],\n",
      "        [0.15388423, 0.12574583, 0.02489468],\n",
      "        [0.16669731, 0.12362324, 0.01967008],\n",
      "        ...,\n",
      "        [0.29001036, 0.21164024, 0.09194048],\n",
      "        [0.42340687, 0.29126841, 0.14139093],\n",
      "        [0.41663605, 0.3017157 , 0.14525123]],\n",
      "\n",
      "       ...,\n",
      "\n",
      "       [[0.27201384, 0.04753657, 0.08317919],\n",
      "        [0.19041055, 0.03667375, 0.05428922],\n",
      "        [0.22115023, 0.06305722, 0.07295592],\n",
      "        ...,\n",
      "        [0.81762213, 0.345099  , 0.46468866],\n",
      "        [0.80796957, 0.32562041, 0.45545438],\n",
      "        [0.8578757 , 0.36510512, 0.51198113]],\n",
      "\n",
      "       [[0.09973384, 0.03483456, 0.03137255],\n",
      "        [0.19862898, 0.05438112, 0.0722752 ],\n",
      "        [0.24926759, 0.06308211, 0.08361577],\n",
      "        ...,\n",
      "        [0.79758352, 0.32728919, 0.43067652],\n",
      "        [0.82513118, 0.33672643, 0.46004713],\n",
      "        [0.83665365, 0.35579234, 0.48234814]],\n",
      "\n",
      "       [[0.16175035, 0.0346335 , 0.04738243],\n",
      "        [0.13972217, 0.04451785, 0.04338235],\n",
      "        [0.27768841, 0.08159371, 0.10441177],\n",
      "        ...,\n",
      "        [0.72401482, 0.27093291, 0.35456687],\n",
      "        [0.77896851, 0.29749924, 0.41673753],\n",
      "        [0.77509767, 0.30211014, 0.41115293]]])>]\n",
      "Consider rewriting this model with the Functional API.\n"
     ]
    },
    {
     "name": "stderr",
     "output_type": "stream",
     "text": [
      "WARNING:tensorflow:Layers in a Sequential model should only have a single input tensor, but we receive a <class 'list'> input: [<tf.Tensor: shape=(64, 64, 3), dtype=float64, numpy=\n",
      "array([[[0.17278551, 0.12991059, 0.02585784],\n",
      "        [0.14590897, 0.11755037, 0.02223786],\n",
      "        [0.16476907, 0.13073109, 0.02320581],\n",
      "        ...,\n",
      "        [0.22068015, 0.17567402, 0.04034927],\n",
      "        [0.41712144, 0.29647195, 0.13728076],\n",
      "        [0.45400488, 0.33084312, 0.14676586]],\n",
      "\n",
      "       [[0.15393592, 0.12697037, 0.0247482 ],\n",
      "        [0.16862746, 0.12156863, 0.02319049],\n",
      "        [0.16778302, 0.13134192, 0.02159926],\n",
      "        ...,\n",
      "        [0.2813113 , 0.19877835, 0.07280465],\n",
      "        [0.43641335, 0.31115004, 0.1502901 ],\n",
      "        [0.46017158, 0.33130652, 0.17145567]],\n",
      "\n",
      "       [[0.15793505, 0.12772097, 0.01871362],\n",
      "        [0.15388423, 0.12574583, 0.02489468],\n",
      "        [0.16669731, 0.12362324, 0.01967008],\n",
      "        ...,\n",
      "        [0.29001036, 0.21164024, 0.09194048],\n",
      "        [0.42340687, 0.29126841, 0.14139093],\n",
      "        [0.41663605, 0.3017157 , 0.14525123]],\n",
      "\n",
      "       ...,\n",
      "\n",
      "       [[0.27201384, 0.04753657, 0.08317919],\n",
      "        [0.19041055, 0.03667375, 0.05428922],\n",
      "        [0.22115023, 0.06305722, 0.07295592],\n",
      "        ...,\n",
      "        [0.81762213, 0.345099  , 0.46468866],\n",
      "        [0.80796957, 0.32562041, 0.45545438],\n",
      "        [0.8578757 , 0.36510512, 0.51198113]],\n",
      "\n",
      "       [[0.09973384, 0.03483456, 0.03137255],\n",
      "        [0.19862898, 0.05438112, 0.0722752 ],\n",
      "        [0.24926759, 0.06308211, 0.08361577],\n",
      "        ...,\n",
      "        [0.79758352, 0.32728919, 0.43067652],\n",
      "        [0.82513118, 0.33672643, 0.46004713],\n",
      "        [0.83665365, 0.35579234, 0.48234814]],\n",
      "\n",
      "       [[0.16175035, 0.0346335 , 0.04738243],\n",
      "        [0.13972217, 0.04451785, 0.04338235],\n",
      "        [0.27768841, 0.08159371, 0.10441177],\n",
      "        ...,\n",
      "        [0.72401482, 0.27093291, 0.35456687],\n",
      "        [0.77896851, 0.29749924, 0.41673753],\n",
      "        [0.77509767, 0.30211014, 0.41115293]]])>]\n",
      "Consider rewriting this model with the Functional API.\n",
      "WARNING:matplotlib.image:Clipping input data to the valid range for imshow with RGB data ([0..1] for floats or [0..255] for integers).\n"
     ]
    },
    {
     "name": "stdout",
     "output_type": "stream",
     "text": [
      "pred.shape (1, 8, 8, 88)\n",
      "recon.shape (64, 64, 3)\n",
      "sample.dtype <dtype: 'float64'>\n",
      "recon[0].dtype <dtype: 'float64'>\n",
      "np.prod(sample.shape) 12288\n",
      "psnr =  25.6821793610835\n",
      "ncc =  [[1.         0.97181437]\n",
      " [0.97181437 1.        ]]\n",
      "sample[30:34,30:34,0] tf.Tensor(\n",
      "[[0.62113208 0.61770451 0.40046149 0.43425629]\n",
      " [0.50878525 0.42210287 0.43038833 0.49343026]\n",
      " [0.49877167 0.53034526 0.47739545 0.45471913]\n",
      " [0.51039279 0.3877719  0.52719826 0.57079601]], shape=(4, 4), dtype=float64)\n",
      "recon[30:34,30:34,0] tf.Tensor(\n",
      "[[0.58511404 0.52294971 0.49443887 0.48093081]\n",
      " [0.54394575 0.51791811 0.42226225 0.45017411]\n",
      " [0.48179074 0.41080746 0.38585099 0.47328002]\n",
      " [0.50623021 0.38455417 0.4901277  0.55596044]], shape=(4, 4), dtype=float64)\n"
     ]
    },
    {
     "data": {
      "image/png": "[encoded data removed]",
      "text/plain": [
       "<Figure size 432x288 with 4 Axes>"
      ]
     },
     "metadata": {
      "needs_background": "light"
     },
     "output_type": "display_data"
    }
   ],
   "source": [
    "img_broker = mb.ModelBroker(trainset=img_train,\n",
    "                            testset=img_test,\n",
    "                            dirname=dataset+\"_img\",\n",
    "                            keep_percent=0.5,\n",
    "                            count=3,\n",
    "                            sample_size=100)\n",
    "                            #activity_regularizer = scaledtanh,\n",
    "                            #inverse_activity_regularizer=scaledatanh,\n",
    "                            #activation_before=True)\n",
    "imghead,imginvhead = img_broker.build_model()\n",
    "imghead,imginvhead = img_broker.load_model()                                      \n",
    "img_broker.check_build(imghead,imginvhead,img_train)"
   ]
  },
  {
   "cell_type": "code",
   "execution_count": 6,
   "id": "8f88d27e",
   "metadata": {},
   "outputs": [
    {
     "name": "stdout",
     "output_type": "stream",
     "text": [
      "keep_percent 0.35275578932626656\n",
      "meanimg.dtype <dtype: 'float64'>\n",
      "self.mean.dtype <dtype: 'float64'>\n",
      "self.mean.dtype <dtype: 'float64'>\n",
      "Starting level 0\n",
      "Completing 32.0\n",
      "pca shape tf.Tensor([27 27], shape=(2,), dtype=int32)\n",
      "keep_channels 9 keep_max 12.0\n",
      "keep_channels 1\n",
      "ufilts.shape (1, 1, 1, 27, 1)\n",
      "end loop 32.0\n",
      "Starting level 1\n",
      "Completing 16.0\n",
      "pca shape tf.Tensor([9 9], shape=(2,), dtype=int32)\n",
      "keep_channels 3 keep_max 16.0\n",
      "keep_channels 1\n",
      "ufilts.shape (1, 1, 1, 9, 1)\n",
      "end loop 16.0\n",
      "Starting level 2\n",
      "Completing 8.0\n",
      "pca shape tf.Tensor([9 9], shape=(2,), dtype=int32)\n",
      "keep_channels 3 keep_max 64.0\n",
      "keep_channels 1\n",
      "ufilts.shape (1, 1, 1, 9, 1)\n",
      "end loop 8.0\n",
      "saving to: models/pets_seg\n",
      "out.shape (1, 8, 8, 1)\n",
      "keep_percent 0.35275578932626656\n",
      "meanimg.dtype <dtype: 'float64'>\n",
      "self.mean.dtype <dtype: 'float64'>\n",
      "self.mean.dtype <dtype: 'float64'>\n",
      "Starting level 0\n",
      "Completing 32.0\n",
      "pca shape tf.Tensor([27 27], shape=(2,), dtype=int32)\n",
      "keep_channels 9 keep_max 12.0\n",
      "keep_channels 1\n",
      "ufilts.shape (1, 1, 1, 27, 1)\n",
      "end loop 32.0\n",
      "Starting level 1\n",
      "Completing 16.0\n",
      "pca shape tf.Tensor([9 9], shape=(2,), dtype=int32)\n",
      "keep_channels 3 keep_max 16.0\n",
      "keep_channels 1\n",
      "ufilts.shape (1, 1, 1, 9, 1)\n",
      "end loop 16.0\n",
      "Starting level 2\n",
      "Completing 8.0\n",
      "pca shape tf.Tensor([9 9], shape=(2,), dtype=int32)\n",
      "keep_channels 3 keep_max 64.0\n",
      "keep_channels 1\n",
      "ufilts.shape (1, 1, 1, 9, 1)\n",
      "end loop 8.0\n",
      "sample.shape (64, 64, 3)\n",
      "after reshape: sample.shape (1, 64, 64, 3)\n",
      "loading from: models/pets_seg\n",
      "out.shape (1, 8, 8, 1)\n",
      "sample.shape (64, 64, 3)\n",
      "WARNING:tensorflow:Layers in a Sequential model should only have a single input tensor, but we receive a <class 'list'> input: [<tf.Tensor: shape=(64, 64, 3), dtype=float64, numpy=\n",
      "array([[[0., 0., 0.],\n",
      "        [0., 0., 0.],\n",
      "        [0., 0., 0.],\n",
      "        ...,\n",
      "        [0., 0., 0.],\n",
      "        [0., 0., 0.],\n",
      "        [0., 0., 0.]],\n",
      "\n",
      "       [[0., 0., 0.],\n",
      "        [0., 0., 0.],\n",
      "        [0., 0., 0.],\n",
      "        ...,\n",
      "        [0., 0., 0.],\n",
      "        [0., 0., 0.],\n",
      "        [0., 0., 0.]],\n",
      "\n",
      "       [[0., 0., 0.],\n",
      "        [0., 0., 0.],\n",
      "        [0., 0., 0.],\n",
      "        ...,\n",
      "        [0., 0., 0.],\n",
      "        [0., 0., 0.],\n",
      "        [0., 0., 0.]],\n",
      "\n",
      "       ...,\n",
      "\n",
      "       [[0., 0., 0.],\n",
      "        [0., 0., 0.],\n",
      "        [0., 0., 0.],\n",
      "        ...,\n",
      "        [0., 0., 0.],\n",
      "        [0., 0., 0.],\n",
      "        [0., 0., 0.]],\n",
      "\n",
      "       [[0., 0., 0.],\n",
      "        [0., 0., 0.],\n",
      "        [0., 0., 0.],\n",
      "        ...,\n",
      "        [0., 0., 0.],\n",
      "        [0., 0., 0.],\n",
      "        [0., 0., 0.]],\n",
      "\n",
      "       [[0., 0., 0.],\n",
      "        [0., 0., 0.],\n",
      "        [0., 0., 0.],\n",
      "        ...,\n",
      "        [0., 0., 0.],\n",
      "        [0., 0., 0.],\n",
      "        [0., 0., 0.]]])>]\n",
      "Consider rewriting this model with the Functional API.\n"
     ]
    },
    {
     "name": "stderr",
     "output_type": "stream",
     "text": [
      "WARNING:tensorflow:Layers in a Sequential model should only have a single input tensor, but we receive a <class 'list'> input: [<tf.Tensor: shape=(64, 64, 3), dtype=float64, numpy=\n",
      "array([[[0., 0., 0.],\n",
      "        [0., 0., 0.],\n",
      "        [0., 0., 0.],\n",
      "        ...,\n",
      "        [0., 0., 0.],\n",
      "        [0., 0., 0.],\n",
      "        [0., 0., 0.]],\n",
      "\n",
      "       [[0., 0., 0.],\n",
      "        [0., 0., 0.],\n",
      "        [0., 0., 0.],\n",
      "        ...,\n",
      "        [0., 0., 0.],\n",
      "        [0., 0., 0.],\n",
      "        [0., 0., 0.]],\n",
      "\n",
      "       [[0., 0., 0.],\n",
      "        [0., 0., 0.],\n",
      "        [0., 0., 0.],\n",
      "        ...,\n",
      "        [0., 0., 0.],\n",
      "        [0., 0., 0.],\n",
      "        [0., 0., 0.]],\n",
      "\n",
      "       ...,\n",
      "\n",
      "       [[0., 0., 0.],\n",
      "        [0., 0., 0.],\n",
      "        [0., 0., 0.],\n",
      "        ...,\n",
      "        [0., 0., 0.],\n",
      "        [0., 0., 0.],\n",
      "        [0., 0., 0.]],\n",
      "\n",
      "       [[0., 0., 0.],\n",
      "        [0., 0., 0.],\n",
      "        [0., 0., 0.],\n",
      "        ...,\n",
      "        [0., 0., 0.],\n",
      "        [0., 0., 0.],\n",
      "        [0., 0., 0.]],\n",
      "\n",
      "       [[0., 0., 0.],\n",
      "        [0., 0., 0.],\n",
      "        [0., 0., 0.],\n",
      "        ...,\n",
      "        [0., 0., 0.],\n",
      "        [0., 0., 0.],\n",
      "        [0., 0., 0.]]])>]\n",
      "Consider rewriting this model with the Functional API.\n"
     ]
    },
    {
     "ename": "InvalidArgumentError",
     "evalue": "slice index 1 of dimension 3 out of bounds. [Op:StridedSlice] name: strided_slice/",
     "output_type": "error",
     "traceback": [
      "\u001b[1;31m--------------------------------\u001b[0m",
      "\u001b[1;31mInvalidArgumentError\u001b[0mTraceback (most recent call last)",
      "\u001b[1;32m<ipython-input-6-d0f5c4729071>\u001b[0m in \u001b[0;36m<module>\u001b[1;34m\u001b[0m\n\u001b[0;32m     10\u001b[0m \u001b[0mseghead\u001b[0m\u001b[1;33m,\u001b[0m\u001b[0mseginvhead\u001b[0m \u001b[1;33m=\u001b[0m \u001b[0mseg_broker\u001b[0m\u001b[1;33m.\u001b[0m\u001b[0mbuild_model\u001b[0m\u001b[1;33m(\u001b[0m\u001b[1;33m)\u001b[0m\u001b[1;33m\u001b[0m\u001b[1;33m\u001b[0m\u001b[0m\n\u001b[0;32m     11\u001b[0m \u001b[0mseghead\u001b[0m\u001b[1;33m,\u001b[0m\u001b[0mseginvhead\u001b[0m \u001b[1;33m=\u001b[0m \u001b[0mseg_broker\u001b[0m\u001b[1;33m.\u001b[0m\u001b[0mload_model\u001b[0m\u001b[1;33m(\u001b[0m\u001b[1;33m)\u001b[0m\u001b[1;33m\u001b[0m\u001b[1;33m\u001b[0m\u001b[0m\n\u001b[1;32m---> 12\u001b[1;33m \u001b[0mseg_broker\u001b[0m\u001b[1;33m.\u001b[0m\u001b[0mcheck_build\u001b[0m\u001b[1;33m(\u001b[0m\u001b[0mseghead\u001b[0m\u001b[1;33m,\u001b[0m\u001b[0mseginvhead\u001b[0m\u001b[1;33m,\u001b[0m\u001b[0mseg_test\u001b[0m\u001b[1;33m)\u001b[0m\u001b[1;33m\u001b[0m\u001b[1;33m\u001b[0m\u001b[0m\n\u001b[0m",
      "\u001b[1;32m~\\OneDrive\\Desktop\\major_project\\MajorProject\\Code\\Segmenatation\\PCASegmentationModel\\segmentation_helper\\model_broker.py\u001b[0m in \u001b[0;36mcheck_build\u001b[1;34m(self, head, invhead, testset)\u001b[0m\n\u001b[0;32m    108\u001b[0m         \u001b[0mplt\u001b[0m\u001b[1;33m.\u001b[0m\u001b[0msubplot\u001b[0m\u001b[1;33m(\u001b[0m\u001b[1;36m223\u001b[0m\u001b[1;33m)\u001b[0m\u001b[1;33m\u001b[0m\u001b[1;33m\u001b[0m\u001b[0m\n\u001b[0;32m    109\u001b[0m         \u001b[0mplt\u001b[0m\u001b[1;33m.\u001b[0m\u001b[0mtitle\u001b[0m\u001b[1;33m(\u001b[0m\u001b[1;34m'Slice'\u001b[0m\u001b[1;33m)\u001b[0m\u001b[1;33m\u001b[0m\u001b[1;33m\u001b[0m\u001b[0m\n\u001b[1;32m--> 110\u001b[1;33m         \u001b[0mplt\u001b[0m\u001b[1;33m.\u001b[0m\u001b[0mimshow\u001b[0m\u001b[1;33m(\u001b[0m\u001b[0mpred\u001b[0m\u001b[1;33m[\u001b[0m\u001b[1;36m0\u001b[0m\u001b[1;33m,\u001b[0m\u001b[1;33m:\u001b[0m\u001b[1;33m,\u001b[0m\u001b[1;33m:\u001b[0m\u001b[1;33m,\u001b[0m\u001b[1;36m1\u001b[0m\u001b[1;33m]\u001b[0m\u001b[1;33m+\u001b[0m\u001b[1;36m0.5\u001b[0m\u001b[1;33m)\u001b[0m\u001b[1;33m\u001b[0m\u001b[1;33m\u001b[0m\u001b[0m\n\u001b[0m\u001b[0;32m    111\u001b[0m \u001b[1;33m\u001b[0m\u001b[0m\n\u001b[0;32m    112\u001b[0m         \u001b[0mprint\u001b[0m\u001b[1;33m(\u001b[0m\u001b[1;34m\"pred.shape\"\u001b[0m\u001b[1;33m,\u001b[0m\u001b[0mpred\u001b[0m\u001b[1;33m.\u001b[0m\u001b[0mshape\u001b[0m\u001b[1;33m)\u001b[0m\u001b[1;33m\u001b[0m\u001b[1;33m\u001b[0m\u001b[0m\n",
      "\u001b[1;32m~\\anaconda3\\lib\\site-packages\\tensorflow\\python\\util\\traceback_utils.py\u001b[0m in \u001b[0;36merror_handler\u001b[1;34m(*args, **kwargs)\u001b[0m\n\u001b[0;32m    151\u001b[0m     \u001b[1;32mexcept\u001b[0m \u001b[0mException\u001b[0m \u001b[1;32mas\u001b[0m \u001b[0me\u001b[0m\u001b[1;33m:\u001b[0m\u001b[1;33m\u001b[0m\u001b[1;33m\u001b[0m\u001b[0m\n\u001b[0;32m    152\u001b[0m       \u001b[0mfiltered_tb\u001b[0m \u001b[1;33m=\u001b[0m \u001b[0m_process_traceback_frames\u001b[0m\u001b[1;33m(\u001b[0m\u001b[0me\u001b[0m\u001b[1;33m.\u001b[0m\u001b[0m__traceback__\u001b[0m\u001b[1;33m)\u001b[0m\u001b[1;33m\u001b[0m\u001b[1;33m\u001b[0m\u001b[0m\n\u001b[1;32m--> 153\u001b[1;33m       \u001b[1;32mraise\u001b[0m \u001b[0me\u001b[0m\u001b[1;33m.\u001b[0m\u001b[0mwith_traceback\u001b[0m\u001b[1;33m(\u001b[0m\u001b[0mfiltered_tb\u001b[0m\u001b[1;33m)\u001b[0m \u001b[1;32mfrom\u001b[0m \u001b[1;32mNone\u001b[0m\u001b[1;33m\u001b[0m\u001b[1;33m\u001b[0m\u001b[0m\n\u001b[0m\u001b[0;32m    154\u001b[0m     \u001b[1;32mfinally\u001b[0m\u001b[1;33m:\u001b[0m\u001b[1;33m\u001b[0m\u001b[1;33m\u001b[0m\u001b[0m\n\u001b[0;32m    155\u001b[0m       \u001b[1;32mdel\u001b[0m \u001b[0mfiltered_tb\u001b[0m\u001b[1;33m\u001b[0m\u001b[1;33m\u001b[0m\u001b[0m\n",
      "\u001b[1;32m~\\anaconda3\\lib\\site-packages\\tensorflow\\python\\framework\\ops.py\u001b[0m in \u001b[0;36mraise_from_not_ok_status\u001b[1;34m(e, name)\u001b[0m\n\u001b[0;32m   7105\u001b[0m \u001b[1;32mdef\u001b[0m \u001b[0mraise_from_not_ok_status\u001b[0m\u001b[1;33m(\u001b[0m\u001b[0me\u001b[0m\u001b[1;33m,\u001b[0m \u001b[0mname\u001b[0m\u001b[1;33m)\u001b[0m\u001b[1;33m:\u001b[0m\u001b[1;33m\u001b[0m\u001b[1;33m\u001b[0m\u001b[0m\n\u001b[0;32m   7106\u001b[0m   \u001b[0me\u001b[0m\u001b[1;33m.\u001b[0m\u001b[0mmessage\u001b[0m \u001b[1;33m+=\u001b[0m \u001b[1;33m(\u001b[0m\u001b[1;34m\" name: \"\u001b[0m \u001b[1;33m+\u001b[0m \u001b[0mname\u001b[0m \u001b[1;32mif\u001b[0m \u001b[0mname\u001b[0m \u001b[1;32mis\u001b[0m \u001b[1;32mnot\u001b[0m \u001b[1;32mNone\u001b[0m \u001b[1;32melse\u001b[0m \u001b[1;34m\"\"\u001b[0m\u001b[1;33m)\u001b[0m\u001b[1;33m\u001b[0m\u001b[1;33m\u001b[0m\u001b[0m\n\u001b[1;32m-> 7107\u001b[1;33m   \u001b[1;32mraise\u001b[0m \u001b[0mcore\u001b[0m\u001b[1;33m.\u001b[0m\u001b[0m_status_to_exception\u001b[0m\u001b[1;33m(\u001b[0m\u001b[0me\u001b[0m\u001b[1;33m)\u001b[0m \u001b[1;32mfrom\u001b[0m \u001b[1;32mNone\u001b[0m  \u001b[1;31m# pylint: disable=protected-access\u001b[0m\u001b[1;33m\u001b[0m\u001b[1;33m\u001b[0m\u001b[0m\n\u001b[0m\u001b[0;32m   7108\u001b[0m \u001b[1;33m\u001b[0m\u001b[0m\n\u001b[0;32m   7109\u001b[0m \u001b[1;33m\u001b[0m\u001b[0m\n",
      "\u001b[1;31mInvalidArgumentError\u001b[0m: slice index 1 of dimension 3 out of bounds. [Op:StridedSlice] name: strided_slice/"
     ]
    },
    {
     "data": {
      "image/png": "[encoded data removed]",
      "text/plain": [
       "<Figure size 432x288 with 3 Axes>"
      ]
     },
     "metadata": {
      "needs_background": "light"
     },
     "output_type": "display_data"
    }
   ],
   "source": [
    "seg_broker = mb.ModelBroker(trainset=seg_train,\n",
    "                            testset=seg_test,\n",
    "                            dirname=dataset+\"_seg\",\n",
    "                            keep_percent=0.5,\n",
    "                            count=3,\n",
    "                            sample_size=100)\n",
    "                            #activity_regularizer =scaledtanh ,\n",
    "                            #inverse_activity_regularizer=scaledatanh ,\n",
    "                            #activation_before=False)\n",
    "seghead,seginvhead = seg_broker.build_model()                                        \n",
    "seghead,seginvhead = seg_broker.load_model()\n",
    "seg_broker.check_build(seghead,seginvhead,seg_test)"
   ]
  },
  {
   "cell_type": "markdown",
   "id": "9b983f2c",
   "metadata": {},
   "source": [
    "# Training"
   ]
  },
  {
   "cell_type": "markdown",
   "id": "424e726f",
   "metadata": {},
   "source": [
    "This is the loop used to find the variables to find A and b in y=Ax+b"
   ]
  },
  {
   "cell_type": "code",
   "execution_count": null,
   "id": "9ba6e772",
   "metadata": {},
   "outputs": [],
   "source": []
  },
  {
   "cell_type": "code",
   "execution_count": null,
   "id": "f8580451",
   "metadata": {},
   "outputs": [],
   "source": []
  },
  {
   "cell_type": "code",
   "execution_count": null,
   "id": "5e90a7a6",
   "metadata": {},
   "outputs": [],
   "source": []
  },
  {
   "cell_type": "code",
   "execution_count": null,
   "id": "51c659f7",
   "metadata": {},
   "outputs": [],
   "source": []
  },
  {
   "cell_type": "code",
   "execution_count": null,
   "id": "b4e941e4",
   "metadata": {},
   "outputs": [],
   "source": [
    "reconstruct = next(iter(seg_train))[0].shape"
   ]
  },
  {
   "cell_type": "code",
   "execution_count": null,
   "id": "85fae39c",
   "metadata": {},
   "outputs": [],
   "source": [
    "n = 0.0\n",
    "\n",
    "imdecom_shape = imghead(next(iter(img_train))[0]).shape\n",
    "img_channels = imdecom_shape[3] # shape_0\n",
    "imdecom_2d_shape = imdecom_shape[1]*imdecom_shape[2] #shape_1\n",
    "\n",
    "seg_channels = segdecom_shape[3] # shape_0\n",
    "segdecom_2d_shape = segdecom_shape[1]*segdecom_shape[2] #shape_1\n",
    "segdecom_shape = seghead(next(iter(seg_train))[0]).shape\n",
    "\n",
    "xxt = np.zeros([img_channels,img_channels])\n",
    "yxt = np.zeros([img_channels,seg_channels])\n",
    "x = np.ones([imdecom_2d_shape])\n",
    "x_m = np.zeros([img_channels])\n",
    "y = np.ones([segdecom_2d_shape]) \n",
    "y_m = np.zeros([seg_channels])\n",
    "\n",
    "bar = tqdm.notebook.tqdm(total = int(img_train.cardinality()))\n",
    "\n",
    "for item in iter(zip(img_train,seg_train)):\n",
    "    bar.update(1)\n",
    "    image = item[0][0]\n",
    "    segmentation = item[1][0]\n",
    "    \n",
    "    imgdecom = imghead(image)\n",
    "    segdecom = seghead(segmentation)\n",
    "    \n",
    "    mat = tf.reshape(imgdecom,[-1,seg_channels])\n",
    "    segmat = tf.reshape(segdecom,[-1,img_channels])\n",
    "    \n",
    "    cov = tf.tensordot(mat,mat,[0,0])\n",
    "    xxt += cov\n",
    "    #del cov\n",
    "    \n",
    "    segcov = tf.tensordot(mat,segmat,[0,0])\n",
    "    yxt += segcov\n",
    "    #del segcov\n",
    "    \n",
    "    x_m += tf.linalg.matvec(mat,x,transpose_a=True)\n",
    "    y_m += tf.linalg.matvec(segmat,y,transpose_a=True)\n",
    "    \n",
    "    n += 1\n",
    "    "
   ]
  },
  {
   "cell_type": "code",
   "execution_count": null,
   "id": "b1275016",
   "metadata": {},
   "outputs": [],
   "source": [
    "directory = \"pca_vars/\"+dataset+\"_seg2img\"\n",
    "if not os.path.exists(directory):\n",
    "    os.makedirs(directory)"
   ]
  },
  {
   "cell_type": "code",
   "execution_count": null,
   "id": "49a63537",
   "metadata": {},
   "outputs": [],
   "source": [
    "np.save(directory+\"/xxt\",xxt)\n",
    "np.save(directory+\"/yxt\",yxt)\n",
    "np.save(directory+\"/x_m\",x_m)\n",
    "np.save(directory+\"/y_m\",y_m)\n",
    "np.save(directory+\"/n\",n)"
   ]
  },
  {
   "cell_type": "markdown",
   "id": "e50c3c20",
   "metadata": {},
   "source": [
    "## Calculating A and B"
   ]
  },
  {
   "cell_type": "markdown",
   "id": "f8d43fb5",
   "metadata": {},
   "source": [
    "This section uses the values found in the training loop to calculate values for A and B"
   ]
  },
  {
   "cell_type": "code",
   "execution_count": null,
   "id": "a9db7982",
   "metadata": {},
   "outputs": [],
   "source": [
    "xxt = np.load(directory+\"/xxt.npy\")\n",
    "yxt = np.load(directory+\"/yxt.npy\")\n",
    "x_m = np.load(directory+\"/x_m.npy\")\n",
    "y_m = np.load(directory+\"/y_m.npy\")\n",
    "n = np.load(directory+\"/n.npy\")"
   ]
  },
  {
   "cell_type": "code",
   "execution_count": null,
   "id": "89aeb210",
   "metadata": {},
   "outputs": [],
   "source": [
    "xxt = xxt - tf.matmul([x_m],[x_m],transpose_a=True)/n\n",
    "yxt = yxt - tf.matmul([x_m],[y_m],transpose_a=True)/n"
   ]
  },
  {
   "cell_type": "code",
   "execution_count": null,
   "id": "20d9e71e",
   "metadata": {},
   "outputs": [],
   "source": [
    "inverse_xxt = tf.linalg.pinv(xxt)"
   ]
  },
  {
   "cell_type": "code",
   "execution_count": null,
   "id": "729db57a",
   "metadata": {},
   "outputs": [],
   "source": [
    "A = tf.matmul(inverse_xxt,yxt)"
   ]
  },
  {
   "cell_type": "code",
   "execution_count": null,
   "id": "aecc01a7",
   "metadata": {},
   "outputs": [],
   "source": [
    "b = (y_m - tf.linalg.matvec(A,x_m,transpose_a=True))/n"
   ]
  },
  {
   "cell_type": "code",
   "execution_count": null,
   "id": "3005b4dd",
   "metadata": {},
   "outputs": [],
   "source": [
    "img_train, img_test = loader.import_processed_img()"
   ]
  },
  {
   "cell_type": "code",
   "execution_count": null,
   "id": "c9d2f3cb",
   "metadata": {},
   "outputs": [],
   "source": [
    "A_filter = tf.reshape(A,(1,1,seg_channels,seg_channels)) "
   ]
  },
  {
   "cell_type": "code",
   "execution_count": null,
   "id": "605e7dbc",
   "metadata": {},
   "outputs": [],
   "source": [
    "threshold_intensity = 0.1\n",
    "\n",
    "image,seg_base = next(iter(zip(img_train,seg_train)))\n",
    "imgdecom = imghead(image[0])\n",
    "\n",
    "conv = tf.nn.conv2d(imgdecom, A_filter,1,\"VALID\")\n",
    "conv = tf.nn.bias_add(conv,b)\n",
    "seg = seginvhead(conv)\n",
    "\n",
    "plt.subplot(2,1,1)\n",
    "plt.imshow(np.hstack([image,seg_base,seg[0]]))\n",
    "plt.subplot(2,1,2)\n",
    "plt.imshow(np.hstack([tf.reduce_min(seg_base,2)==0,tf.reduce_min(seg[0],2)<threshold_intensity]))"
   ]
  },
  {
   "cell_type": "code",
   "execution_count": null,
   "id": "3b0014b6",
   "metadata": {},
   "outputs": [],
   "source": []
  },
  {
   "cell_type": "code",
   "execution_count": null,
   "id": "89c5ee79",
   "metadata": {},
   "outputs": [],
   "source": []
  }
 ],
 "metadata": {
  "kernelspec": {
   "display_name": "Python 3",
   "language": "python",
   "name": "python3"
  },
  "language_info": {
   "codemirror_mode": {
    "name": "ipython",
    "version": 3
   },
   "file_extension": ".py",
   "mimetype": "text/x-python",
   "name": "python",
   "nbconvert_exporter": "python",
   "pygments_lexer": "ipython3",
   "version": "3.8.8"
  }
 },
 "nbformat": 4,
 "nbformat_minor": 5
}
