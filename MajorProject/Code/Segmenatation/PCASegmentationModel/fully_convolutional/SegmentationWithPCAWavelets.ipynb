{
 "cells": [
  {
   "cell_type": "markdown",
   "id": "abb327ee",
   "metadata": {},
   "source": [
    "# SETUP"
   ]
  },
  {
   "cell_type": "markdown",
   "id": "ec6296aa",
   "metadata": {},
   "source": [
    "The first part of the code sets up the pca_wavelet network, the training comes later. Most of this code comes from the original authors"
   ]
  },
  {
   "cell_type": "code",
   "execution_count": 1,
   "id": "985217e7",
   "metadata": {},
   "outputs": [
    {
     "name": "stdout",
     "output_type": "stream",
     "text": [
      "GPU device not found\n",
      "Found GPU at: \n"
     ]
    }
   ],
   "source": [
    "import sys\n",
    "sys.path.append('../segmentation_helper')\n",
    "\n",
    "import tensorflow as tf\n",
    "import keras\n",
    "import tqdm\n",
    "import matplotlib.pyplot as plt\n",
    "import numpy as np\n",
    "import data_loader as dl\n",
    "import model_broker as mb\n",
    "import os"
   ]
  },
  {
   "cell_type": "code",
   "execution_count": 2,
   "id": "37602504",
   "metadata": {},
   "outputs": [],
   "source": [
    "tf.keras.backend.set_floatx(\"float64\")"
   ]
  },
  {
   "cell_type": "code",
   "execution_count": 3,
   "id": "f2598a9e",
   "metadata": {},
   "outputs": [],
   "source": [
    "loader = dl.DataLoader(IMAGE_SIZE=64,debug=True)\n",
    "img_train,img_test = loader.import_processed_img()\n",
    "seg_train,seg_test = loader.import_processed_seg()\n",
    "combined_train, combined_test = loader.import_processed_combined()"
   ]
  },
  {
   "cell_type": "code",
   "execution_count": 4,
   "id": "261bd0b4",
   "metadata": {},
   "outputs": [
    {
     "data": {
      "text/plain": [
       "<matplotlib.image.AxesImage at 0x215c27a3a60>"
      ]
     },
     "execution_count": 4,
     "metadata": {},
     "output_type": "execute_result"
    },
    {
     "data": {
      "image/png": "[encoded data removed]",
      "text/plain": [
       "<Figure size 432x288 with 1 Axes>"
      ]
     },
     "metadata": {
      "needs_background": "light"
     },
     "output_type": "display_data"
    }
   ],
   "source": [
    "plt.imshow((next(iter(seg_train))[0]))"
   ]
  },
  {
   "cell_type": "code",
   "execution_count": 5,
   "id": "3fb70530",
   "metadata": {
    "scrolled": true
   },
   "outputs": [
    {
     "name": "stdout",
     "output_type": "stream",
     "text": [
      "keep_percent 0.29752575559207534\n",
      "meanimg.dtype <dtype: 'float64'>\n",
      "self.mean.dtype <dtype: 'float64'>\n",
      "self.mean.dtype <dtype: 'float64'>\n",
      "Starting level 0\n",
      "Completing 32.0\n",
      "pca shape tf.Tensor([27 27], shape=(2,), dtype=int32)\n",
      "keep_channels 8 keep_max 12.0\n",
      "keep_channels 8\n",
      "ufilts.shape (1, 1, 1, 27, 8)\n",
      "end loop 32.0\n",
      "Starting level 1\n"
     ]
    },
    {
     "name": "stderr",
     "output_type": "stream",
     "text": [
      "C:\\Users\\spurl\\AppData\\Local\\Temp\\__autograph_generated_filey2zjlfi7.py:40: SyntaxWarning: \"is\" with a literal. Did you mean \"==\"?\n",
      "  ag__.if_stmt((ag__.ld(self).data_format is 'channels_first'), if_body, else_body, get_state, set_state, ('pad',), 1)\n",
      "C:\\Users\\spurl\\AppData\\Local\\Temp\\__autograph_generated_filey2zjlfi7.py:42: SyntaxWarning: \"is\" with a literal. Did you mean \"==\"?\n",
      "  ag__.if_stmt((ag__.ld(self).data_format is 'channels_last'), if_body_1, else_body_1, get_state_1, set_state_1, ('pad',), 1)\n"
     ]
    },
    {
     "name": "stdout",
     "output_type": "stream",
     "text": [
      "Completing 16.0\n",
      "pca shape tf.Tensor([72 72], shape=(2,), dtype=int32)\n",
      "keep_channels 21 keep_max 128.0\n",
      "keep_channels 21\n",
      "ufilts.shape (1, 1, 1, 72, 21)\n",
      "end loop 16.0\n",
      "Starting level 2\n",
      "Completing 8.0\n",
      "pca shape tf.Tensor([189 189], shape=(2,), dtype=int32)\n",
      "keep_channels 56 keep_max 1344.0\n",
      "keep_channels 56\n",
      "ufilts.shape (1, 1, 1, 189, 56)\n",
      "end loop 8.0\n",
      "saving to: models/bird_img\n",
      "out.shape (1, 8, 8, 56)\n",
      "keep_percent 0.29752575559207534\n",
      "meanimg.dtype <dtype: 'float64'>\n",
      "self.mean.dtype <dtype: 'float64'>\n",
      "self.mean.dtype <dtype: 'float64'>\n",
      "Starting level 0\n",
      "Completing 32.0\n",
      "pca shape tf.Tensor([27 27], shape=(2,), dtype=int32)\n",
      "keep_channels 8 keep_max 12.0\n",
      "keep_channels 8\n",
      "ufilts.shape (1, 1, 1, 27, 8)\n",
      "end loop 32.0\n",
      "Starting level 1\n",
      "Completing 16.0\n",
      "pca shape tf.Tensor([72 72], shape=(2,), dtype=int32)\n",
      "keep_channels 21 keep_max 128.0\n",
      "keep_channels 21\n",
      "ufilts.shape (1, 1, 1, 72, 21)\n",
      "end loop 16.0\n",
      "Starting level 2\n",
      "Completing 8.0\n",
      "pca shape tf.Tensor([189 189], shape=(2,), dtype=int32)\n",
      "keep_channels 56 keep_max 1344.0\n",
      "keep_channels 56\n",
      "ufilts.shape (1, 1, 1, 189, 56)\n",
      "end loop 8.0\n",
      "sample.shape (64, 64, 3)\n",
      "after reshape: sample.shape (1, 64, 64, 3)\n",
      "loading from: models/bird_img\n",
      "out.shape (1, 8, 8, 56)\n"
     ]
    }
   ],
   "source": [
    "img_broker = mb.ModelBroker(trainset=img_train,\n",
    "                            testset=img_test,\n",
    "                            dirname=\"bird_img\",\n",
    "                            keep_percent=0.3,\n",
    "                            count=3,\n",
    "                            sample_size=100)\n",
    "                            #activity_regularizer = scaledtanh,\n",
    "                            #inverse_activity_regularizer=scaledatanh,\n",
    "                            #activation_before=True)\n",
    "imghead,imginvhead = img_broker.build_model()\n",
    "imghead,imginvhead = img_broker.load_model()                                      \n"
   ]
  },
  {
   "cell_type": "code",
   "execution_count": 6,
   "id": "6ccf8490",
   "metadata": {},
   "outputs": [
    {
     "name": "stdout",
     "output_type": "stream",
     "text": [
      "keep_percent 0.29752575559207534\n",
      "meanimg.dtype <dtype: 'float64'>\n",
      "self.mean.dtype <dtype: 'float64'>\n",
      "self.mean.dtype <dtype: 'float64'>\n",
      "Starting level 0\n",
      "Completing 32.0\n",
      "pca shape tf.Tensor([27 27], shape=(2,), dtype=int32)\n",
      "keep_channels 8 keep_max 12.0\n",
      "keep_channels 8\n",
      "ufilts.shape (1, 1, 1, 27, 8)\n",
      "end loop 32.0\n",
      "Starting level 1\n",
      "Completing 16.0\n",
      "pca shape tf.Tensor([72 72], shape=(2,), dtype=int32)\n",
      "keep_channels 21 keep_max 128.0\n",
      "keep_channels 21\n",
      "ufilts.shape (1, 1, 1, 72, 21)\n",
      "end loop 16.0\n",
      "Starting level 2\n",
      "Completing 8.0\n",
      "pca shape tf.Tensor([189 189], shape=(2,), dtype=int32)\n",
      "keep_channels 56 keep_max 1344.0\n",
      "keep_channels 56\n",
      "ufilts.shape (1, 1, 1, 189, 56)\n",
      "end loop 8.0\n",
      "saving to: models/bird_seg\n",
      "out.shape (1, 8, 8, 56)\n",
      "keep_percent 0.29752575559207534\n",
      "meanimg.dtype <dtype: 'float64'>\n",
      "self.mean.dtype <dtype: 'float64'>\n",
      "self.mean.dtype <dtype: 'float64'>\n",
      "Starting level 0\n",
      "Completing 32.0\n",
      "pca shape tf.Tensor([27 27], shape=(2,), dtype=int32)\n",
      "keep_channels 8 keep_max 12.0\n",
      "keep_channels 8\n",
      "ufilts.shape (1, 1, 1, 27, 8)\n",
      "end loop 32.0\n",
      "Starting level 1\n",
      "Completing 16.0\n",
      "pca shape tf.Tensor([72 72], shape=(2,), dtype=int32)\n",
      "keep_channels 21 keep_max 128.0\n",
      "keep_channels 21\n",
      "ufilts.shape (1, 1, 1, 72, 21)\n",
      "end loop 16.0\n",
      "Starting level 2\n",
      "Completing 8.0\n",
      "pca shape tf.Tensor([189 189], shape=(2,), dtype=int32)\n",
      "keep_channels 56 keep_max 1344.0\n",
      "keep_channels 56\n",
      "ufilts.shape (1, 1, 1, 189, 56)\n",
      "end loop 8.0\n",
      "sample.shape (64, 64, 3)\n",
      "after reshape: sample.shape (1, 64, 64, 3)\n",
      "loading from: models/bird_seg\n",
      "out.shape (1, 8, 8, 56)\n"
     ]
    }
   ],
   "source": [
    "seg_broker = mb.ModelBroker(trainset=seg_train,\n",
    "                            testset=seg_test,\n",
    "                            dirname=\"bird_seg\",\n",
    "                            keep_percent=0.3,\n",
    "                            count=3,\n",
    "                            sample_size=100)\n",
    "                            #activity_regularizer =scaledtanh ,\n",
    "                            #inverse_activity_regularizer=scaledatanh ,\n",
    "                            #activation_before=False)\n",
    "seghead,seginvhead = seg_broker.build_model()                                        \n",
    "seghead,seginvhead = seg_broker.load_model()"
   ]
  },
  {
   "cell_type": "code",
   "execution_count": 7,
   "id": "f8f01331",
   "metadata": {},
   "outputs": [
    {
     "name": "stdout",
     "output_type": "stream",
     "text": [
      "sample.shape (64, 64, 3)\n",
      "WARNING:tensorflow:Layers in a Sequential model should only have a single input tensor, but we receive a <class 'list'> input: [<tf.Tensor: shape=(64, 64, 3), dtype=float64, numpy=\n",
      "array([[[0.41164216, 0.64420575, 0.75866652],\n",
      "        [0.41789597, 0.65123314, 0.76431912],\n",
      "        [0.40791592, 0.66066176, 0.75885034],\n",
      "        ...,\n",
      "        [0.40992263, 0.687837  , 0.82478559],\n",
      "        [0.40337393, 0.68247169, 0.79765248],\n",
      "        [0.40222886, 0.68991268, 0.81024432]],\n",
      "\n",
      "       [[0.42560127, 0.64220667, 0.76192558],\n",
      "        [0.40655255, 0.65612745, 0.77046567],\n",
      "        [0.40296799, 0.65612745, 0.76029414],\n",
      "        ...,\n",
      "        [0.40076977, 0.67889476, 0.80714995],\n",
      "        [0.41490504, 0.68159473, 0.81903338],\n",
      "        [0.38468903, 0.69231009, 0.8171224 ]],\n",
      "\n",
      "       [[0.3989009 , 0.65553385, 0.78058749],\n",
      "        [0.43173638, 0.64986598, 0.75815719],\n",
      "        [0.43406862, 0.63984758, 0.79130667],\n",
      "        ...,\n",
      "        [0.42254519, 0.66766238, 0.81138176],\n",
      "        [0.40119869, 0.67393923, 0.80415136],\n",
      "        [0.40147442, 0.68367797, 0.80902267]],\n",
      "\n",
      "       ...,\n",
      "\n",
      "       [[0.19692478, 0.13529795, 0.11088389],\n",
      "        [0.50474495, 0.42902499, 0.29573378],\n",
      "        [0.48187423, 0.74960935, 0.83896679],\n",
      "        ...,\n",
      "        [0.42035079, 0.74518228, 0.80783165],\n",
      "        [0.41265702, 0.73463923, 0.80868948],\n",
      "        [0.41897976, 0.73845357, 0.82005209]],\n",
      "\n",
      "       [[0.51283318, 0.74281561, 0.82893312],\n",
      "        [0.14445083, 0.02168735, 0.33444777],\n",
      "        [0.64918047, 0.49224877, 0.30834484],\n",
      "        ...,\n",
      "        [0.43838081, 0.74114966, 0.81599647],\n",
      "        [0.43894377, 0.73008198, 0.82956499],\n",
      "        [0.42770755, 0.73215383, 0.8188802 ]],\n",
      "\n",
      "       [[0.44688267, 0.71699989, 0.80847508],\n",
      "        [0.47495404, 0.74864048, 0.83105087],\n",
      "        [0.22853094, 0.10168122, 0.34952131],\n",
      "        ...,\n",
      "        [0.43035769, 0.7346316 , 0.81446844],\n",
      "        [0.43089002, 0.73294652, 0.81666666],\n",
      "        [0.43274355, 0.73466611, 0.81883806]]])>]\n",
      "Consider rewriting this model with the Functional API.\n"
     ]
    },
    {
     "name": "stderr",
     "output_type": "stream",
     "text": [
      "WARNING:tensorflow:Layers in a Sequential model should only have a single input tensor, but we receive a <class 'list'> input: [<tf.Tensor: shape=(64, 64, 3), dtype=float64, numpy=\n",
      "array([[[0.41164216, 0.64420575, 0.75866652],\n",
      "        [0.41789597, 0.65123314, 0.76431912],\n",
      "        [0.40791592, 0.66066176, 0.75885034],\n",
      "        ...,\n",
      "        [0.40992263, 0.687837  , 0.82478559],\n",
      "        [0.40337393, 0.68247169, 0.79765248],\n",
      "        [0.40222886, 0.68991268, 0.81024432]],\n",
      "\n",
      "       [[0.42560127, 0.64220667, 0.76192558],\n",
      "        [0.40655255, 0.65612745, 0.77046567],\n",
      "        [0.40296799, 0.65612745, 0.76029414],\n",
      "        ...,\n",
      "        [0.40076977, 0.67889476, 0.80714995],\n",
      "        [0.41490504, 0.68159473, 0.81903338],\n",
      "        [0.38468903, 0.69231009, 0.8171224 ]],\n",
      "\n",
      "       [[0.3989009 , 0.65553385, 0.78058749],\n",
      "        [0.43173638, 0.64986598, 0.75815719],\n",
      "        [0.43406862, 0.63984758, 0.79130667],\n",
      "        ...,\n",
      "        [0.42254519, 0.66766238, 0.81138176],\n",
      "        [0.40119869, 0.67393923, 0.80415136],\n",
      "        [0.40147442, 0.68367797, 0.80902267]],\n",
      "\n",
      "       ...,\n",
      "\n",
      "       [[0.19692478, 0.13529795, 0.11088389],\n",
      "        [0.50474495, 0.42902499, 0.29573378],\n",
      "        [0.48187423, 0.74960935, 0.83896679],\n",
      "        ...,\n",
      "        [0.42035079, 0.74518228, 0.80783165],\n",
      "        [0.41265702, 0.73463923, 0.80868948],\n",
      "        [0.41897976, 0.73845357, 0.82005209]],\n",
      "\n",
      "       [[0.51283318, 0.74281561, 0.82893312],\n",
      "        [0.14445083, 0.02168735, 0.33444777],\n",
      "        [0.64918047, 0.49224877, 0.30834484],\n",
      "        ...,\n",
      "        [0.43838081, 0.74114966, 0.81599647],\n",
      "        [0.43894377, 0.73008198, 0.82956499],\n",
      "        [0.42770755, 0.73215383, 0.8188802 ]],\n",
      "\n",
      "       [[0.44688267, 0.71699989, 0.80847508],\n",
      "        [0.47495404, 0.74864048, 0.83105087],\n",
      "        [0.22853094, 0.10168122, 0.34952131],\n",
      "        ...,\n",
      "        [0.43035769, 0.7346316 , 0.81446844],\n",
      "        [0.43089002, 0.73294652, 0.81666666],\n",
      "        [0.43274355, 0.73466611, 0.81883806]]])>]\n",
      "Consider rewriting this model with the Functional API.\n"
     ]
    },
    {
     "name": "stdout",
     "output_type": "stream",
     "text": [
      "pred.shape"
     ]
    },
    {
     "name": "stderr",
     "output_type": "stream",
     "text": [
      "WARNING:matplotlib.image:Clipping input data to the valid range for imshow with RGB data ([0..1] for floats or [0..255] for integers).\n"
     ]
    },
    {
     "name": "stdout",
     "output_type": "stream",
     "text": [
      " (1, 8, 8, 56)\n",
      "recon.shape (64, 64, 3)\n",
      "sample.dtype <dtype: 'float64'>\n",
      "recon[0].dtype <dtype: 'float64'>\n",
      "np.prod(sample.shape) 12288\n",
      "psnr =  20.420644339304154\n",
      "ncc =  [[1.         0.88572559]\n",
      " [0.88572559 1.        ]]\n",
      "sample[30:34,30:34,0] tf.Tensor(\n",
      "[[0.39023823 0.39336321 0.42759269 0.43500307]\n",
      " [0.40114123 0.41140091 0.43209255 0.44087392]\n",
      " [0.4351218  0.46150047 0.52139246 0.00710018]\n",
      " [0.44523975 0.03638174 0.03643919 0.00485983]], shape=(4, 4), dtype=float64)\n",
      "recon[30:34,30:34,0] tf.Tensor(\n",
      "[[ 0.49300328  0.57452201  0.57018389  0.54327146]\n",
      " [ 0.54431745  0.59647317  0.54768012  0.48417577]\n",
      " [ 0.44924649  0.3557559   0.31965793  0.20933724]\n",
      " [ 0.36479282  0.1252421   0.04718651 -0.03768511]], shape=(4, 4), dtype=float64)\n"
     ]
    },
    {
     "data": {
      "image/png": "[encoded data removed]",
      "text/plain": [
       "<Figure size 432x288 with 4 Axes>"
      ]
     },
     "metadata": {
      "needs_background": "light"
     },
     "output_type": "display_data"
    }
   ],
   "source": [
    "img_broker.check_build(imghead,imginvhead,img_train)"
   ]
  },
  {
   "cell_type": "code",
   "execution_count": 9,
   "id": "4c02dc67",
   "metadata": {},
   "outputs": [
    {
     "name": "stdout",
     "output_type": "stream",
     "text": [
      "sample.shape (64, 64, 3)\n",
      "WARNING:tensorflow:Layers in a Sequential model should only have a single input tensor, but we receive a <class 'list'> input: [<tf.Tensor: shape=(64, 64, 3), dtype=float64, numpy=\n",
      "array([[[0., 0., 0.],\n",
      "        [0., 0., 0.],\n",
      "        [0., 0., 0.],\n",
      "        ...,\n",
      "        [0., 0., 0.],\n",
      "        [0., 0., 0.],\n",
      "        [0., 0., 0.]],\n",
      "\n",
      "       [[0., 0., 0.],\n",
      "        [0., 0., 0.],\n",
      "        [0., 0., 0.],\n",
      "        ...,\n",
      "        [0., 0., 0.],\n",
      "        [0., 0., 0.],\n",
      "        [0., 0., 0.]],\n",
      "\n",
      "       [[0., 0., 0.],\n",
      "        [0., 0., 0.],\n",
      "        [0., 0., 0.],\n",
      "        ...,\n",
      "        [0., 0., 0.],\n",
      "        [0., 0., 0.],\n",
      "        [0., 0., 0.]],\n",
      "\n",
      "       ...,\n",
      "\n",
      "       [[0., 0., 0.],\n",
      "        [0., 0., 0.],\n",
      "        [0., 0., 0.],\n",
      "        ...,\n",
      "        [0., 0., 0.],\n",
      "        [0., 0., 0.],\n",
      "        [0., 0., 0.]],\n",
      "\n",
      "       [[0., 0., 0.],\n",
      "        [0., 0., 0.],\n",
      "        [0., 0., 0.],\n",
      "        ...,\n",
      "        [0., 0., 0.],\n",
      "        [0., 0., 0.],\n",
      "        [0., 0., 0.]],\n",
      "\n",
      "       [[0., 0., 0.],\n",
      "        [0., 0., 0.],\n",
      "        [0., 0., 0.],\n",
      "        ...,\n",
      "        [0., 0., 0.],\n",
      "        [0., 0., 0.],\n",
      "        [0., 0., 0.]]])>]\n",
      "Consider rewriting this model with the Functional API.\n"
     ]
    },
    {
     "name": "stderr",
     "output_type": "stream",
     "text": [
      "WARNING:tensorflow:Layers in a Sequential model should only have a single input tensor, but we receive a <class 'list'> input: [<tf.Tensor: shape=(64, 64, 3), dtype=float64, numpy=\n",
      "array([[[0., 0., 0.],\n",
      "        [0., 0., 0.],\n",
      "        [0., 0., 0.],\n",
      "        ...,\n",
      "        [0., 0., 0.],\n",
      "        [0., 0., 0.],\n",
      "        [0., 0., 0.]],\n",
      "\n",
      "       [[0., 0., 0.],\n",
      "        [0., 0., 0.],\n",
      "        [0., 0., 0.],\n",
      "        ...,\n",
      "        [0., 0., 0.],\n",
      "        [0., 0., 0.],\n",
      "        [0., 0., 0.]],\n",
      "\n",
      "       [[0., 0., 0.],\n",
      "        [0., 0., 0.],\n",
      "        [0., 0., 0.],\n",
      "        ...,\n",
      "        [0., 0., 0.],\n",
      "        [0., 0., 0.],\n",
      "        [0., 0., 0.]],\n",
      "\n",
      "       ...,\n",
      "\n",
      "       [[0., 0., 0.],\n",
      "        [0., 0., 0.],\n",
      "        [0., 0., 0.],\n",
      "        ...,\n",
      "        [0., 0., 0.],\n",
      "        [0., 0., 0.],\n",
      "        [0., 0., 0.]],\n",
      "\n",
      "       [[0., 0., 0.],\n",
      "        [0., 0., 0.],\n",
      "        [0., 0., 0.],\n",
      "        ...,\n",
      "        [0., 0., 0.],\n",
      "        [0., 0., 0.],\n",
      "        [0., 0., 0.]],\n",
      "\n",
      "       [[0., 0., 0.],\n",
      "        [0., 0., 0.],\n",
      "        [0., 0., 0.],\n",
      "        ...,\n",
      "        [0., 0., 0.],\n",
      "        [0., 0., 0.],\n",
      "        [0., 0., 0.]]])>]\n",
      "Consider rewriting this model with the Functional API.\n",
      "WARNING:matplotlib.image:Clipping input data to the valid range for imshow with RGB data ([0..1] for floats or [0..255] for integers).\n"
     ]
    },
    {
     "name": "stdout",
     "output_type": "stream",
     "text": [
      "pred.shape (1, 8, 8, 56)\n",
      "recon.shape (64, 64, 3)\n",
      "sample.dtype <dtype: 'float64'>\n",
      "recon[0].dtype <dtype: 'float64'>\n",
      "np.prod(sample.shape) 12288\n",
      "psnr =  18.810462610800872\n",
      "ncc =  [[1.         0.93340182]\n",
      " [0.93340182 1.        ]]\n",
      "sample[30:34,30:34,0] tf.Tensor(\n",
      "[[0. 0. 0. 0.]\n",
      " [0. 0. 0. 0.]\n",
      " [0. 0. 0. 0.]\n",
      " [0. 0. 0. 0.]], shape=(4, 4), dtype=float64)\n",
      "recon[30:34,30:34,0] tf.Tensor(\n",
      "[[-0.0006094  -0.01068148 -0.00302063 -0.00618652]\n",
      " [-0.01100912  0.0025521  -0.00184015 -0.00966876]\n",
      " [-0.00969386 -0.01501747 -0.00713703  0.00847171]\n",
      " [ 0.00169754 -0.0135629  -0.01565142  0.00629661]], shape=(4, 4), dtype=float64)\n"
     ]
    },
    {
     "data": {
      "image/png": "[encoded data removed]",
      "text/plain": [
       "<Figure size 432x288 with 4 Axes>"
      ]
     },
     "metadata": {
      "needs_background": "light"
     },
     "output_type": "display_data"
    }
   ],
   "source": [
    "seg_broker.check_build(seghead,seginvhead,seg_test)"
   ]
  },
  {
   "cell_type": "markdown",
   "id": "9b983f2c",
   "metadata": {},
   "source": [
    "# Training"
   ]
  },
  {
   "cell_type": "markdown",
   "id": "424e726f",
   "metadata": {},
   "source": [
    "This is the loop used to find the variables to find A and b in y=Ax+b"
   ]
  },
  {
   "cell_type": "code",
   "execution_count": 12,
   "id": "ee513b6b",
   "metadata": {
    "scrolled": true
   },
   "outputs": [
    {
     "name": "stdout",
     "output_type": "stream",
     "text": [
      "WARNING:tensorflow:Layers in a Sequential model should only have a single input tensor, but we receive a <class 'tuple'> input: (<tf.Tensor: shape=(64, 64, 3), dtype=float64, numpy=\n",
      "array([[[3.01164210e-01, 3.06057572e-01, 1.08946078e-01],\n",
      "        [2.64420569e-01, 2.74377674e-01, 1.28605619e-01],\n",
      "        [1.59454480e-01, 1.75140753e-01, 7.73466229e-02],\n",
      "        ...,\n",
      "        [4.71813753e-02, 8.22303966e-02, 8.06334335e-03],\n",
      "        [6.46398216e-02, 8.28996301e-02, 2.15025656e-02],\n",
      "        [7.84313753e-02, 8.62745121e-02, 3.13725509e-02]],\n",
      "\n",
      "       [[3.07103068e-01, 3.05684179e-01, 6.42271787e-02],\n",
      "        [2.42585793e-01, 2.38848045e-01, 4.09007370e-02],\n",
      "        [1.18559472e-01, 1.47167981e-01, 1.04846433e-02],\n",
      "        ...,\n",
      "        [5.23456670e-02, 8.90012309e-02, 2.07758872e-04],\n",
      "        [6.61477521e-02, 8.80658329e-02, 2.31617652e-02],\n",
      "        [6.72631413e-02, 8.78063738e-02, 2.73638554e-02]],\n",
      "\n",
      "       [[2.88541675e-01, 2.80698538e-01, 5.33088222e-02],\n",
      "        [2.27083340e-01, 2.36206532e-01, 4.29907702e-02],\n",
      "        [1.35079667e-01, 1.58609077e-01, 9.83455963e-03],\n",
      "        ...,\n",
      "        [5.30321337e-02, 8.82037058e-02, 5.85075840e-03],\n",
      "        [5.97359464e-02, 8.07971433e-02, 6.17532199e-03],\n",
      "        [5.29469214e-02, 8.03979039e-02, 1.76528040e-02]],\n",
      "\n",
      "       ...,\n",
      "\n",
      "       [[2.91752845e-01, 2.40410537e-01, 9.85112265e-02],\n",
      "        [2.90631711e-01, 2.39651307e-01, 1.02396414e-01],\n",
      "        [2.54657835e-01, 2.35049978e-01, 8.60303715e-02],\n",
      "        ...,\n",
      "        [1.11917891e-01, 1.19883582e-01, 6.46139756e-02],\n",
      "        [8.23529437e-02, 9.17040035e-02, 4.64288443e-02],\n",
      "        [1.76348999e-01, 1.58008769e-01, 1.16403379e-01]],\n",
      "\n",
      "       [[2.98922926e-01, 2.44020954e-01, 1.06766045e-01],\n",
      "        [3.05882365e-01, 2.50980407e-01, 9.99061763e-02],\n",
      "        [3.03240865e-01, 2.47181371e-01, 9.42401960e-02],\n",
      "        ...,\n",
      "        [1.11036114e-01, 1.17684394e-01, 6.27824366e-02],\n",
      "        [8.80332813e-02, 9.14646536e-02, 4.26901467e-02],\n",
      "        [1.71179920e-01, 1.56464458e-01, 1.08920231e-01]],\n",
      "\n",
      "       [[3.04052740e-01, 2.50582129e-01, 9.33469310e-02],\n",
      "        [3.05024534e-01, 2.46288106e-01, 8.56780410e-02],\n",
      "        [2.94362754e-01, 2.40257353e-01, 8.71381015e-02],\n",
      "        ...,\n",
      "        [8.99452344e-02, 9.85600501e-02, 4.32722531e-02],\n",
      "        [7.73944929e-02, 8.52376297e-02, 3.48795615e-02],\n",
      "        [1.79656863e-01, 1.60784319e-01, 1.10862821e-01]]])>,)\n",
      "Consider rewriting this model with the Functional API.\n"
     ]
    },
    {
     "name": "stderr",
     "output_type": "stream",
     "text": [
      "WARNING:tensorflow:Layers in a Sequential model should only have a single input tensor, but we receive a <class 'tuple'> input: (<tf.Tensor: shape=(64, 64, 3), dtype=float64, numpy=\n",
      "array([[[3.01164210e-01, 3.06057572e-01, 1.08946078e-01],\n",
      "        [2.64420569e-01, 2.74377674e-01, 1.28605619e-01],\n",
      "        [1.59454480e-01, 1.75140753e-01, 7.73466229e-02],\n",
      "        ...,\n",
      "        [4.71813753e-02, 8.22303966e-02, 8.06334335e-03],\n",
      "        [6.46398216e-02, 8.28996301e-02, 2.15025656e-02],\n",
      "        [7.84313753e-02, 8.62745121e-02, 3.13725509e-02]],\n",
      "\n",
      "       [[3.07103068e-01, 3.05684179e-01, 6.42271787e-02],\n",
      "        [2.42585793e-01, 2.38848045e-01, 4.09007370e-02],\n",
      "        [1.18559472e-01, 1.47167981e-01, 1.04846433e-02],\n",
      "        ...,\n",
      "        [5.23456670e-02, 8.90012309e-02, 2.07758872e-04],\n",
      "        [6.61477521e-02, 8.80658329e-02, 2.31617652e-02],\n",
      "        [6.72631413e-02, 8.78063738e-02, 2.73638554e-02]],\n",
      "\n",
      "       [[2.88541675e-01, 2.80698538e-01, 5.33088222e-02],\n",
      "        [2.27083340e-01, 2.36206532e-01, 4.29907702e-02],\n",
      "        [1.35079667e-01, 1.58609077e-01, 9.83455963e-03],\n",
      "        ...,\n",
      "        [5.30321337e-02, 8.82037058e-02, 5.85075840e-03],\n",
      "        [5.97359464e-02, 8.07971433e-02, 6.17532199e-03],\n",
      "        [5.29469214e-02, 8.03979039e-02, 1.76528040e-02]],\n",
      "\n",
      "       ...,\n",
      "\n",
      "       [[2.91752845e-01, 2.40410537e-01, 9.85112265e-02],\n",
      "        [2.90631711e-01, 2.39651307e-01, 1.02396414e-01],\n",
      "        [2.54657835e-01, 2.35049978e-01, 8.60303715e-02],\n",
      "        ...,\n",
      "        [1.11917891e-01, 1.19883582e-01, 6.46139756e-02],\n",
      "        [8.23529437e-02, 9.17040035e-02, 4.64288443e-02],\n",
      "        [1.76348999e-01, 1.58008769e-01, 1.16403379e-01]],\n",
      "\n",
      "       [[2.98922926e-01, 2.44020954e-01, 1.06766045e-01],\n",
      "        [3.05882365e-01, 2.50980407e-01, 9.99061763e-02],\n",
      "        [3.03240865e-01, 2.47181371e-01, 9.42401960e-02],\n",
      "        ...,\n",
      "        [1.11036114e-01, 1.17684394e-01, 6.27824366e-02],\n",
      "        [8.80332813e-02, 9.14646536e-02, 4.26901467e-02],\n",
      "        [1.71179920e-01, 1.56464458e-01, 1.08920231e-01]],\n",
      "\n",
      "       [[3.04052740e-01, 2.50582129e-01, 9.33469310e-02],\n",
      "        [3.05024534e-01, 2.46288106e-01, 8.56780410e-02],\n",
      "        [2.94362754e-01, 2.40257353e-01, 8.71381015e-02],\n",
      "        ...,\n",
      "        [8.99452344e-02, 9.85600501e-02, 4.32722531e-02],\n",
      "        [7.73944929e-02, 8.52376297e-02, 3.48795615e-02],\n",
      "        [1.79656863e-01, 1.60784319e-01, 1.10862821e-01]]])>,)\n",
      "Consider rewriting this model with the Functional API.\n"
     ]
    }
   ],
   "source": [
    "shape = imghead(next(iter(img_train))).shape"
   ]
  },
  {
   "cell_type": "code",
   "execution_count": 13,
   "id": "f8580451",
   "metadata": {},
   "outputs": [],
   "source": [
    "shape_0 = shape[3]\n",
    "shape_1 = shape[1]*shape[2]\n",
    "shape_2 = shape[1]"
   ]
  },
  {
   "cell_type": "code",
   "execution_count": 14,
   "id": "b4e941e4",
   "metadata": {},
   "outputs": [],
   "source": [
    "reconstruct = next(iter(seg_train))[0].shape"
   ]
  },
  {
   "cell_type": "code",
   "execution_count": 15,
   "id": "85fae39c",
   "metadata": {},
   "outputs": [
    {
     "data": {
      "application/vnd.jupyter.widget-view+json": {
       "model_id": "44bb110ce2cc488baea5ec23fa07c9e3",
       "version_major": 2,
       "version_minor": 0
      },
      "text/plain": [
       "  0%|          | 0/101 [00:00<?, ?it/s]"
      ]
     },
     "metadata": {},
     "output_type": "display_data"
    }
   ],
   "source": [
    "n = 0.0\n",
    "\n",
    "\n",
    "xxt = np.zeros([shape_0,shape_0])\n",
    "yxt = np.zeros([shape_0,shape_0])\n",
    "x = np.ones([shape_1])\n",
    "x_m = np.zeros([shape_0])\n",
    "y = np.ones([shape_1]) \n",
    "y_m = np.zeros([shape_0])\n",
    "\n",
    "bar = tqdm.notebook.tqdm(total = int(combined_train.cardinality()))\n",
    "\n",
    "for item in iter(combined_train):\n",
    "    bar.update(1)\n",
    "    image = item[0][0]\n",
    "    segmentation = item[0][1]\n",
    "    \n",
    "    imgdecom = imghead(image)\n",
    "    segdecom = seghead(segmentation)\n",
    "    \n",
    "    mat = tf.reshape(imgdecom,[-1,imgdecom.shape[-1]])\n",
    "    segmat = tf.reshape(segdecom,[-1,imgdecom.shape[-1]])\n",
    "    \n",
    "    cov = tf.tensordot(mat,mat,[0,0])\n",
    "    xxt += cov\n",
    "    #del cov\n",
    "    \n",
    "    segcov = tf.tensordot(mat,segmat,[0,0])\n",
    "    yxt += segcov\n",
    "    #del segcov\n",
    "    \n",
    "    x_m += tf.linalg.matvec(mat,x,transpose_a=True)\n",
    "    y_m += tf.linalg.matvec(segmat,y,transpose_a=True)\n",
    "    \n",
    "    n += 1"
   ]
  },
  {
   "cell_type": "code",
   "execution_count": 16,
   "id": "b1275016",
   "metadata": {},
   "outputs": [],
   "source": [
    "directory = \"pca_vars/\"+\"seg2img\"\n",
    "if not os.path.exists(directory):\n",
    "    os.makedirs(directory)"
   ]
  },
  {
   "cell_type": "code",
   "execution_count": 17,
   "id": "49a63537",
   "metadata": {},
   "outputs": [],
   "source": [
    "np.save(directory+\"/xxt\",xxt)\n",
    "np.save(directory+\"/yxt\",yxt)\n",
    "np.save(directory+\"/x_m\",x_m)\n",
    "np.save(directory+\"/y_m\",y_m)\n",
    "np.save(directory+\"/n\",n)"
   ]
  },
  {
   "cell_type": "markdown",
   "id": "e50c3c20",
   "metadata": {},
   "source": [
    "## Calculating A and B"
   ]
  },
  {
   "cell_type": "markdown",
   "id": "f8d43fb5",
   "metadata": {},
   "source": [
    "This section uses the values found in the training loop to calculate values for A and B"
   ]
  },
  {
   "cell_type": "code",
   "execution_count": 18,
   "id": "a9db7982",
   "metadata": {},
   "outputs": [],
   "source": [
    "xxt = np.load(directory+\"/xxt.npy\")\n",
    "yxt = np.load(directory+\"/yxt.npy\")\n",
    "x_m = np.load(directory+\"/x_m.npy\")\n",
    "y_m = np.load(directory+\"/y_m.npy\")\n",
    "n = np.load(directory+\"/n.npy\")"
   ]
  },
  {
   "cell_type": "code",
   "execution_count": 21,
   "id": "89aeb210",
   "metadata": {},
   "outputs": [],
   "source": [
    "xxt = xxt - tf.matmul([x_m],[x_m],transpose_a=True)/n\n",
    "yxt = yxt - tf.matmul([x_m],[y_m],transpose_a=True)/n"
   ]
  },
  {
   "cell_type": "code",
   "execution_count": 22,
   "id": "20d9e71e",
   "metadata": {},
   "outputs": [],
   "source": [
    "inverse_xxt = tf.linalg.pinv(xxt)"
   ]
  },
  {
   "cell_type": "code",
   "execution_count": 23,
   "id": "729db57a",
   "metadata": {},
   "outputs": [],
   "source": [
    "A = tf.matmul(inverse_xxt,yxt)"
   ]
  },
  {
   "cell_type": "code",
   "execution_count": 26,
   "id": "aecc01a7",
   "metadata": {},
   "outputs": [],
   "source": [
    "b = (y_m - tf.linalg.matvec(A,x_m,transpose_a=True))/n"
   ]
  },
  {
   "cell_type": "code",
   "execution_count": 27,
   "id": "3005b4dd",
   "metadata": {},
   "outputs": [],
   "source": [
    "img_train, img_test = loader.import_processed_img()"
   ]
  },
  {
   "cell_type": "code",
   "execution_count": 30,
   "id": "8a880c74",
   "metadata": {},
   "outputs": [],
   "source": [
    "A_filter = tf.reshape(A,(1,1,shape_0,shape_0)) "
   ]
  },
  {
   "cell_type": "code",
   "execution_count": null,
   "id": "cc6b8e10",
   "metadata": {},
   "outputs": [],
   "source": []
  },
  {
   "cell_type": "code",
   "execution_count": null,
   "id": "605e7dbc",
   "metadata": {},
   "outputs": [],
   "source": [
    "image,seg_base = next(iter(combined_test.shuffle(100)))[0]\n",
    "imgdecom = imghead(image)\n",
    "conv = tf.nn.conv2d(imgdecom, A_filter,1,\"VALID\")\n",
    "conv = tf.nn.bias_add(conv,b)\n",
    "\n",
    "seg = seginvhead(tf.reshape(y,(1,shape_2,shape_2,shape_0)))\n",
    "plt.imshow(np.hstack([image,seg_base,seg[0]]))"
   ]
  },
  {
   "cell_type": "code",
   "execution_count": 73,
   "id": "cd368b8e",
   "metadata": {},
   "outputs": [
    {
     "data": {
      "text/plain": [
       "<tf.Tensor: shape=(1, 128, 128, 3), dtype=float64, numpy=\n",
       "array([[[[-10744.01384442,  -7476.27748969,  -9812.4269712 ],\n",
       "         [-10328.15915409,  -7132.31882694,  -9415.12017749],\n",
       "         [-10669.62898411,  -7404.29226015,  -9732.03405611],\n",
       "         ...,\n",
       "         [-10297.38789824,  -7101.74519789,  -9379.77700256],\n",
       "         [-10611.49629827,  -7346.59342349,  -9665.9627265 ],\n",
       "         [-10062.16701195,  -6868.2651189 ,  -9119.63699822]],\n",
       "\n",
       "        [[-10380.53073731,  -7159.29444535,  -9453.96432007],\n",
       "         [-10042.19244813,  -6884.37982058,  -9129.75449218],\n",
       "         [-10320.76795471,  -7101.90799557,  -9388.76978628],\n",
       "         ...,\n",
       "         [-10018.63518629,  -6861.01391399,  -9101.94586937],\n",
       "         [-10275.99156694,  -7057.5579195 ,  -9336.64310857],\n",
       "         [ -9827.90327602,  -6671.97416329,  -8888.22698106]],\n",
       "\n",
       "        [[-10698.05637122,  -7431.05335971,  -9764.69192162],\n",
       "         [-10287.52385423,  -7092.36865912,  -9373.05849112],\n",
       "         [-10623.57107049,  -7359.06113272,  -9684.08234138],\n",
       "         ...,\n",
       "         [-10256.69635832,  -7061.76753676,  -9337.62599411],\n",
       "         [-10565.63733388,  -7301.61741025,  -9618.18177699],\n",
       "         [-10022.8878812 ,  -6829.85511852,  -9079.08585794]],\n",
       "\n",
       "        ...,\n",
       "\n",
       "        [[-10355.46182981,  -7137.62580023,  -9431.96710285],\n",
       "         [-10020.2102054 ,  -6865.77152132,  -9111.09912296],\n",
       "         [-10295.31144431,  -7079.95882064,  -9366.42072265],\n",
       "         ...,\n",
       "         [ -9997.117037  ,  -6842.89123109,  -9083.78061263],\n",
       "         [-10251.03840047,  -7036.1672897 ,  -9314.84221923],\n",
       "         [ -9807.14169054,  -6654.71051611,  -8870.95415201]],\n",
       "\n",
       "        [[-10658.98951683,  -7396.61744051,  -9729.46357821],\n",
       "         [-10252.97999464,  -7062.39761893,  -9342.76335694],\n",
       "         [-10584.34190285,  -7324.62404355,  -9648.75990412],\n",
       "         ...,\n",
       "         [-10222.65126271,  -7032.32854679,  -9307.84749026],\n",
       "         [-10527.14092757,  -7267.99541103,  -9583.65552735],\n",
       "         [ -9991.16299726,  -6802.8976705 ,  -9051.90159416]],\n",
       "\n",
       "        [[-10224.19447355,  -7007.28124622,  -9292.12700255],\n",
       "         [ -9898.3485769 ,  -6744.67920205,  -8982.28288489],\n",
       "         [-10161.45583007,  -6947.20457755,  -9223.92881593],\n",
       "         ...,\n",
       "         [ -9874.90166392,  -6721.51508181,  -8954.60805044],\n",
       "         [-10117.52078954,  -6903.86064511,  -9172.74434538],\n",
       "         [ -9701.65832649,  -6550.37540235,  -8759.62004224]]]])>"
      ]
     },
     "execution_count": 73,
     "metadata": {},
     "output_type": "execute_result"
    }
   ],
   "source": [
    "seg"
   ]
  },
  {
   "cell_type": "code",
   "execution_count": null,
   "id": "1a75135f",
   "metadata": {},
   "outputs": [],
   "source": []
  }
 ],
 "metadata": {
  "kernelspec": {
   "display_name": "Python 3",
   "language": "python",
   "name": "python3"
  },
  "language_info": {
   "codemirror_mode": {
    "name": "ipython",
    "version": 3
   },
   "file_extension": ".py",
   "mimetype": "text/x-python",
   "name": "python",
   "nbconvert_exporter": "python",
   "pygments_lexer": "ipython3",
   "version": "3.8.8"
  }
 },
 "nbformat": 4,
 "nbformat_minor": 5
}
