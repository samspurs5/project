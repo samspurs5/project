{
 "cells": [
  {
   "cell_type": "code",
   "execution_count": 1,
   "id": "df594f92",
   "metadata": {},
   "outputs": [],
   "source": [
    "import tensorflow as tf\n",
    "import tensorflow_datasets as tfds\n",
    "import keras as K\n",
    "from keras.layers import *\n",
    "import matplotlib.pyplot as plt\n",
    "import numpy as np\n",
    "\n",
    "\n",
    "tf.keras.backend.set_floatx(\"float64\")"
   ]
  },
  {
   "cell_type": "code",
   "execution_count": 2,
   "id": "ed21cfbb",
   "metadata": {},
   "outputs": [],
   "source": [
    "def import_data(dataset):\n",
    "    if dataset == \"pets\":\n",
    "        ds,info = tfds.load('oxford_iiit_pet', split='all',with_info=True)\n",
    "    else:\n",
    "        ds,info = tfds.load('caltech_birds2010', split='all',with_info=True)\n",
    "    ds_train = ds.skip(300)\n",
    "    ds_test = ds.take(300)\n",
    "    return ds_train,ds_test,info\n",
    "dataset = \"birds\"\n",
    "ds_train_raw,ds_test_raw,info = import_data(dataset)"
   ]
  },
  {
   "cell_type": "code",
   "execution_count": 3,
   "id": "28ecb4b8",
   "metadata": {},
   "outputs": [],
   "source": [
    "IMAGE_SIZE = 128\n",
    "def pre_process_image(record):\n",
    "    \n",
    "    image = record[\"image\"]\n",
    "    image = image / 255\n",
    "    image = tf.image.resize(image, (IMAGE_SIZE, IMAGE_SIZE))\n",
    "    image = tf.cast(image, tf.float64)\n",
    "    \n",
    "    seg_image = record[\"segmentation_mask\"]\n",
    "    seg_image = tf.image.resize(seg_image, (IMAGE_SIZE, IMAGE_SIZE))\n",
    "\n",
    "    seg_image = tf.cast(seg_image, tf.uint8)\n",
    "    seg_image = seg_image % 2\n",
    "    seg_image = tf.cast(seg_image, tf.float64)\n",
    "    return image,seg_image\n",
    "\n",
    "resize_train = ds_train_raw.map(pre_process_image)\n",
    "resize_test = ds_test_raw.map(pre_process_image)"
   ]
  },
  {
   "cell_type": "code",
   "execution_count": 4,
   "id": "8474fa5e",
   "metadata": {},
   "outputs": [],
   "source": [
    "\n",
    "def dice_coef(y_true, y_pred):\n",
    "    y_true_f = K.backend.flatten(y_true)\n",
    "    y_pred_f = K.backend.flatten(y_pred)\n",
    "    intersection = K.backend.sum(y_true_f * y_pred_f)\n",
    "    return (2. * intersection) / (K.backend.sum(y_true_f) + K.backend.sum(y_pred_f))\n",
    "\n",
    "def diceCoefLoss(y_true, y_pred):\n",
    "    return (1-dice_coef(y_true, y_pred))"
   ]
  },
  {
   "cell_type": "code",
   "execution_count": 5,
   "id": "a5c2da8f",
   "metadata": {},
   "outputs": [],
   "source": [
    "input_img = Input(next(iter(resize_train))[0].shape, name=\"input_img\") \n",
    "x = Conv2D(8, (3, 3), activation='relu', padding='same')(input_img)\n",
    "x = MaxPooling2D(2, padding='same')(x)\n",
    "x = Conv2D(16, (3, 3), activation='relu', padding='same')(x)\n",
    "x = MaxPooling2D(2, padding='same')(x)\n",
    "x = Conv2D(32, (3, 3), activation='relu', padding='same')(x)\n",
    "x = MaxPooling2D(2, padding='same')(x)\n",
    "x = Conv2D(64, (3, 3), activation='relu', padding='same')(x)\n",
    "x = MaxPooling2D(2, padding='same')(x)\n",
    "x = Conv2D(128, (3, 3), activation='relu', padding='same')(x)\n",
    "x = MaxPooling2D(2, padding='same')(x)\n",
    "x = Conv2D(256, (3, 3), activation='relu', padding='same')(x)\n",
    "x = UpSampling2D((2, 2))(x)\n",
    "x = Conv2D(128, (3, 3), activation='relu', padding='same')(x)\n",
    "x = UpSampling2D((2, 2))(x)\n",
    "x = Conv2D(64, (3, 3), activation='relu', padding='same')(x)\n",
    "x = UpSampling2D((2, 2))(x)\n",
    "x = Conv2D(32, (3, 3), activation='relu', padding='same')(x)\n",
    "x = UpSampling2D((2, 2))(x)\n",
    "x = Conv2D(16, (3, 3), activation='relu', padding='same')(x)\n",
    "x = UpSampling2D((2, 2))(x)\n",
    "x = Conv2D(8, (3, 3), activation='relu', padding='same')(x)\n",
    "decoded = Conv2D(1, (1, 1), activation='sigmoid', padding='same',name=\"decoded\")(x)\n",
    "    \n",
    "autoencoder = K.Model(input_img, decoded)\n",
    "optimizer = K.optimizers.rmsprop_v2.RMSprop(learning_rate=0.0001)\n",
    "autoencoder.compile(optimizer=optimizer, loss=diceCoefLoss,metrics=[K.metrics.MeanIoU(num_classes=2),dice_coef])"
   ]
  },
  {
   "cell_type": "code",
   "execution_count": 6,
   "id": "6042deb4",
   "metadata": {},
   "outputs": [],
   "source": [
    "callbacks = [\n",
    "    K.callbacks.ModelCheckpoint(f\"{dataset}_autoencoder.h5\", save_best_only=True, monitor=\"val_dice_coef\",mode=\"max\")\n",
    "]\n",
    "\n",
    "# Train the model, doing validation at the end of each epoch.\n",
    "epochs = 80\n"
   ]
  },
  {
   "cell_type": "code",
   "execution_count": 7,
   "id": "2634daf2",
   "metadata": {},
   "outputs": [],
   "source": [
    "ds_train = resize_train.batch(64).prefetch(tf.data.AUTOTUNE)\n",
    "ds_test = resize_test.batch(64).prefetch(tf.data.AUTOTUNE)"
   ]
  },
  {
   "cell_type": "code",
   "execution_count": null,
   "id": "ec316177",
   "metadata": {},
   "outputs": [
    {
     "name": "stdout",
     "output_type": "stream",
     "text": [
      "Epoch 1/80\n",
      "90/90 - 707s - loss: 0.5286 - mean_io_u: 0.4193 - dice_coef: 0.4718 - val_loss: 0.4247 - val_mean_io_u: 0.4187 - val_dice_coef: 0.5780 - 707s/epoch - 8s/step\n",
      "Epoch 2/80\n",
      "90/90 - 417s - loss: 0.4258 - mean_io_u: 0.4193 - dice_coef: 0.5742 - val_loss: 0.4087 - val_mean_io_u: 0.4187 - val_dice_coef: 0.5943 - 417s/epoch - 5s/step\n",
      "Epoch 3/80\n",
      "90/90 - 417s - loss: 0.4068 - mean_io_u: 0.4193 - dice_coef: 0.5931 - val_loss: 0.3927 - val_mean_io_u: 0.4187 - val_dice_coef: 0.6101 - 417s/epoch - 5s/step\n",
      "Epoch 4/80\n",
      "90/90 - 419s - loss: 0.3876 - mean_io_u: 0.4193 - dice_coef: 0.6124 - val_loss: 0.3781 - val_mean_io_u: 0.4187 - val_dice_coef: 0.6244 - 419s/epoch - 5s/step\n",
      "Epoch 5/80\n",
      "90/90 - 399s - loss: 0.3726 - mean_io_u: 0.4193 - dice_coef: 0.6273 - val_loss: 0.3676 - val_mean_io_u: 0.4187 - val_dice_coef: 0.6347 - 399s/epoch - 4s/step\n",
      "Epoch 6/80\n",
      "90/90 - 404s - loss: 0.3620 - mean_io_u: 0.4193 - dice_coef: 0.6379 - val_loss: 0.3605 - val_mean_io_u: 0.4187 - val_dice_coef: 0.6417 - 404s/epoch - 4s/step\n",
      "Epoch 7/80\n",
      "90/90 - 411s - loss: 0.3536 - mean_io_u: 0.4193 - dice_coef: 0.6462 - val_loss: 0.3524 - val_mean_io_u: 0.4187 - val_dice_coef: 0.6497 - 411s/epoch - 5s/step\n",
      "Epoch 8/80\n",
      "90/90 - 417s - loss: 0.3470 - mean_io_u: 0.4193 - dice_coef: 0.6528 - val_loss: 0.3458 - val_mean_io_u: 0.4187 - val_dice_coef: 0.6561 - 417s/epoch - 5s/step\n",
      "Epoch 9/80\n",
      "90/90 - 421s - loss: 0.3409 - mean_io_u: 0.4193 - dice_coef: 0.6590 - val_loss: 0.3426 - val_mean_io_u: 0.4187 - val_dice_coef: 0.6593 - 421s/epoch - 5s/step\n",
      "Epoch 10/80\n",
      "90/90 - 397s - loss: 0.3359 - mean_io_u: 0.4193 - dice_coef: 0.6640 - val_loss: 0.3384 - val_mean_io_u: 0.4187 - val_dice_coef: 0.6634 - 397s/epoch - 4s/step\n",
      "Epoch 11/80\n"
     ]
    }
   ],
   "source": [
    "history = autoencoder.fit(ds_train,validation_data=ds_test,epochs=epochs,verbose=2,callbacks=callbacks)"
   ]
  },
  {
   "cell_type": "code",
   "execution_count": null,
   "id": "ef8bcfee",
   "metadata": {},
   "outputs": [],
   "source": [
    "import matplotlib.pyplot as plt\n",
    "\n",
    "plt.plot(history.history[\"val_dice_coef\"],label= \"val_dice_coef\")\n",
    "plt.plot(history.history[\"dice_coef\"],label=\"train_dice_coef\")\n",
    "plt.legend()"
   ]
  },
  {
   "cell_type": "code",
   "execution_count": null,
   "id": "2009a5c4",
   "metadata": {},
   "outputs": [],
   "source": [
    "image = next(iter(resize_train.shuffle(100).take(1)))\n",
    "\n",
    "mask = np.repeat(image[1],3).reshape(IMAGE_SIZE,IMAGE_SIZE,3)\n",
    "pred = np.round(np.repeat(autoencoder.predict(image[0].numpy().reshape(-1,128,128,3))[0],3).reshape((IMAGE_SIZE,IMAGE_SIZE,3)))\n",
    "plt.imshow(np.hstack([image[0],pred,mask]))\n",
    "\n",
    "# display that image\n",
    "plt.show()\n",
    "print(dice_coef(mask,pred))"
   ]
  },
  {
   "cell_type": "code",
   "execution_count": null,
   "id": "0e8e4022",
   "metadata": {},
   "outputs": [],
   "source": [
    "\n",
    "\n",
    "for split in [\"train\",\"test\"]:\n",
    "    \n",
    "    if split == \"train\":\n",
    "        ds = resize_train\n",
    "    else:\n",
    "        ds = resize_test\n",
    "    dice_coeff_vals = []\n",
    "    n = int(ds.cardinality())\n",
    "    for image in iter(ds):\n",
    "\n",
    "        mask = image[1]\n",
    "        pred = autoencoder.predict(tf.reshape(image[0],(-1,128,128,3)))\n",
    "        dice_coeff_vals.append(dice_coef(mask,pred[0]))\n",
    "\n",
    "    dice_coeff_mean = sum(dice_coeff_vals)/n\n",
    "    dice_coeff_std = (sum([((x - dice_coeff_mean) ** 2) for x in dice_coeff_vals]) / n)**0.5\n",
    "    np.save(f\"CNN_{dataset}_{split}\",dice_coeff_vals)"
   ]
  },
  {
   "cell_type": "code",
   "execution_count": null,
   "id": "5689a184",
   "metadata": {},
   "outputs": [],
   "source": []
  }
 ],
 "metadata": {
  "kernelspec": {
   "display_name": "Python 3",
   "language": "python",
   "name": "python3"
  },
  "language_info": {
   "codemirror_mode": {
    "name": "ipython",
    "version": 3
   },
   "file_extension": ".py",
   "mimetype": "text/x-python",
   "name": "python",
   "nbconvert_exporter": "python",
   "pygments_lexer": "ipython3",
   "version": "3.8.8"
  }
 },
 "nbformat": 4,
 "nbformat_minor": 5
}
