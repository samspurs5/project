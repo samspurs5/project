{
 "cells": [
  {
   "cell_type": "code",
   "execution_count": 1,
   "id": "eb44dc43",
   "metadata": {},
   "outputs": [],
   "source": [
    "import tensorflow_datasets as tfds\n",
    "import tensorflow as tf\n",
    "from keras.layers import *\n",
    "import tensorflow.keras as K\n",
    "import matplotlib.pyplot as plt\n",
    "from keras.models import load_model\n",
    "import numpy as np\n",
    "\n",
    "tf.keras.backend.set_floatx(\"float64\")"
   ]
  },
  {
   "cell_type": "code",
   "execution_count": 2,
   "id": "4d6f570b",
   "metadata": {},
   "outputs": [],
   "source": [
    "\n",
    "def import_data(dataset):\n",
    "    if dataset == \"pets\":\n",
    "        ds,info = tfds.load('oxford_iiit_pet', split='all',with_info=True)\n",
    "    else:\n",
    "        ds,info = tfds.load('caltech_birds2010', split='all',with_info=True)\n",
    "    ds_train = ds.skip(300)\n",
    "    ds_test = ds.take(300)\n",
    "    return ds_train,ds_test,info\n",
    "dataset = \"birds\"\n",
    "ds_train_raw,ds_test_raw,info = import_data(dataset)"
   ]
  },
  {
   "cell_type": "code",
   "execution_count": 3,
   "id": "a7311e78",
   "metadata": {},
   "outputs": [],
   "source": [
    "IMAGE_SIZE = 128\n",
    "def pre_process_image(record):\n",
    "    \n",
    "    image = record[\"image\"]\n",
    "    image = image / 255\n",
    "    image = tf.image.resize(image, (IMAGE_SIZE, IMAGE_SIZE))\n",
    "    image = tf.cast(image, tf.float64)\n",
    "    \n",
    "    seg_image = record[\"segmentation_mask\"]\n",
    "    seg_image = tf.image.resize(seg_image, (IMAGE_SIZE, IMAGE_SIZE))\n",
    "\n",
    "    seg_image = tf.cast(seg_image, tf.uint8)\n",
    "    seg_image = seg_image % 2\n",
    "    seg_image = tf.cast(seg_image, tf.float64)\n",
    "    return image,seg_image\n",
    "\n",
    "resize_train = ds_train_raw.map(pre_process_image)\n",
    "resize_test = ds_test_raw.map(pre_process_image)"
   ]
  },
  {
   "cell_type": "code",
   "execution_count": 4,
   "id": "7e51b173",
   "metadata": {},
   "outputs": [],
   "source": [
    "\n",
    "inputs = K.Input(shape=(IMAGE_SIZE,IMAGE_SIZE,3),name=\"image\")\n",
    "\n",
    "conv1 = Conv2D(16, 3, activation='relu', padding='same')(inputs)\n",
    "conv1 = Conv2D(16, 3, activation='relu', padding='same')(conv1)\n",
    "pool1 = MaxPooling2D(2)(conv1)\n",
    "\n",
    "conv2 = Conv2D(32, 3, activation='relu', padding='same')(pool1)\n",
    "conv2 = Conv2D(32, 3, activation='relu', padding='same')(conv2)\n",
    "pool2 = MaxPooling2D(2)(conv2)\n",
    "\n",
    "conv3 = Conv2D(64, 3, activation='relu', padding='same')(pool2)\n",
    "conv3 = Conv2D(64, 3, activation='relu', padding='same')(conv3)\n",
    "pool3 = MaxPooling2D(2)(conv3)\n",
    "\n",
    "conv4 = Conv2D(128, 3, activation='relu', padding='same')(pool3)\n",
    "conv4 = Conv2D(128, 3, activation='relu', padding='same')(conv4)\n",
    "pool4 = MaxPooling2D(2)(conv4)\n",
    "\n",
    "conv5 = Conv2D(256, 3, activation='relu', padding='same')(pool4)\n",
    "conv5 = Conv2D(256, 3, activation='relu', padding='same')(conv5)\n",
    "pool4 = MaxPooling2D(2)(conv5)\n",
    "\n",
    "convT1 = Conv2DTranspose(128, (2,2), strides=(2,2), padding='same')(conv5)\n",
    "\n",
    "skip1 = concatenate([convT1, conv4])\n",
    "conv6 = Conv2D(128, (3,3), activation='relu', padding='same')(skip1)\n",
    "conv6 = Conv2D(128, (3,3), activation='relu', padding='same')(conv6)\n",
    "convT2 = Conv2DTranspose(64, (2,2), strides=(2,2), padding='same')(conv6)\n",
    "\n",
    "skip2 = concatenate([convT2, conv3])\n",
    "conv7 = Conv2D(64, (3,3), activation='relu', padding='same')(skip2)\n",
    "conv7 = Conv2D(64, (3,3), activation='relu', padding='same')(conv7)\n",
    "convT3 = Conv2DTranspose(32, (2,2), strides=(2,2), padding='same')(conv7)\n",
    "\n",
    "skip3 = concatenate([convT3, conv2])\n",
    "conv8 = Conv2D(32, (3,3), activation='relu', padding='same')(skip3)\n",
    "conv8 = Conv2D(32, (3,3), activation='relu', padding='same')(conv8)\n",
    "convT4 = Conv2DTranspose(16, (2,2), strides=(2,2), padding='same')(conv8)\n",
    "\n",
    "skip4 = concatenate([convT4, conv1])\n",
    "conv9 = Conv2D(32, (3,3), activation='relu', padding='same')(skip4)\n",
    "conv10 = Conv2D(16, (1,1), strides=(1,1), padding='same', name = \"c10\")(conv9)"
   ]
  },
  {
   "cell_type": "code",
   "execution_count": 5,
   "id": "7505d584",
   "metadata": {},
   "outputs": [],
   "source": [
    "outputs = Conv2D(1, (1,1), activation=\"sigmoid\", padding=\"same\")(conv10)\n",
    "model = K.Model(inputs, outputs)"
   ]
  },
  {
   "cell_type": "code",
   "execution_count": 6,
   "id": "9c0b3255",
   "metadata": {},
   "outputs": [],
   "source": [
    "def dice_coef(y_true, y_pred):\n",
    "    y_true_f = K.backend.flatten(y_true)\n",
    "    y_pred_f = K.backend.flatten(y_pred)\n",
    "    intersection = K.backend.sum(y_true_f * y_pred_f)\n",
    "\n",
    "    return (2. * intersection) / (K.backend.sum(y_true_f) + K.backend.sum(y_pred_f))\n",
    "\n",
    "def diceCoefLoss(y_true, y_pred):\n",
    "\n",
    "    return (1-dice_coef(y_true, y_pred))"
   ]
  },
  {
   "cell_type": "code",
   "execution_count": 7,
   "id": "81a0b795",
   "metadata": {},
   "outputs": [],
   "source": [
    "ds_train = resize_train.batch(64).prefetch(tf.data.AUTOTUNE)\n",
    "ds_test = resize_test.batch(64).prefetch(tf.data.AUTOTUNE)"
   ]
  },
  {
   "cell_type": "code",
   "execution_count": 8,
   "id": "9caf34e8",
   "metadata": {},
   "outputs": [],
   "source": [
    "import time\n",
    "\n",
    "optimizer = K.optimizers.RMSprop(learning_rate=0.0001)\n",
    "model.compile(optimizer=optimizer, loss=diceCoefLoss,metrics=[K.metrics.MeanIoU(num_classes=2),dice_coef])\n",
    "\n",
    "callbacks = [\n",
    "    K.callbacks.ModelCheckpoint(f\"{dataset}_segmentation.h5\", save_best_only=True, monitor=\"val_dice_coef\",mode=\"max\"),\n",
    "    #K.callbacks.EarlyStopping(\"val_dice_coef\",mode=\"max\")\n",
    "\n",
    "]\n",
    "\n",
    "# Train the model, doing validation at the end of each epoch.\n",
    "epochs = 80\n"
   ]
  },
  {
   "cell_type": "code",
   "execution_count": null,
   "id": "9197ee56",
   "metadata": {
    "scrolled": true
   },
   "outputs": [
    {
     "name": "stdout",
     "output_type": "stream",
     "text": [
      "Epoch 1/80\n",
      "90/90 - 1528s - loss: 0.6281 - mean_io_u: 0.4295 - dice_coef: 0.3726 - val_loss: 0.4514 - val_mean_io_u: 0.4211 - val_dice_coef: 0.5505 - 1528s/epoch - 17s/step\n",
      "Epoch 2/80\n",
      "90/90 - 1209s - loss: 0.4561 - mean_io_u: 0.4503 - dice_coef: 0.5438 - val_loss: 0.4412 - val_mean_io_u: 0.4187 - val_dice_coef: 0.5606 - 1209s/epoch - 13s/step\n",
      "Epoch 3/80\n",
      "90/90 - 1240s - loss: 0.4357 - mean_io_u: 0.4210 - dice_coef: 0.5644 - val_loss: 0.3840 - val_mean_io_u: 0.4187 - val_dice_coef: 0.6181 - 1240s/epoch - 14s/step\n",
      "Epoch 4/80\n"
     ]
    }
   ],
   "source": [
    "start = time.time()\n",
    "history = model.fit(ds_train,validation_data=ds_test,epochs=epochs,verbose=2,callbacks=callbacks)\n",
    "end = time.time()"
   ]
  },
  {
   "cell_type": "code",
   "execution_count": null,
   "id": "444d7a06",
   "metadata": {},
   "outputs": [],
   "source": [
    "print(end-start)"
   ]
  },
  {
   "cell_type": "code",
   "execution_count": null,
   "id": "6dbc9d2f",
   "metadata": {},
   "outputs": [],
   "source": [
    "\n",
    "plt.plot(history.history[\"val_dice_coef\"],label= \"val_dice_coef\")\n",
    "plt.plot(history.history[\"dice_coef\"],label=\"train_dice_coef\")\n",
    "plt.legend()"
   ]
  },
  {
   "cell_type": "code",
   "execution_count": null,
   "id": "9f21f47d",
   "metadata": {},
   "outputs": [],
   "source": [
    "model.load_weights(f\"{dataset}_segmentation.h5\")"
   ]
  },
  {
   "cell_type": "code",
   "execution_count": null,
   "id": "dc99d170",
   "metadata": {},
   "outputs": [],
   "source": [
    "image = next(iter(resize_train.shuffle(100).take(1)))\n",
    "\n",
    "mask = np.repeat(image[1],3).reshape(IMAGE_SIZE,IMAGE_SIZE,3)\n",
    "pred = np.round(np.repeat(model.predict(image[0].numpy().reshape(-1,128,128,3))[0],3).reshape((IMAGE_SIZE,IMAGE_SIZE,3)))\n",
    "plt.imshow(np.hstack([image[0],pred,mask]))\n",
    "\n",
    "# display that image\n",
    "plt.show()\n",
    "print(dice_coef(mask,pred))"
   ]
  },
  {
   "cell_type": "code",
   "execution_count": null,
   "id": "9fa4c016",
   "metadata": {},
   "outputs": [],
   "source": [
    "for split in [\"train\",\"test\"]:\n",
    "\n",
    "    if split == \"train\":\n",
    "        ds = resize_train\n",
    "    else:\n",
    "        ds = resize_test\n",
    "    dice_coeff_vals = []\n",
    "    n = int(ds.cardinality())\n",
    "    for image in iter(ds):\n",
    "\n",
    "        mask = image[1]\n",
    "        pred = model.predict(tf.reshape(image[0],(-1,128,128,3)))\n",
    "        dice_coeff_vals.append(dice_coef(mask,pred[0]))\n",
    "\n",
    "    dice_coeff_mean = sum(dice_coeff_vals)/n\n",
    "    dice_coeff_std = (sum([((x - dice_coeff_mean) ** 2) for x in dice_coeff_vals]) / n)**0.5\n",
    "    np.save(f\"UNET_{dataset}_{split}\",dice_coeff_vals)"
   ]
  },
  {
   "cell_type": "code",
   "execution_count": null,
   "id": "5b27e026",
   "metadata": {},
   "outputs": [],
   "source": []
  }
 ],
 "metadata": {
  "kernelspec": {
   "display_name": "Python 3",
   "language": "python",
   "name": "python3"
  },
  "language_info": {
   "codemirror_mode": {
    "name": "ipython",
    "version": 3
   },
   "file_extension": ".py",
   "mimetype": "text/x-python",
   "name": "python",
   "nbconvert_exporter": "python",
   "pygments_lexer": "ipython3",
   "version": "3.8.8"
  }
 },
 "nbformat": 4,
 "nbformat_minor": 5
}
