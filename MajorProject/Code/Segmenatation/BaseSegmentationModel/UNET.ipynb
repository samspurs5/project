{
 "cells": [
  {
   "cell_type": "code",
   "execution_count": 1,
   "id": "eb44dc43",
   "metadata": {},
   "outputs": [],
   "source": [
    "import tensorflow_datasets as tfds\n",
    "import tensorflow as tf\n",
    "from keras.layers import *\n",
    "import tensorflow.keras as K\n",
    "import matplotlib.pyplot as plt\n",
    "from keras.models import load_model\n",
    "import numpy as np\n",
    "\n",
    "tf.keras.backend.set_floatx(\"float64\")"
   ]
  },
  {
   "cell_type": "code",
   "execution_count": 2,
   "id": "4d6f570b",
   "metadata": {},
   "outputs": [],
   "source": [
    "\n",
    "def import_data(dataset):\n",
    "    if dataset == \"pets\":\n",
    "        ds,info = tfds.load('oxford_iiit_pet', split='all',with_info=True)\n",
    "    else:\n",
    "        ds,info = tfds.load('caltech_birds2010', split='all',with_info=True)\n",
    "    ds_train = ds.skip(300)\n",
    "    ds_test = ds.take(300)\n",
    "    return ds_train,ds_test,info\n",
    "dataset = \"birds\"\n",
    "ds_train_raw,ds_test_raw,info = import_data(dataset)"
   ]
  },
  {
   "cell_type": "code",
   "execution_count": 3,
   "id": "a7311e78",
   "metadata": {},
   "outputs": [],
   "source": [
    "IMAGE_SIZE = 128\n",
    "def pre_process_image(record):\n",
    "    \n",
    "    image = record[\"image\"]\n",
    "    image = image / 255\n",
    "    image = tf.image.resize(image, (IMAGE_SIZE, IMAGE_SIZE))\n",
    "    image = tf.cast(image, tf.float64)\n",
    "    \n",
    "    seg_image = record[\"segmentation_mask\"]\n",
    "    seg_image = tf.image.resize(seg_image, (IMAGE_SIZE, IMAGE_SIZE))\n",
    "\n",
    "    seg_image = tf.cast(seg_image, tf.uint8)\n",
    "    seg_image = seg_image % 2\n",
    "    seg_image = tf.cast(seg_image, tf.float64)\n",
    "    return image,seg_image\n",
    "\n",
    "resize_train = ds_train_raw.map(pre_process_image)\n",
    "resize_test = ds_test_raw.map(pre_process_image)"
   ]
  },
  {
   "cell_type": "code",
   "execution_count": 4,
   "id": "7e51b173",
   "metadata": {},
   "outputs": [],
   "source": [
    "\n",
    "inputs = K.Input(shape=(IMAGE_SIZE,IMAGE_SIZE,3),name=\"image\")\n",
    "\n",
    "conv1 = Conv2D(16, 3, activation='relu', padding='same')(inputs)\n",
    "conv1 = Conv2D(16, 3, activation='relu', padding='same')(conv1)\n",
    "pool1 = MaxPooling2D(2)(conv1)\n",
    "\n",
    "conv2 = Conv2D(32, 3, activation='relu', padding='same')(pool1)\n",
    "conv2 = Conv2D(32, 3, activation='relu', padding='same')(conv2)\n",
    "pool2 = MaxPooling2D(2)(conv2)\n",
    "\n",
    "conv3 = Conv2D(64, 3, activation='relu', padding='same')(pool2)\n",
    "conv3 = Conv2D(64, 3, activation='relu', padding='same')(conv3)\n",
    "pool3 = MaxPooling2D(2)(conv3)\n",
    "\n",
    "conv4 = Conv2D(128, 3, activation='relu', padding='same')(pool3)\n",
    "conv4 = Conv2D(128, 3, activation='relu', padding='same')(conv4)\n",
    "pool4 = MaxPooling2D(2)(conv4)\n",
    "\n",
    "conv5 = Conv2D(256, 3, activation='relu', padding='same')(pool4)\n",
    "conv5 = Conv2D(256, 3, activation='relu', padding='same')(conv5)\n",
    "pool4 = MaxPooling2D(2)(conv5)\n",
    "\n",
    "convT1 = Conv2DTranspose(128, (2,2), strides=(2,2), padding='same')(conv5)\n",
    "\n",
    "skip1 = concatenate([convT1, conv4])\n",
    "conv6 = Conv2D(128, (3,3), activation='relu', padding='same')(skip1)\n",
    "conv6 = Conv2D(128, (3,3), activation='relu', padding='same')(conv6)\n",
    "convT2 = Conv2DTranspose(64, (2,2), strides=(2,2), padding='same')(conv6)\n",
    "\n",
    "skip2 = concatenate([convT2, conv3])\n",
    "conv7 = Conv2D(64, (3,3), activation='relu', padding='same')(skip2)\n",
    "conv7 = Conv2D(64, (3,3), activation='relu', padding='same')(conv7)\n",
    "convT3 = Conv2DTranspose(32, (2,2), strides=(2,2), padding='same')(conv7)\n",
    "\n",
    "skip3 = concatenate([convT3, conv2])\n",
    "conv8 = Conv2D(32, (3,3), activation='relu', padding='same')(skip3)\n",
    "conv8 = Conv2D(32, (3,3), activation='relu', padding='same')(conv8)\n",
    "convT4 = Conv2DTranspose(16, (2,2), strides=(2,2), padding='same')(conv8)\n",
    "\n",
    "skip4 = concatenate([convT4, conv1])\n",
    "conv9 = Conv2D(32, (3,3), activation='relu', padding='same')(skip4)\n",
    "conv10 = Conv2D(16, (1,1), strides=(1,1), padding='same', name = \"c10\")(conv9)"
   ]
  },
  {
   "cell_type": "code",
   "execution_count": 5,
   "id": "7505d584",
   "metadata": {},
   "outputs": [],
   "source": [
    "outputs = Conv2D(1, (1,1), activation=\"sigmoid\", padding=\"same\")(conv10)\n",
    "model = K.Model(inputs, outputs)"
   ]
  },
  {
   "cell_type": "code",
   "execution_count": 6,
   "id": "9c0b3255",
   "metadata": {},
   "outputs": [],
   "source": [
    "def dice_coef(y_true, y_pred):\n",
    "    y_true_f = K.backend.flatten(y_true)\n",
    "    y_pred_f = K.backend.flatten(y_pred)\n",
    "    intersection = K.backend.sum(y_true_f * y_pred_f)\n",
    "\n",
    "    return (2. * intersection) / (K.backend.sum(y_true_f) + K.backend.sum(y_pred_f))\n",
    "\n",
    "def diceCoefLoss(y_true, y_pred):\n",
    "\n",
    "    return (1-dice_coef(y_true, y_pred))"
   ]
  },
  {
   "cell_type": "code",
   "execution_count": 7,
   "id": "81a0b795",
   "metadata": {},
   "outputs": [],
   "source": [
    "ds_train = resize_train.batch(64).prefetch(tf.data.AUTOTUNE)\n",
    "ds_test = resize_test.batch(64).prefetch(tf.data.AUTOTUNE)"
   ]
  },
  {
   "cell_type": "code",
   "execution_count": 8,
   "id": "9caf34e8",
   "metadata": {},
   "outputs": [],
   "source": [
    "import time\n",
    "\n",
    "optimizer = K.optimizers.RMSprop(learning_rate=0.0001)\n",
    "model.compile(optimizer=optimizer, loss=diceCoefLoss,metrics=[K.metrics.MeanIoU(num_classes=2),dice_coef])\n",
    "\n",
    "callbacks = [\n",
    "    K.callbacks.ModelCheckpoint(f\"{dataset}_segmentation.h5\", save_best_only=True, monitor=\"val_dice_coef\",mode=\"max\"),\n",
    "    #K.callbacks.EarlyStopping(\"val_dice_coef\",mode=\"max\")\n",
    "\n",
    "]\n",
    "\n",
    "# Train the model, doing validation at the end of each epoch.\n",
    "epochs = 80\n"
   ]
  },
  {
   "cell_type": "code",
   "execution_count": 9,
   "id": "9197ee56",
   "metadata": {
    "scrolled": true
   },
   "outputs": [
    {
     "name": "stdout",
     "output_type": "stream",
     "text": [
      "Epoch 1/80\n",
      "90/90 - 1528s - loss: 0.6281 - mean_io_u: 0.4295 - dice_coef: 0.3726 - val_loss: 0.4514 - val_mean_io_u: 0.4211 - val_dice_coef: 0.5505 - 1528s/epoch - 17s/step\n",
      "Epoch 2/80\n",
      "90/90 - 1209s - loss: 0.4561 - mean_io_u: 0.4503 - dice_coef: 0.5438 - val_loss: 0.4412 - val_mean_io_u: 0.4187 - val_dice_coef: 0.5606 - 1209s/epoch - 13s/step\n",
      "Epoch 3/80\n",
      "90/90 - 1240s - loss: 0.4357 - mean_io_u: 0.4210 - dice_coef: 0.5644 - val_loss: 0.3840 - val_mean_io_u: 0.4187 - val_dice_coef: 0.6181 - 1240s/epoch - 14s/step\n",
      "Epoch 4/80\n",
      "90/90 - 1203s - loss: 0.3611 - mean_io_u: 0.4197 - dice_coef: 0.6388 - val_loss: 0.3552 - val_mean_io_u: 0.4187 - val_dice_coef: 0.6466 - 1203s/epoch - 13s/step\n",
      "Epoch 5/80\n",
      "90/90 - 1015s - loss: 0.3365 - mean_io_u: 0.4220 - dice_coef: 0.6634 - val_loss: 0.3478 - val_mean_io_u: 0.4194 - val_dice_coef: 0.6542 - 1015s/epoch - 11s/step\n",
      "Epoch 6/80\n",
      "90/90 - 1008s - loss: 0.3251 - mean_io_u: 0.4240 - dice_coef: 0.6747 - val_loss: 0.3384 - val_mean_io_u: 0.4208 - val_dice_coef: 0.6640 - 1008s/epoch - 11s/step\n",
      "Epoch 7/80\n",
      "90/90 - 994s - loss: 0.3156 - mean_io_u: 0.4253 - dice_coef: 0.6842 - val_loss: 0.3325 - val_mean_io_u: 0.4221 - val_dice_coef: 0.6702 - 994s/epoch - 11s/step\n",
      "Epoch 8/80\n",
      "90/90 - 966s - loss: 0.3075 - mean_io_u: 0.4261 - dice_coef: 0.6924 - val_loss: 0.3194 - val_mean_io_u: 0.4235 - val_dice_coef: 0.6833 - 966s/epoch - 11s/step\n",
      "Epoch 9/80\n",
      "90/90 - 965s - loss: 0.3000 - mean_io_u: 0.4281 - dice_coef: 0.6999 - val_loss: 0.3121 - val_mean_io_u: 0.4240 - val_dice_coef: 0.6906 - 965s/epoch - 11s/step\n",
      "Epoch 10/80\n",
      "90/90 - 994s - loss: 0.2931 - mean_io_u: 0.4309 - dice_coef: 0.7068 - val_loss: 0.3057 - val_mean_io_u: 0.4280 - val_dice_coef: 0.6968 - 994s/epoch - 11s/step\n",
      "Epoch 11/80\n",
      "90/90 - 1000s - loss: 0.2872 - mean_io_u: 0.4349 - dice_coef: 0.7127 - val_loss: 0.2988 - val_mean_io_u: 0.4281 - val_dice_coef: 0.7037 - 1000s/epoch - 11s/step\n",
      "Epoch 12/80\n",
      "90/90 - 979s - loss: 0.2807 - mean_io_u: 0.4370 - dice_coef: 0.7192 - val_loss: 0.2907 - val_mean_io_u: 0.4287 - val_dice_coef: 0.7116 - 979s/epoch - 11s/step\n",
      "Epoch 13/80\n",
      "90/90 - 1008s - loss: 0.2759 - mean_io_u: 0.4420 - dice_coef: 0.7241 - val_loss: 0.2855 - val_mean_io_u: 0.4346 - val_dice_coef: 0.7166 - 1008s/epoch - 11s/step\n",
      "Epoch 14/80\n",
      "90/90 - 979s - loss: 0.2700 - mean_io_u: 0.4447 - dice_coef: 0.7299 - val_loss: 0.2809 - val_mean_io_u: 0.4351 - val_dice_coef: 0.7210 - 979s/epoch - 11s/step\n",
      "Epoch 15/80\n",
      "90/90 - 2363s - loss: 0.2649 - mean_io_u: 0.4512 - dice_coef: 0.7351 - val_loss: 0.2810 - val_mean_io_u: 0.4283 - val_dice_coef: 0.7209 - 2363s/epoch - 26s/step\n",
      "Epoch 16/80\n",
      "90/90 - 2176s - loss: 0.2596 - mean_io_u: 0.4592 - dice_coef: 0.7404 - val_loss: 0.2885 - val_mean_io_u: 0.4254 - val_dice_coef: 0.7135 - 2176s/epoch - 24s/step\n",
      "Epoch 17/80\n"
     ]
    },
    {
     "ename": "KeyboardInterrupt",
     "evalue": "",
     "output_type": "error",
     "traceback": [
      "\u001b[1;31m---------------------------------------------------------------------------\u001b[0m",
      "\u001b[1;31mKeyboardInterrupt\u001b[0m                         Traceback (most recent call last)",
      "\u001b[1;32m<ipython-input-9-68168300f53d>\u001b[0m in \u001b[0;36m<module>\u001b[1;34m\u001b[0m\n\u001b[0;32m      1\u001b[0m \u001b[0mstart\u001b[0m \u001b[1;33m=\u001b[0m \u001b[0mtime\u001b[0m\u001b[1;33m.\u001b[0m\u001b[0mtime\u001b[0m\u001b[1;33m(\u001b[0m\u001b[1;33m)\u001b[0m\u001b[1;33m\u001b[0m\u001b[1;33m\u001b[0m\u001b[0m\n\u001b[1;32m----> 2\u001b[1;33m \u001b[0mhistory\u001b[0m \u001b[1;33m=\u001b[0m \u001b[0mmodel\u001b[0m\u001b[1;33m.\u001b[0m\u001b[0mfit\u001b[0m\u001b[1;33m(\u001b[0m\u001b[0mds_train\u001b[0m\u001b[1;33m,\u001b[0m\u001b[0mvalidation_data\u001b[0m\u001b[1;33m=\u001b[0m\u001b[0mds_test\u001b[0m\u001b[1;33m,\u001b[0m\u001b[0mepochs\u001b[0m\u001b[1;33m=\u001b[0m\u001b[0mepochs\u001b[0m\u001b[1;33m,\u001b[0m\u001b[0mverbose\u001b[0m\u001b[1;33m=\u001b[0m\u001b[1;36m2\u001b[0m\u001b[1;33m,\u001b[0m\u001b[0mcallbacks\u001b[0m\u001b[1;33m=\u001b[0m\u001b[0mcallbacks\u001b[0m\u001b[1;33m)\u001b[0m\u001b[1;33m\u001b[0m\u001b[1;33m\u001b[0m\u001b[0m\n\u001b[0m\u001b[0;32m      3\u001b[0m \u001b[0mend\u001b[0m \u001b[1;33m=\u001b[0m \u001b[0mtime\u001b[0m\u001b[1;33m.\u001b[0m\u001b[0mtime\u001b[0m\u001b[1;33m(\u001b[0m\u001b[1;33m)\u001b[0m\u001b[1;33m\u001b[0m\u001b[1;33m\u001b[0m\u001b[0m\n",
      "\u001b[1;32m~\\anaconda3\\envs\\anaconda_env\\lib\\site-packages\\keras\\utils\\traceback_utils.py\u001b[0m in \u001b[0;36merror_handler\u001b[1;34m(*args, **kwargs)\u001b[0m\n\u001b[0;32m     62\u001b[0m     \u001b[0mfiltered_tb\u001b[0m \u001b[1;33m=\u001b[0m \u001b[1;32mNone\u001b[0m\u001b[1;33m\u001b[0m\u001b[1;33m\u001b[0m\u001b[0m\n\u001b[0;32m     63\u001b[0m     \u001b[1;32mtry\u001b[0m\u001b[1;33m:\u001b[0m\u001b[1;33m\u001b[0m\u001b[1;33m\u001b[0m\u001b[0m\n\u001b[1;32m---> 64\u001b[1;33m       \u001b[1;32mreturn\u001b[0m \u001b[0mfn\u001b[0m\u001b[1;33m(\u001b[0m\u001b[1;33m*\u001b[0m\u001b[0margs\u001b[0m\u001b[1;33m,\u001b[0m \u001b[1;33m**\u001b[0m\u001b[0mkwargs\u001b[0m\u001b[1;33m)\u001b[0m\u001b[1;33m\u001b[0m\u001b[1;33m\u001b[0m\u001b[0m\n\u001b[0m\u001b[0;32m     65\u001b[0m     \u001b[1;32mexcept\u001b[0m \u001b[0mException\u001b[0m \u001b[1;32mas\u001b[0m \u001b[0me\u001b[0m\u001b[1;33m:\u001b[0m  \u001b[1;31m# pylint: disable=broad-except\u001b[0m\u001b[1;33m\u001b[0m\u001b[1;33m\u001b[0m\u001b[0m\n\u001b[0;32m     66\u001b[0m       \u001b[0mfiltered_tb\u001b[0m \u001b[1;33m=\u001b[0m \u001b[0m_process_traceback_frames\u001b[0m\u001b[1;33m(\u001b[0m\u001b[0me\u001b[0m\u001b[1;33m.\u001b[0m\u001b[0m__traceback__\u001b[0m\u001b[1;33m)\u001b[0m\u001b[1;33m\u001b[0m\u001b[1;33m\u001b[0m\u001b[0m\n",
      "\u001b[1;32m~\\anaconda3\\envs\\anaconda_env\\lib\\site-packages\\keras\\engine\\training.py\u001b[0m in \u001b[0;36mfit\u001b[1;34m(self, x, y, batch_size, epochs, verbose, callbacks, validation_split, validation_data, shuffle, class_weight, sample_weight, initial_epoch, steps_per_epoch, validation_steps, validation_batch_size, validation_freq, max_queue_size, workers, use_multiprocessing)\u001b[0m\n\u001b[0;32m   1214\u001b[0m                 _r=1):\n\u001b[0;32m   1215\u001b[0m               \u001b[0mcallbacks\u001b[0m\u001b[1;33m.\u001b[0m\u001b[0mon_train_batch_begin\u001b[0m\u001b[1;33m(\u001b[0m\u001b[0mstep\u001b[0m\u001b[1;33m)\u001b[0m\u001b[1;33m\u001b[0m\u001b[1;33m\u001b[0m\u001b[0m\n\u001b[1;32m-> 1216\u001b[1;33m               \u001b[0mtmp_logs\u001b[0m \u001b[1;33m=\u001b[0m \u001b[0mself\u001b[0m\u001b[1;33m.\u001b[0m\u001b[0mtrain_function\u001b[0m\u001b[1;33m(\u001b[0m\u001b[0miterator\u001b[0m\u001b[1;33m)\u001b[0m\u001b[1;33m\u001b[0m\u001b[1;33m\u001b[0m\u001b[0m\n\u001b[0m\u001b[0;32m   1217\u001b[0m               \u001b[1;32mif\u001b[0m \u001b[0mdata_handler\u001b[0m\u001b[1;33m.\u001b[0m\u001b[0mshould_sync\u001b[0m\u001b[1;33m:\u001b[0m\u001b[1;33m\u001b[0m\u001b[1;33m\u001b[0m\u001b[0m\n\u001b[0;32m   1218\u001b[0m                 \u001b[0mcontext\u001b[0m\u001b[1;33m.\u001b[0m\u001b[0masync_wait\u001b[0m\u001b[1;33m(\u001b[0m\u001b[1;33m)\u001b[0m\u001b[1;33m\u001b[0m\u001b[1;33m\u001b[0m\u001b[0m\n",
      "\u001b[1;32m~\\anaconda3\\envs\\anaconda_env\\lib\\site-packages\\tensorflow\\python\\util\\traceback_utils.py\u001b[0m in \u001b[0;36merror_handler\u001b[1;34m(*args, **kwargs)\u001b[0m\n\u001b[0;32m    148\u001b[0m     \u001b[0mfiltered_tb\u001b[0m \u001b[1;33m=\u001b[0m \u001b[1;32mNone\u001b[0m\u001b[1;33m\u001b[0m\u001b[1;33m\u001b[0m\u001b[0m\n\u001b[0;32m    149\u001b[0m     \u001b[1;32mtry\u001b[0m\u001b[1;33m:\u001b[0m\u001b[1;33m\u001b[0m\u001b[1;33m\u001b[0m\u001b[0m\n\u001b[1;32m--> 150\u001b[1;33m       \u001b[1;32mreturn\u001b[0m \u001b[0mfn\u001b[0m\u001b[1;33m(\u001b[0m\u001b[1;33m*\u001b[0m\u001b[0margs\u001b[0m\u001b[1;33m,\u001b[0m \u001b[1;33m**\u001b[0m\u001b[0mkwargs\u001b[0m\u001b[1;33m)\u001b[0m\u001b[1;33m\u001b[0m\u001b[1;33m\u001b[0m\u001b[0m\n\u001b[0m\u001b[0;32m    151\u001b[0m     \u001b[1;32mexcept\u001b[0m \u001b[0mException\u001b[0m \u001b[1;32mas\u001b[0m \u001b[0me\u001b[0m\u001b[1;33m:\u001b[0m\u001b[1;33m\u001b[0m\u001b[1;33m\u001b[0m\u001b[0m\n\u001b[0;32m    152\u001b[0m       \u001b[0mfiltered_tb\u001b[0m \u001b[1;33m=\u001b[0m \u001b[0m_process_traceback_frames\u001b[0m\u001b[1;33m(\u001b[0m\u001b[0me\u001b[0m\u001b[1;33m.\u001b[0m\u001b[0m__traceback__\u001b[0m\u001b[1;33m)\u001b[0m\u001b[1;33m\u001b[0m\u001b[1;33m\u001b[0m\u001b[0m\n",
      "\u001b[1;32m~\\anaconda3\\envs\\anaconda_env\\lib\\site-packages\\tensorflow\\python\\eager\\def_function.py\u001b[0m in \u001b[0;36m__call__\u001b[1;34m(self, *args, **kwds)\u001b[0m\n\u001b[0;32m    908\u001b[0m \u001b[1;33m\u001b[0m\u001b[0m\n\u001b[0;32m    909\u001b[0m       \u001b[1;32mwith\u001b[0m \u001b[0mOptionalXlaContext\u001b[0m\u001b[1;33m(\u001b[0m\u001b[0mself\u001b[0m\u001b[1;33m.\u001b[0m\u001b[0m_jit_compile\u001b[0m\u001b[1;33m)\u001b[0m\u001b[1;33m:\u001b[0m\u001b[1;33m\u001b[0m\u001b[1;33m\u001b[0m\u001b[0m\n\u001b[1;32m--> 910\u001b[1;33m         \u001b[0mresult\u001b[0m \u001b[1;33m=\u001b[0m \u001b[0mself\u001b[0m\u001b[1;33m.\u001b[0m\u001b[0m_call\u001b[0m\u001b[1;33m(\u001b[0m\u001b[1;33m*\u001b[0m\u001b[0margs\u001b[0m\u001b[1;33m,\u001b[0m \u001b[1;33m**\u001b[0m\u001b[0mkwds\u001b[0m\u001b[1;33m)\u001b[0m\u001b[1;33m\u001b[0m\u001b[1;33m\u001b[0m\u001b[0m\n\u001b[0m\u001b[0;32m    911\u001b[0m \u001b[1;33m\u001b[0m\u001b[0m\n\u001b[0;32m    912\u001b[0m       \u001b[0mnew_tracing_count\u001b[0m \u001b[1;33m=\u001b[0m \u001b[0mself\u001b[0m\u001b[1;33m.\u001b[0m\u001b[0mexperimental_get_tracing_count\u001b[0m\u001b[1;33m(\u001b[0m\u001b[1;33m)\u001b[0m\u001b[1;33m\u001b[0m\u001b[1;33m\u001b[0m\u001b[0m\n",
      "\u001b[1;32m~\\anaconda3\\envs\\anaconda_env\\lib\\site-packages\\tensorflow\\python\\eager\\def_function.py\u001b[0m in \u001b[0;36m_call\u001b[1;34m(self, *args, **kwds)\u001b[0m\n\u001b[0;32m    940\u001b[0m       \u001b[1;31m# In this case we have created variables on the first call, so we run the\u001b[0m\u001b[1;33m\u001b[0m\u001b[1;33m\u001b[0m\u001b[1;33m\u001b[0m\u001b[0m\n\u001b[0;32m    941\u001b[0m       \u001b[1;31m# defunned version which is guaranteed to never create variables.\u001b[0m\u001b[1;33m\u001b[0m\u001b[1;33m\u001b[0m\u001b[1;33m\u001b[0m\u001b[0m\n\u001b[1;32m--> 942\u001b[1;33m       \u001b[1;32mreturn\u001b[0m \u001b[0mself\u001b[0m\u001b[1;33m.\u001b[0m\u001b[0m_stateless_fn\u001b[0m\u001b[1;33m(\u001b[0m\u001b[1;33m*\u001b[0m\u001b[0margs\u001b[0m\u001b[1;33m,\u001b[0m \u001b[1;33m**\u001b[0m\u001b[0mkwds\u001b[0m\u001b[1;33m)\u001b[0m  \u001b[1;31m# pylint: disable=not-callable\u001b[0m\u001b[1;33m\u001b[0m\u001b[1;33m\u001b[0m\u001b[0m\n\u001b[0m\u001b[0;32m    943\u001b[0m     \u001b[1;32melif\u001b[0m \u001b[0mself\u001b[0m\u001b[1;33m.\u001b[0m\u001b[0m_stateful_fn\u001b[0m \u001b[1;32mis\u001b[0m \u001b[1;32mnot\u001b[0m \u001b[1;32mNone\u001b[0m\u001b[1;33m:\u001b[0m\u001b[1;33m\u001b[0m\u001b[1;33m\u001b[0m\u001b[0m\n\u001b[0;32m    944\u001b[0m       \u001b[1;31m# Release the lock early so that multiple threads can perform the call\u001b[0m\u001b[1;33m\u001b[0m\u001b[1;33m\u001b[0m\u001b[1;33m\u001b[0m\u001b[0m\n",
      "\u001b[1;32m~\\anaconda3\\envs\\anaconda_env\\lib\\site-packages\\tensorflow\\python\\eager\\function.py\u001b[0m in \u001b[0;36m__call__\u001b[1;34m(self, *args, **kwargs)\u001b[0m\n\u001b[0;32m   3128\u001b[0m       (graph_function,\n\u001b[0;32m   3129\u001b[0m        filtered_flat_args) = self._maybe_define_function(args, kwargs)\n\u001b[1;32m-> 3130\u001b[1;33m     return graph_function._call_flat(\n\u001b[0m\u001b[0;32m   3131\u001b[0m         filtered_flat_args, captured_inputs=graph_function.captured_inputs)  # pylint: disable=protected-access\n\u001b[0;32m   3132\u001b[0m \u001b[1;33m\u001b[0m\u001b[0m\n",
      "\u001b[1;32m~\\anaconda3\\envs\\anaconda_env\\lib\\site-packages\\tensorflow\\python\\eager\\function.py\u001b[0m in \u001b[0;36m_call_flat\u001b[1;34m(self, args, captured_inputs, cancellation_manager)\u001b[0m\n\u001b[0;32m   1957\u001b[0m         and executing_eagerly):\n\u001b[0;32m   1958\u001b[0m       \u001b[1;31m# No tape is watching; skip to running the function.\u001b[0m\u001b[1;33m\u001b[0m\u001b[1;33m\u001b[0m\u001b[1;33m\u001b[0m\u001b[0m\n\u001b[1;32m-> 1959\u001b[1;33m       return self._build_call_outputs(self._inference_function.call(\n\u001b[0m\u001b[0;32m   1960\u001b[0m           ctx, args, cancellation_manager=cancellation_manager))\n\u001b[0;32m   1961\u001b[0m     forward_backward = self._select_forward_and_backward_functions(\n",
      "\u001b[1;32m~\\anaconda3\\envs\\anaconda_env\\lib\\site-packages\\tensorflow\\python\\eager\\function.py\u001b[0m in \u001b[0;36mcall\u001b[1;34m(self, ctx, args, cancellation_manager)\u001b[0m\n\u001b[0;32m    596\u001b[0m       \u001b[1;32mwith\u001b[0m \u001b[0m_InterpolateFunctionError\u001b[0m\u001b[1;33m(\u001b[0m\u001b[0mself\u001b[0m\u001b[1;33m)\u001b[0m\u001b[1;33m:\u001b[0m\u001b[1;33m\u001b[0m\u001b[1;33m\u001b[0m\u001b[0m\n\u001b[0;32m    597\u001b[0m         \u001b[1;32mif\u001b[0m \u001b[0mcancellation_manager\u001b[0m \u001b[1;32mis\u001b[0m \u001b[1;32mNone\u001b[0m\u001b[1;33m:\u001b[0m\u001b[1;33m\u001b[0m\u001b[1;33m\u001b[0m\u001b[0m\n\u001b[1;32m--> 598\u001b[1;33m           outputs = execute.execute(\n\u001b[0m\u001b[0;32m    599\u001b[0m               \u001b[0mstr\u001b[0m\u001b[1;33m(\u001b[0m\u001b[0mself\u001b[0m\u001b[1;33m.\u001b[0m\u001b[0msignature\u001b[0m\u001b[1;33m.\u001b[0m\u001b[0mname\u001b[0m\u001b[1;33m)\u001b[0m\u001b[1;33m,\u001b[0m\u001b[1;33m\u001b[0m\u001b[1;33m\u001b[0m\u001b[0m\n\u001b[0;32m    600\u001b[0m               \u001b[0mnum_outputs\u001b[0m\u001b[1;33m=\u001b[0m\u001b[0mself\u001b[0m\u001b[1;33m.\u001b[0m\u001b[0m_num_outputs\u001b[0m\u001b[1;33m,\u001b[0m\u001b[1;33m\u001b[0m\u001b[1;33m\u001b[0m\u001b[0m\n",
      "\u001b[1;32m~\\anaconda3\\envs\\anaconda_env\\lib\\site-packages\\tensorflow\\python\\eager\\execute.py\u001b[0m in \u001b[0;36mquick_execute\u001b[1;34m(op_name, num_outputs, inputs, attrs, ctx, name)\u001b[0m\n\u001b[0;32m     56\u001b[0m   \u001b[1;32mtry\u001b[0m\u001b[1;33m:\u001b[0m\u001b[1;33m\u001b[0m\u001b[1;33m\u001b[0m\u001b[0m\n\u001b[0;32m     57\u001b[0m     \u001b[0mctx\u001b[0m\u001b[1;33m.\u001b[0m\u001b[0mensure_initialized\u001b[0m\u001b[1;33m(\u001b[0m\u001b[1;33m)\u001b[0m\u001b[1;33m\u001b[0m\u001b[1;33m\u001b[0m\u001b[0m\n\u001b[1;32m---> 58\u001b[1;33m     tensors = pywrap_tfe.TFE_Py_Execute(ctx._handle, device_name, op_name,\n\u001b[0m\u001b[0;32m     59\u001b[0m                                         inputs, attrs, num_outputs)\n\u001b[0;32m     60\u001b[0m   \u001b[1;32mexcept\u001b[0m \u001b[0mcore\u001b[0m\u001b[1;33m.\u001b[0m\u001b[0m_NotOkStatusException\u001b[0m \u001b[1;32mas\u001b[0m \u001b[0me\u001b[0m\u001b[1;33m:\u001b[0m\u001b[1;33m\u001b[0m\u001b[1;33m\u001b[0m\u001b[0m\n",
      "\u001b[1;31mKeyboardInterrupt\u001b[0m: "
     ]
    }
   ],
   "source": [
    "start = time.time()\n",
    "history = model.fit(ds_train,validation_data=ds_test,epochs=epochs,verbose=2,callbacks=callbacks)\n",
    "end = time.time()"
   ]
  },
  {
   "cell_type": "code",
   "execution_count": null,
   "id": "444d7a06",
   "metadata": {},
   "outputs": [],
   "source": [
    "print(end-start)"
   ]
  },
  {
   "cell_type": "code",
   "execution_count": null,
   "id": "6dbc9d2f",
   "metadata": {},
   "outputs": [],
   "source": [
    "\n",
    "plt.plot(history.history[\"val_dice_coef\"],label= \"val_dice_coef\")\n",
    "plt.plot(history.history[\"dice_coef\"],label=\"train_dice_coef\")\n",
    "plt.legend()"
   ]
  },
  {
   "cell_type": "code",
   "execution_count": 10,
   "id": "9f21f47d",
   "metadata": {},
   "outputs": [],
   "source": [
    "model.load_weights(f\"{dataset}_segmentation.h5\")"
   ]
  },
  {
   "cell_type": "code",
   "execution_count": 11,
   "id": "01caa761",
   "metadata": {},
   "outputs": [
    {
     "data": {
      "image/png": "[encoded data removed]",
      "text/plain": [
       "<Figure size 432x288 with 1 Axes>"
      ]
     },
     "metadata": {
      "needs_background": "light"
     },
     "output_type": "display_data"
    },
    {
     "name": "stdout",
     "output_type": "stream",
     "text": [
      "tf.Tensor(0.910456124621764, shape=(), dtype=float64)\n"
     ]
    }
   ],
   "source": [
    "image = next(iter(resize_train.shuffle(100).take(1)))\n",
    "\n",
    "mask = np.repeat(image[1],3).reshape(IMAGE_SIZE,IMAGE_SIZE,3)\n",
    "pred = np.round(np.repeat(model.predict(image[0].numpy().reshape(-1,128,128,3))[0],3).reshape((IMAGE_SIZE,IMAGE_SIZE,3)))\n",
    "plt.imshow(np.hstack([image[0],pred,mask]))\n",
    "\n",
    "# display that image\n",
    "plt.show()\n",
    "print(dice_coef(mask,pred))"
   ]
  },
  {
   "cell_type": "code",
   "execution_count": 12,
   "id": "9fa4c016",
   "metadata": {},
   "outputs": [],
   "source": [
    "for split in [\"train\",\"test\"]:\n",
    "\n",
    "    if split == \"train\":\n",
    "        ds = resize_train\n",
    "    else:\n",
    "        ds = resize_test\n",
    "    dice_coeff_vals = []\n",
    "    n = int(ds.cardinality())\n",
    "    for image in iter(ds):\n",
    "\n",
    "        mask = image[1]\n",
    "        pred = model.predict(tf.reshape(image[0],(-1,128,128,3)))\n",
    "        dice_coeff_vals.append(dice_coef(mask,pred[0]))\n",
    "\n",
    "    dice_coeff_mean = sum(dice_coeff_vals)/n\n",
    "    dice_coeff_std = (sum([((x - dice_coeff_mean) ** 2) for x in dice_coeff_vals]) / n)**0.5\n",
    "    np.save(f\"UNET_{dataset}_{split}\",dice_coeff_vals)"
   ]
  },
  {
   "cell_type": "code",
   "execution_count": null,
   "id": "302021c8",
   "metadata": {},
   "outputs": [],
   "source": []
  }
 ],
 "metadata": {
  "kernelspec": {
   "display_name": "Python 3",
   "language": "python",
   "name": "python3"
  },
  "language_info": {
   "codemirror_mode": {
    "name": "ipython",
    "version": 3
   },
   "file_extension": ".py",
   "mimetype": "text/x-python",
   "name": "python",
   "nbconvert_exporter": "python",
   "pygments_lexer": "ipython3",
   "version": "3.8.8"
  }
 },
 "nbformat": 4,
 "nbformat_minor": 5
}
