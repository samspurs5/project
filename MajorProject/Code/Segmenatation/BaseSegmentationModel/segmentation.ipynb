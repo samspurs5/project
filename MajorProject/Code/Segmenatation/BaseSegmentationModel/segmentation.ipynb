{
 "cells": [
  {
   "cell_type": "code",
   "execution_count": 1,
   "id": "eb44dc43",
   "metadata": {},
   "outputs": [],
   "source": [
    "import tensorflow_datasets as tfds\n",
    "import tensorflow as tf\n",
    "from keras.layers import *\n",
    "import tensorflow.keras as K\n",
    "import matplotlib.pyplot as plt\n",
    "from keras.models import load_model\n",
    "import numpy as np\n",
    "\n",
    "tf.keras.backend.set_floatx(\"float64\")"
   ]
  },
  {
   "cell_type": "code",
   "execution_count": 2,
   "id": "4d6f570b",
   "metadata": {},
   "outputs": [],
   "source": [
    "def import_data():\n",
    "\n",
    "    ds,info = tfds.load('caltech_birds2010', split='all',with_info=True)\n",
    "    ds_train = ds.skip(300)\n",
    "    ds_test = ds.take(300)\n",
    "    return ds_train,ds_test,info"
   ]
  },
  {
   "cell_type": "code",
   "execution_count": 3,
   "id": "a022a187",
   "metadata": {},
   "outputs": [],
   "source": [
    "ds_train_raw,ds_test_raw,info = import_data()"
   ]
  },
  {
   "cell_type": "code",
   "execution_count": 4,
   "id": "a7311e78",
   "metadata": {},
   "outputs": [],
   "source": [
    "IMAGE_SIZE = 128\n",
    "def pre_process_image(record):\n",
    "    \n",
    "    image = record[\"image\"]\n",
    "    image = image / 255\n",
    "    image = tf.image.resize(image, (IMAGE_SIZE, IMAGE_SIZE))\n",
    "    image = tf.cast(image, tf.float32)\n",
    "    \n",
    "    seg_image = record[\"segmentation_mask\"]\n",
    "    seg_image = tf.image.resize(seg_image, (IMAGE_SIZE, IMAGE_SIZE))\n",
    "\n",
    "    seg_image = tf.cast(seg_image, tf.uint8)\n",
    "    seg_image = seg_image % 2\n",
    "    seg_image = tf.cast(seg_image, tf.float32)\n",
    "    return image,seg_image\n",
    "\n",
    "resize_train = ds_train_raw.map(pre_process_image)\n",
    "resize_test = ds_test_raw.map(pre_process_image)"
   ]
  },
  {
   "cell_type": "code",
   "execution_count": 5,
   "id": "7e51b173",
   "metadata": {},
   "outputs": [],
   "source": [
    "\n",
    "inputs = K.Input(shape=(IMAGE_SIZE,IMAGE_SIZE,3),name=\"image\")\n",
    "\n",
    "conv1 = Conv2D(16, 3, activation='relu', padding='same')(inputs)\n",
    "conv1 = Conv2D(16, 3, activation='relu', padding='same')(conv1)\n",
    "pool1 = MaxPooling2D(2)(conv1)\n",
    "\n",
    "conv2 = Conv2D(32, 3, activation='relu', padding='same')(pool1)\n",
    "conv2 = Conv2D(32, 3, activation='relu', padding='same')(conv2)\n",
    "pool2 = MaxPooling2D(2)(conv2)\n",
    "\n",
    "conv3 = Conv2D(64, 3, activation='relu', padding='same')(pool2)\n",
    "conv3 = Conv2D(64, 3, activation='relu', padding='same')(conv3)\n",
    "pool3 = MaxPooling2D(2)(conv3)\n",
    "\n",
    "conv4 = Conv2D(128, 3, activation='relu', padding='same')(pool3)\n",
    "conv4 = Conv2D(128, 3, activation='relu', padding='same')(conv4)\n",
    "pool4 = MaxPooling2D(2)(conv4)\n",
    "\n",
    "conv5 = Conv2D(256, 3, activation='relu', padding='same')(pool4)\n",
    "conv5 = Conv2D(256, 3, activation='relu', padding='same')(conv5)\n",
    "pool4 = MaxPooling2D(2)(conv5)\n",
    "\n",
    "convT1 = Conv2DTranspose(128, (2,2), strides=(2,2), padding='same')(conv5)\n",
    "\n",
    "skip1 = concatenate([convT1, conv4])\n",
    "conv6 = Conv2D(128, (3,3), activation='relu', padding='same')(skip1)\n",
    "conv6 = Conv2D(128, (3,3), activation='relu', padding='same')(conv6)\n",
    "convT2 = Conv2DTranspose(64, (2,2), strides=(2,2), padding='same')(conv6)\n",
    "\n",
    "skip2 = concatenate([convT2, conv3])\n",
    "conv7 = Conv2D(64, (3,3), activation='relu', padding='same')(skip2)\n",
    "conv7 = Conv2D(64, (3,3), activation='relu', padding='same')(conv7)\n",
    "convT3 = Conv2DTranspose(32, (2,2), strides=(2,2), padding='same')(conv7)\n",
    "\n",
    "skip3 = concatenate([convT3, conv2])\n",
    "conv8 = Conv2D(32, (3,3), activation='relu', padding='same')(skip3)\n",
    "conv8 = Conv2D(32, (3,3), activation='relu', padding='same')(conv8)\n",
    "convT4 = Conv2DTranspose(16, (2,2), strides=(2,2), padding='same')(conv8)\n",
    "\n",
    "skip4 = concatenate([convT4, conv1])\n",
    "conv9 = Conv2D(32, (3,3), activation='relu', padding='same')(skip4)\n",
    "conv10 = Conv2D(16, (1,1), strides=(1,1), padding='same', name = \"c10\")(conv9)"
   ]
  },
  {
   "cell_type": "code",
   "execution_count": 6,
   "id": "7505d584",
   "metadata": {},
   "outputs": [],
   "source": [
    "outputs = Conv2D(1, (1,1), activation=\"sigmoid\", padding=\"same\")(conv10)\n",
    "model = K.Model(inputs, outputs)"
   ]
  },
  {
   "cell_type": "code",
   "execution_count": 7,
   "id": "9c0b3255",
   "metadata": {},
   "outputs": [],
   "source": [
    "def dice_coef(y_true, y_pred):\n",
    "    y_true_f = K.backend.flatten(y_true)\n",
    "    y_pred_f = K.backend.flatten(y_pred)\n",
    "    intersection = K.backend.sum(y_true_f * y_pred_f)\n",
    "\n",
    "    return (2. * intersection) / (K.backend.sum(y_true_f) + K.backend.sum(y_pred_f))\n",
    "\n",
    "def diceCoefLoss(y_true, y_pred):\n",
    "\n",
    "    return (1-dice_coef(y_true, y_pred))"
   ]
  },
  {
   "cell_type": "code",
   "execution_count": 10,
   "id": "81a0b795",
   "metadata": {},
   "outputs": [],
   "source": [
    "ds_train = resize_train.batch(128).prefetch(tf.data.AUTOTUNE)\n",
    "ds_test = resize_test.batch(128).prefetch(tf.data.AUTOTUNE)"
   ]
  },
  {
   "cell_type": "code",
   "execution_count": 12,
   "id": "9caf34e8",
   "metadata": {},
   "outputs": [],
   "source": [
    "import time\n",
    "\n",
    "model.compile(optimizer=K.optimizers.RMSprop(learning_rate=0.0001), loss=diceCoefLoss, metrics = ['Accuracy', 'Precision', 'Recall', 'AUC',K.metrics.MeanIoU(num_classes=2),dice_coef])\n",
    "\n",
    "callbacks = [\n",
    "    K.callbacks.ModelCheckpoint(\"bird_segmentation.h5\", save_best_only=True, monitor=\"val_dice_coef\",mode=\"max\"),\n",
    "    #K.callbacks.EarlyStopping(\"val_dice_coef\",mode=\"max\")\n",
    "\n",
    "]\n",
    "\n",
    "# Train the model, doing validation at the end of each epoch.\n",
    "epochs = 80\n"
   ]
  },
  {
   "cell_type": "code",
   "execution_count": null,
   "id": "ca1b7d06",
   "metadata": {},
   "outputs": [],
   "source": []
  },
  {
   "cell_type": "code",
   "execution_count": 13,
   "id": "9197ee56",
   "metadata": {
    "scrolled": true
   },
   "outputs": [
    {
     "name": "stdout",
     "output_type": "stream",
     "text": [
      "Epoch 1/80\n",
      "45/45 - 178s - loss: 0.7030 - Accuracy: 0.2595 - precision: 0.1757 - recall: 0.9718 - auc: 0.6432 - mean_io_u: 0.4326 - dice_coef: 0.2976 - val_loss: 0.6352 - val_Accuracy: 0.4873 - val_precision: 0.2366 - val_recall: 0.9666 - val_auc: 0.7425 - val_mean_io_u: 0.5390 - val_dice_coef: 0.3660 - 178s/epoch - 4s/step\n",
      "Epoch 2/80\n",
      "45/45 - 179s - loss: 0.4965 - Accuracy: 0.7650 - precision: 0.3797 - recall: 0.7196 - auc: 0.7590 - mean_io_u: 0.5482 - dice_coef: 0.5030 - val_loss: 0.5395 - val_Accuracy: 0.6583 - val_precision: 0.3101 - val_recall: 0.8979 - val_auc: 0.7671 - val_mean_io_u: 0.5028 - val_dice_coef: 0.4636 - 179s/epoch - 4s/step\n",
      "Epoch 3/80\n",
      "45/45 - 180s - loss: 0.4607 - Accuracy: 0.8129 - precision: 0.4471 - recall: 0.6732 - auc: 0.7671 - mean_io_u: 0.5861 - dice_coef: 0.5393 - val_loss: 0.4441 - val_Accuracy: 0.8430 - val_precision: 0.5150 - val_recall: 0.6044 - val_auc: 0.7585 - val_mean_io_u: 0.5966 - val_dice_coef: 0.5619 - 180s/epoch - 4s/step\n",
      "Epoch 4/80\n",
      "45/45 - 182s - loss: 0.4519 - Accuracy: 0.8261 - precision: 0.4721 - recall: 0.6524 - auc: 0.7657 - mean_io_u: 0.5950 - dice_coef: 0.5481 - val_loss: 0.4435 - val_Accuracy: 0.8473 - val_precision: 0.5274 - val_recall: 0.5893 - val_auc: 0.7550 - val_mean_io_u: 0.5943 - val_dice_coef: 0.5625 - 182s/epoch - 4s/step\n",
      "Epoch 5/80\n",
      "45/45 - 181s - loss: 0.4504 - Accuracy: 0.8290 - precision: 0.4780 - recall: 0.6462 - auc: 0.7650 - mean_io_u: 0.5957 - dice_coef: 0.5494 - val_loss: 0.4389 - val_Accuracy: 0.8398 - val_precision: 0.5063 - val_recall: 0.6296 - val_auc: 0.7663 - val_mean_io_u: 0.5994 - val_dice_coef: 0.5673 - 181s/epoch - 4s/step\n",
      "Epoch 6/80\n",
      "45/45 - 181s - loss: 0.4482 - Accuracy: 0.8314 - precision: 0.4833 - recall: 0.6432 - auc: 0.7667 - mean_io_u: 0.5907 - dice_coef: 0.5516 - val_loss: 0.4394 - val_Accuracy: 0.8281 - val_precision: 0.4798 - val_recall: 0.6738 - val_auc: 0.7791 - val_mean_io_u: 0.5663 - val_dice_coef: 0.5664 - 181s/epoch - 4s/step\n",
      "Epoch 7/80\n",
      "45/45 - 183s - loss: 0.4408 - Accuracy: 0.8370 - precision: 0.4961 - recall: 0.6419 - auc: 0.7777 - mean_io_u: 0.5130 - dice_coef: 0.5592 - val_loss: 0.4367 - val_Accuracy: 0.8154 - val_precision: 0.4581 - val_recall: 0.7346 - val_auc: 0.8042 - val_mean_io_u: 0.5620 - val_dice_coef: 0.5692 - 183s/epoch - 4s/step\n",
      "Epoch 8/80\n",
      "45/45 - 180s - loss: 0.4218 - Accuracy: 0.8457 - precision: 0.5173 - recall: 0.6583 - auc: 0.7973 - mean_io_u: 0.5142 - dice_coef: 0.5783 - val_loss: 0.3851 - val_Accuracy: 0.8662 - val_precision: 0.5771 - val_recall: 0.6652 - val_auc: 0.8203 - val_mean_io_u: 0.5021 - val_dice_coef: 0.6197 - 180s/epoch - 4s/step\n",
      "Epoch 9/80\n",
      "45/45 - 182s - loss: 0.3941 - Accuracy: 0.8598 - precision: 0.5540 - recall: 0.6731 - auc: 0.8156 - mean_io_u: 0.5338 - dice_coef: 0.6060 - val_loss: 0.3728 - val_Accuracy: 0.8791 - val_precision: 0.6276 - val_recall: 0.6319 - val_auc: 0.8199 - val_mean_io_u: 0.5169 - val_dice_coef: 0.6302 - 182s/epoch - 4s/step\n",
      "Epoch 10/80\n",
      "45/45 - 199s - loss: 0.3741 - Accuracy: 0.8684 - precision: 0.5778 - recall: 0.6858 - auc: 0.8243 - mean_io_u: 0.5655 - dice_coef: 0.6260 - val_loss: 0.3694 - val_Accuracy: 0.8842 - val_precision: 0.6542 - val_recall: 0.6116 - val_auc: 0.8138 - val_mean_io_u: 0.5357 - val_dice_coef: 0.6338 - 199s/epoch - 4s/step\n",
      "Epoch 11/80\n",
      "45/45 - 183s - loss: 0.3600 - Accuracy: 0.8739 - precision: 0.5930 - recall: 0.6973 - auc: 0.8306 - mean_io_u: 0.5830 - dice_coef: 0.6399 - val_loss: 0.3565 - val_Accuracy: 0.8849 - val_precision: 0.6477 - val_recall: 0.6415 - val_auc: 0.8135 - val_mean_io_u: 0.5820 - val_dice_coef: 0.6474 - 183s/epoch - 4s/step\n",
      "Epoch 12/80\n",
      "45/45 - 184s - loss: 0.3490 - Accuracy: 0.8786 - precision: 0.6067 - recall: 0.7045 - auc: 0.8344 - mean_io_u: 0.5980 - dice_coef: 0.6509 - val_loss: 0.3472 - val_Accuracy: 0.8890 - val_precision: 0.6639 - val_recall: 0.6441 - val_auc: 0.8196 - val_mean_io_u: 0.5767 - val_dice_coef: 0.6564 - 184s/epoch - 4s/step\n",
      "Epoch 13/80\n",
      "45/45 - 182s - loss: 0.3408 - Accuracy: 0.8820 - precision: 0.6170 - recall: 0.7100 - auc: 0.8376 - mean_io_u: 0.6092 - dice_coef: 0.6591 - val_loss: 0.3351 - val_Accuracy: 0.8902 - val_precision: 0.6592 - val_recall: 0.6728 - val_auc: 0.8281 - val_mean_io_u: 0.5935 - val_dice_coef: 0.6686 - 182s/epoch - 4s/step\n",
      "Epoch 14/80\n",
      "45/45 - 181s - loss: 0.3337 - Accuracy: 0.8853 - precision: 0.6277 - recall: 0.7118 - auc: 0.8389 - mean_io_u: 0.6134 - dice_coef: 0.6661 - val_loss: 0.3305 - val_Accuracy: 0.8916 - val_precision: 0.6635 - val_recall: 0.6769 - val_auc: 0.8250 - val_mean_io_u: 0.6282 - val_dice_coef: 0.6729 - 181s/epoch - 4s/step\n",
      "Epoch 15/80\n",
      "45/45 - 198s - loss: 0.3269 - Accuracy: 0.8882 - precision: 0.6367 - recall: 0.7160 - auc: 0.8412 - mean_io_u: 0.6205 - dice_coef: 0.6730 - val_loss: 0.3266 - val_Accuracy: 0.8965 - val_precision: 0.6908 - val_recall: 0.6582 - val_auc: 0.8226 - val_mean_io_u: 0.6013 - val_dice_coef: 0.6776 - 198s/epoch - 4s/step\n",
      "Epoch 16/80\n",
      "45/45 - 205s - loss: 0.3218 - Accuracy: 0.8900 - precision: 0.6420 - recall: 0.7205 - auc: 0.8435 - mean_io_u: 0.6199 - dice_coef: 0.6781 - val_loss: 0.3170 - val_Accuracy: 0.8945 - val_precision: 0.6673 - val_recall: 0.7007 - val_auc: 0.8364 - val_mean_io_u: 0.6238 - val_dice_coef: 0.6864 - 205s/epoch - 5s/step\n",
      "Epoch 17/80\n",
      "45/45 - 206s - loss: 0.3156 - Accuracy: 0.8924 - precision: 0.6493 - recall: 0.7252 - auc: 0.8462 - mean_io_u: 0.6211 - dice_coef: 0.6843 - val_loss: 0.3103 - val_Accuracy: 0.8971 - val_precision: 0.6761 - val_recall: 0.7051 - val_auc: 0.8382 - val_mean_io_u: 0.6317 - val_dice_coef: 0.6932 - 206s/epoch - 5s/step\n",
      "Epoch 18/80\n",
      "45/45 - 182s - loss: 0.3085 - Accuracy: 0.8951 - precision: 0.6576 - recall: 0.7305 - auc: 0.8494 - mean_io_u: 0.6185 - dice_coef: 0.6914 - val_loss: 0.3060 - val_Accuracy: 0.9021 - val_precision: 0.7049 - val_recall: 0.6848 - val_auc: 0.8340 - val_mean_io_u: 0.6071 - val_dice_coef: 0.6982 - 182s/epoch - 4s/step\n",
      "Epoch 19/80\n",
      "45/45 - 180s - loss: 0.3060 - Accuracy: 0.8963 - precision: 0.6621 - recall: 0.7302 - auc: 0.8491 - mean_io_u: 0.6229 - dice_coef: 0.6940 - val_loss: 0.2994 - val_Accuracy: 0.9038 - val_precision: 0.7083 - val_recall: 0.6945 - val_auc: 0.8390 - val_mean_io_u: 0.6044 - val_dice_coef: 0.7044 - 180s/epoch - 4s/step\n",
      "Epoch 20/80\n",
      "45/45 - 202s - loss: 0.2999 - Accuracy: 0.8986 - precision: 0.6691 - recall: 0.7354 - auc: 0.8525 - mean_io_u: 0.6207 - dice_coef: 0.7000 - val_loss: 0.2928 - val_Accuracy: 0.9050 - val_precision: 0.7081 - val_recall: 0.7079 - val_auc: 0.8455 - val_mean_io_u: 0.6014 - val_dice_coef: 0.7110 - 202s/epoch - 4s/step\n",
      "Epoch 21/80\n",
      "45/45 - 182s - loss: 0.2957 - Accuracy: 0.9001 - precision: 0.6738 - recall: 0.7384 - auc: 0.8540 - mean_io_u: 0.6222 - dice_coef: 0.7043 - val_loss: 0.3032 - val_Accuracy: 0.9099 - val_precision: 0.7682 - val_recall: 0.6389 - val_auc: 0.8215 - val_mean_io_u: 0.5628 - val_dice_coef: 0.7008 - 182s/epoch - 4s/step\n",
      "Epoch 22/80\n",
      "45/45 - 184s - loss: 0.2915 - Accuracy: 0.9018 - precision: 0.6797 - recall: 0.7408 - auc: 0.8555 - mean_io_u: 0.6265 - dice_coef: 0.7085 - val_loss: 0.2874 - val_Accuracy: 0.9115 - val_precision: 0.7538 - val_recall: 0.6773 - val_auc: 0.8379 - val_mean_io_u: 0.5716 - val_dice_coef: 0.7157 - 184s/epoch - 4s/step\n",
      "Epoch 23/80\n",
      "45/45 - 185s - loss: 0.2881 - Accuracy: 0.9032 - precision: 0.6843 - recall: 0.7433 - auc: 0.8570 - mean_io_u: 0.6284 - dice_coef: 0.7118 - val_loss: 0.2900 - val_Accuracy: 0.9077 - val_precision: 0.7252 - val_recall: 0.6965 - val_auc: 0.8385 - val_mean_io_u: 0.6358 - val_dice_coef: 0.7138 - 185s/epoch - 4s/step\n",
      "Epoch 24/80\n",
      "45/45 - 184s - loss: 0.2834 - Accuracy: 0.9049 - precision: 0.6900 - recall: 0.7458 - auc: 0.8588 - mean_io_u: 0.6274 - dice_coef: 0.7167 - val_loss: 0.2749 - val_Accuracy: 0.9083 - val_precision: 0.7072 - val_recall: 0.7453 - val_auc: 0.8604 - val_mean_io_u: 0.6326 - val_dice_coef: 0.7275 - 184s/epoch - 4s/step\n",
      "Epoch 25/80\n",
      "45/45 - 206s - loss: 0.2799 - Accuracy: 0.9061 - precision: 0.6934 - recall: 0.7499 - auc: 0.8608 - mean_io_u: 0.6263 - dice_coef: 0.7202 - val_loss: 0.2701 - val_Accuracy: 0.9119 - val_precision: 0.7265 - val_recall: 0.7349 - val_auc: 0.8602 - val_mean_io_u: 0.5838 - val_dice_coef: 0.7339 - 206s/epoch - 5s/step\n",
      "Epoch 26/80\n",
      "45/45 - 183s - loss: 0.2736 - Accuracy: 0.9084 - precision: 0.7011 - recall: 0.7542 - auc: 0.8637 - mean_io_u: 0.6270 - dice_coef: 0.7264 - val_loss: 0.2745 - val_Accuracy: 0.9160 - val_precision: 0.7725 - val_recall: 0.6855 - val_auc: 0.8419 - val_mean_io_u: 0.5837 - val_dice_coef: 0.7295 - 183s/epoch - 4s/step\n"
     ]
    },
    {
     "name": "stdout",
     "output_type": "stream",
     "text": [
      "Epoch 27/80\n",
      "45/45 - 197s - loss: 0.2715 - Accuracy: 0.9092 - precision: 0.7039 - recall: 0.7556 - auc: 0.8645 - mean_io_u: 0.6276 - dice_coef: 0.7285 - val_loss: 0.2779 - val_Accuracy: 0.9167 - val_precision: 0.7880 - val_recall: 0.6679 - val_auc: 0.8358 - val_mean_io_u: 0.5585 - val_dice_coef: 0.7264 - 197s/epoch - 4s/step\n",
      "Epoch 28/80\n",
      "45/45 - 212s - loss: 0.2661 - Accuracy: 0.9113 - precision: 0.7107 - recall: 0.7593 - auc: 0.8672 - mean_io_u: 0.6262 - dice_coef: 0.7339 - val_loss: 0.2610 - val_Accuracy: 0.9163 - val_precision: 0.7487 - val_recall: 0.7312 - val_auc: 0.8602 - val_mean_io_u: 0.5916 - val_dice_coef: 0.7441 - 212s/epoch - 5s/step\n",
      "Epoch 29/80\n",
      "45/45 - 209s - loss: 0.2636 - Accuracy: 0.9121 - precision: 0.7132 - recall: 0.7617 - auc: 0.8678 - mean_io_u: 0.6347 - dice_coef: 0.7364 - val_loss: 0.2581 - val_Accuracy: 0.9167 - val_precision: 0.7471 - val_recall: 0.7382 - val_auc: 0.8616 - val_mean_io_u: 0.6236 - val_dice_coef: 0.7476 - 209s/epoch - 5s/step\n",
      "Epoch 30/80\n",
      "45/45 - 241s - loss: 0.2597 - Accuracy: 0.9136 - precision: 0.7181 - recall: 0.7648 - auc: 0.8696 - mean_io_u: 0.6401 - dice_coef: 0.7403 - val_loss: 0.2726 - val_Accuracy: 0.9190 - val_precision: 0.8020 - val_recall: 0.6664 - val_auc: 0.8319 - val_mean_io_u: 0.6235 - val_dice_coef: 0.7314 - 241s/epoch - 5s/step\n",
      "Epoch 31/80\n",
      "45/45 - 182s - loss: 0.2572 - Accuracy: 0.9145 - precision: 0.7220 - recall: 0.7652 - auc: 0.8698 - mean_io_u: 0.6483 - dice_coef: 0.7429 - val_loss: 0.2575 - val_Accuracy: 0.9191 - val_precision: 0.7690 - val_recall: 0.7190 - val_auc: 0.8543 - val_mean_io_u: 0.6225 - val_dice_coef: 0.7473 - 182s/epoch - 4s/step\n",
      "Epoch 32/80\n",
      "45/45 - 241s - loss: 0.2524 - Accuracy: 0.9163 - precision: 0.7278 - recall: 0.7691 - auc: 0.8721 - mean_io_u: 0.6550 - dice_coef: 0.7477 - val_loss: 0.2729 - val_Accuracy: 0.9195 - val_precision: 0.8092 - val_recall: 0.6610 - val_auc: 0.8308 - val_mean_io_u: 0.6087 - val_dice_coef: 0.7317 - 241s/epoch - 5s/step\n",
      "Epoch 33/80\n",
      "45/45 - 214s - loss: 0.2505 - Accuracy: 0.9167 - precision: 0.7281 - recall: 0.7727 - auc: 0.8733 - mean_io_u: 0.6634 - dice_coef: 0.7495 - val_loss: 0.2816 - val_Accuracy: 0.9185 - val_precision: 0.8187 - val_recall: 0.6409 - val_auc: 0.8211 - val_mean_io_u: 0.6151 - val_dice_coef: 0.7238 - 214s/epoch - 5s/step\n",
      "Epoch 34/80\n",
      "45/45 - 226s - loss: 0.2475 - Accuracy: 0.9179 - precision: 0.7333 - recall: 0.7726 - auc: 0.8737 - mean_io_u: 0.6654 - dice_coef: 0.7526 - val_loss: 0.2601 - val_Accuracy: 0.9215 - val_precision: 0.8017 - val_recall: 0.6880 - val_auc: 0.8430 - val_mean_io_u: 0.6188 - val_dice_coef: 0.7454 - 226s/epoch - 5s/step\n",
      "Epoch 35/80\n",
      "45/45 - 241s - loss: 0.2430 - Accuracy: 0.9198 - precision: 0.7400 - recall: 0.7753 - auc: 0.8760 - mean_io_u: 0.6652 - dice_coef: 0.7571 - val_loss: 0.2772 - val_Accuracy: 0.8969 - val_precision: 0.6423 - val_recall: 0.8272 - val_auc: 0.8812 - val_mean_io_u: 0.7169 - val_dice_coef: 0.7255 - 241s/epoch - 5s/step\n",
      "Epoch 36/80\n",
      "45/45 - 222s - loss: 0.2427 - Accuracy: 0.9194 - precision: 0.7364 - recall: 0.7794 - auc: 0.8766 - mean_io_u: 0.6798 - dice_coef: 0.7573 - val_loss: 0.2610 - val_Accuracy: 0.9113 - val_precision: 0.7086 - val_recall: 0.7728 - val_auc: 0.8678 - val_mean_io_u: 0.7031 - val_dice_coef: 0.7420 - 222s/epoch - 5s/step\n",
      "Epoch 37/80\n",
      "45/45 - 222s - loss: 0.2386 - Accuracy: 0.9212 - precision: 0.7437 - recall: 0.7806 - auc: 0.8778 - mean_io_u: 0.6835 - dice_coef: 0.7613 - val_loss: 0.2694 - val_Accuracy: 0.9209 - val_precision: 0.8176 - val_recall: 0.6613 - val_auc: 0.8282 - val_mean_io_u: 0.6598 - val_dice_coef: 0.7354 - 222s/epoch - 5s/step\n",
      "Epoch 38/80\n",
      "45/45 - 225s - loss: 0.2350 - Accuracy: 0.9225 - precision: 0.7490 - recall: 0.7822 - auc: 0.8790 - mean_io_u: 0.6884 - dice_coef: 0.7651 - val_loss: 0.2436 - val_Accuracy: 0.9213 - val_precision: 0.7610 - val_recall: 0.7528 - val_auc: 0.8657 - val_mean_io_u: 0.6943 - val_dice_coef: 0.7601 - 225s/epoch - 5s/step\n",
      "Epoch 39/80\n",
      "45/45 - 228s - loss: 0.2334 - Accuracy: 0.9231 - precision: 0.7516 - recall: 0.7824 - auc: 0.8789 - mean_io_u: 0.6971 - dice_coef: 0.7666 - val_loss: 0.2551 - val_Accuracy: 0.9235 - val_precision: 0.8126 - val_recall: 0.6885 - val_auc: 0.8416 - val_mean_io_u: 0.6632 - val_dice_coef: 0.7501 - 228s/epoch - 5s/step\n",
      "Epoch 40/80\n",
      "45/45 - 222s - loss: 0.2296 - Accuracy: 0.9245 - precision: 0.7556 - recall: 0.7863 - auc: 0.8810 - mean_io_u: 0.7036 - dice_coef: 0.7705 - val_loss: 0.2662 - val_Accuracy: 0.9013 - val_precision: 0.6534 - val_recall: 0.8375 - val_auc: 0.8863 - val_mean_io_u: 0.7400 - val_dice_coef: 0.7367 - 222s/epoch - 5s/step\n",
      "Epoch 41/80\n",
      "45/45 - 227s - loss: 0.2294 - Accuracy: 0.9243 - precision: 0.7546 - recall: 0.7874 - auc: 0.8808 - mean_io_u: 0.7115 - dice_coef: 0.7707 - val_loss: 0.2358 - val_Accuracy: 0.9244 - val_precision: 0.7745 - val_recall: 0.7552 - val_auc: 0.8684 - val_mean_io_u: 0.6933 - val_dice_coef: 0.7690 - 227s/epoch - 5s/step\n",
      "Epoch 42/80\n",
      "45/45 - 228s - loss: 0.2250 - Accuracy: 0.9261 - precision: 0.7619 - recall: 0.7890 - auc: 0.8828 - mean_io_u: 0.7101 - dice_coef: 0.7751 - val_loss: 0.2483 - val_Accuracy: 0.9253 - val_precision: 0.8165 - val_recall: 0.6976 - val_auc: 0.8457 - val_mean_io_u: 0.6740 - val_dice_coef: 0.7575 - 228s/epoch - 5s/step\n",
      "Epoch 43/80\n",
      "45/45 - 223s - loss: 0.2244 - Accuracy: 0.9263 - precision: 0.7618 - recall: 0.7904 - auc: 0.8831 - mean_io_u: 0.7158 - dice_coef: 0.7757 - val_loss: 0.2510 - val_Accuracy: 0.9109 - val_precision: 0.6913 - val_recall: 0.8179 - val_auc: 0.8841 - val_mean_io_u: 0.7379 - val_dice_coef: 0.7521 - 223s/epoch - 5s/step\n",
      "Epoch 44/80\n",
      "45/45 - 239s - loss: 0.2219 - Accuracy: 0.9268 - precision: 0.7627 - recall: 0.7937 - auc: 0.8844 - mean_io_u: 0.7204 - dice_coef: 0.7782 - val_loss: 0.2353 - val_Accuracy: 0.9244 - val_precision: 0.7739 - val_recall: 0.7566 - val_auc: 0.8681 - val_mean_io_u: 0.7106 - val_dice_coef: 0.7687 - 239s/epoch - 5s/step\n",
      "Epoch 45/80\n",
      "45/45 - 233s - loss: 0.2191 - Accuracy: 0.9282 - precision: 0.7693 - recall: 0.7932 - auc: 0.8848 - mean_io_u: 0.7251 - dice_coef: 0.7810 - val_loss: 0.2291 - val_Accuracy: 0.9220 - val_precision: 0.7376 - val_recall: 0.8081 - val_auc: 0.8875 - val_mean_io_u: 0.7271 - val_dice_coef: 0.7744 - 233s/epoch - 5s/step\n",
      "Epoch 46/80\n",
      "45/45 - 232s - loss: 0.2158 - Accuracy: 0.9292 - precision: 0.7720 - recall: 0.7971 - auc: 0.8868 - mean_io_u: 0.7295 - dice_coef: 0.7843 - val_loss: 0.2272 - val_Accuracy: 0.9245 - val_precision: 0.7564 - val_recall: 0.7908 - val_auc: 0.8820 - val_mean_io_u: 0.7172 - val_dice_coef: 0.7771 - 232s/epoch - 5s/step\n",
      "Epoch 47/80\n",
      "45/45 - 238s - loss: 0.2158 - Accuracy: 0.9290 - precision: 0.7705 - recall: 0.7980 - auc: 0.8869 - mean_io_u: 0.7328 - dice_coef: 0.7843 - val_loss: 0.2352 - val_Accuracy: 0.9258 - val_precision: 0.7889 - val_recall: 0.7430 - val_auc: 0.8640 - val_mean_io_u: 0.6972 - val_dice_coef: 0.7685 - 238s/epoch - 5s/step\n",
      "Epoch 48/80\n",
      "45/45 - 244s - loss: 0.2118 - Accuracy: 0.9305 - precision: 0.7751 - recall: 0.8019 - auc: 0.8891 - mean_io_u: 0.7388 - dice_coef: 0.7883 - val_loss: 0.2305 - val_Accuracy: 0.9271 - val_precision: 0.7920 - val_recall: 0.7490 - val_auc: 0.8666 - val_mean_io_u: 0.7117 - val_dice_coef: 0.7731 - 244s/epoch - 5s/step\n",
      "Epoch 49/80\n",
      "45/45 - 247s - loss: 0.2081 - Accuracy: 0.9319 - precision: 0.7813 - recall: 0.8025 - auc: 0.8901 - mean_io_u: 0.7415 - dice_coef: 0.7919 - val_loss: 0.2618 - val_Accuracy: 0.9002 - val_precision: 0.6435 - val_recall: 0.8664 - val_auc: 0.8957 - val_mean_io_u: 0.7574 - val_dice_coef: 0.7416 - 247s/epoch - 5s/step\n",
      "Epoch 50/80\n",
      "45/45 - 249s - loss: 0.2067 - Accuracy: 0.9321 - precision: 0.7806 - recall: 0.8062 - auc: 0.8916 - mean_io_u: 0.7452 - dice_coef: 0.7935 - val_loss: 0.2454 - val_Accuracy: 0.9268 - val_precision: 0.8286 - val_recall: 0.6935 - val_auc: 0.8436 - val_mean_io_u: 0.6925 - val_dice_coef: 0.7589 - 249s/epoch - 6s/step\n",
      "Epoch 51/80\n",
      "45/45 - 231s - loss: 0.2066 - Accuracy: 0.9323 - precision: 0.7822 - recall: 0.8048 - auc: 0.8910 - mean_io_u: 0.7465 - dice_coef: 0.7935 - val_loss: 0.2297 - val_Accuracy: 0.9279 - val_precision: 0.7982 - val_recall: 0.7450 - val_auc: 0.8660 - val_mean_io_u: 0.7017 - val_dice_coef: 0.7743 - 231s/epoch - 5s/step\n",
      "Epoch 52/80\n",
      "45/45 - 241s - loss: 0.2017 - Accuracy: 0.9342 - precision: 0.7904 - recall: 0.8064 - auc: 0.8927 - mean_io_u: 0.7509 - dice_coef: 0.7984 - val_loss: 0.2332 - val_Accuracy: 0.9175 - val_precision: 0.7094 - val_recall: 0.8349 - val_auc: 0.8945 - val_mean_io_u: 0.7490 - val_dice_coef: 0.7697 - 241s/epoch - 5s/step\n"
     ]
    },
    {
     "name": "stdout",
     "output_type": "stream",
     "text": [
      "Epoch 53/80\n",
      "45/45 - 241s - loss: 0.2019 - Accuracy: 0.9340 - precision: 0.7889 - recall: 0.8074 - auc: 0.8926 - mean_io_u: 0.7550 - dice_coef: 0.7981 - val_loss: 0.2392 - val_Accuracy: 0.9175 - val_precision: 0.7196 - val_recall: 0.8077 - val_auc: 0.8821 - val_mean_io_u: 0.7516 - val_dice_coef: 0.7650 - 241s/epoch - 5s/step\n",
      "Epoch 54/80\n",
      "45/45 - 237s - loss: 0.1984 - Accuracy: 0.9354 - precision: 0.7940 - recall: 0.8095 - auc: 0.8941 - mean_io_u: 0.7592 - dice_coef: 0.8017 - val_loss: 0.2351 - val_Accuracy: 0.9288 - val_precision: 0.8248 - val_recall: 0.7138 - val_auc: 0.8527 - val_mean_io_u: 0.7050 - val_dice_coef: 0.7695 - 237s/epoch - 5s/step\n",
      "Epoch 55/80\n",
      "45/45 - 243s - loss: 0.1986 - Accuracy: 0.9353 - precision: 0.7938 - recall: 0.8094 - auc: 0.8939 - mean_io_u: 0.7606 - dice_coef: 0.8015 - val_loss: 0.2248 - val_Accuracy: 0.9287 - val_precision: 0.7948 - val_recall: 0.7571 - val_auc: 0.8692 - val_mean_io_u: 0.7334 - val_dice_coef: 0.7784 - 243s/epoch - 5s/step\n",
      "Epoch 56/80\n",
      "45/45 - 257s - loss: 0.1935 - Accuracy: 0.9370 - precision: 0.7998 - recall: 0.8134 - auc: 0.8966 - mean_io_u: 0.7641 - dice_coef: 0.8066 - val_loss: 0.2285 - val_Accuracy: 0.9296 - val_precision: 0.8162 - val_recall: 0.7318 - val_auc: 0.8613 - val_mean_io_u: 0.7100 - val_dice_coef: 0.7742 - 257s/epoch - 6s/step\n",
      "Epoch 57/80\n",
      "45/45 - 229s - loss: 0.1916 - Accuracy: 0.9375 - precision: 0.8004 - recall: 0.8165 - auc: 0.8981 - mean_io_u: 0.7663 - dice_coef: 0.8085 - val_loss: 0.2255 - val_Accuracy: 0.9265 - val_precision: 0.7730 - val_recall: 0.7765 - val_auc: 0.8765 - val_mean_io_u: 0.7303 - val_dice_coef: 0.7777 - 229s/epoch - 5s/step\n",
      "Epoch 58/80\n",
      "45/45 - 259s - loss: 0.1900 - Accuracy: 0.9382 - precision: 0.8035 - recall: 0.8168 - auc: 0.8985 - mean_io_u: 0.7689 - dice_coef: 0.8101 - val_loss: 0.2320 - val_Accuracy: 0.9249 - val_precision: 0.7719 - val_recall: 0.7647 - val_auc: 0.8697 - val_mean_io_u: 0.7393 - val_dice_coef: 0.7703 - 259s/epoch - 6s/step\n",
      "Epoch 59/80\n",
      "45/45 - 236s - loss: 0.1886 - Accuracy: 0.9387 - precision: 0.8060 - recall: 0.8170 - auc: 0.8987 - mean_io_u: 0.7712 - dice_coef: 0.8115 - val_loss: 0.2311 - val_Accuracy: 0.9287 - val_precision: 0.8122 - val_recall: 0.7306 - val_auc: 0.8593 - val_mean_io_u: 0.7192 - val_dice_coef: 0.7723 - 236s/epoch - 5s/step\n",
      "Epoch 60/80\n",
      "45/45 - 264s - loss: 0.1865 - Accuracy: 0.9395 - precision: 0.8093 - recall: 0.8183 - auc: 0.8997 - mean_io_u: 0.7740 - dice_coef: 0.8136 - val_loss: 0.2415 - val_Accuracy: 0.9157 - val_precision: 0.7102 - val_recall: 0.8146 - val_auc: 0.8830 - val_mean_io_u: 0.7573 - val_dice_coef: 0.7613 - 264s/epoch - 6s/step\n",
      "Epoch 61/80\n",
      "45/45 - 242s - loss: 0.1847 - Accuracy: 0.9398 - precision: 0.8089 - recall: 0.8213 - auc: 0.9009 - mean_io_u: 0.7780 - dice_coef: 0.8154 - val_loss: 0.2425 - val_Accuracy: 0.9246 - val_precision: 0.7942 - val_recall: 0.7245 - val_auc: 0.8543 - val_mean_io_u: 0.7145 - val_dice_coef: 0.7594 - 242s/epoch - 5s/step\n",
      "Epoch 62/80\n",
      "45/45 - 236s - loss: 0.1837 - Accuracy: 0.9401 - precision: 0.8081 - recall: 0.8245 - auc: 0.9023 - mean_io_u: 0.7810 - dice_coef: 0.8165 - val_loss: 0.2243 - val_Accuracy: 0.9235 - val_precision: 0.7414 - val_recall: 0.8138 - val_auc: 0.8878 - val_mean_io_u: 0.7633 - val_dice_coef: 0.7788 - 236s/epoch - 5s/step\n",
      "Epoch 63/80\n",
      "45/45 - 239s - loss: 0.1801 - Accuracy: 0.9415 - precision: 0.8153 - recall: 0.8245 - auc: 0.9029 - mean_io_u: 0.7840 - dice_coef: 0.8200 - val_loss: 0.2227 - val_Accuracy: 0.9263 - val_precision: 0.7639 - val_recall: 0.7921 - val_auc: 0.8806 - val_mean_io_u: 0.7594 - val_dice_coef: 0.7822 - 239s/epoch - 5s/step\n",
      "Epoch 64/80\n",
      "45/45 - 252s - loss: 0.1791 - Accuracy: 0.9419 - precision: 0.8163 - recall: 0.8257 - auc: 0.9036 - mean_io_u: 0.7852 - dice_coef: 0.8210 - val_loss: 0.2220 - val_Accuracy: 0.9296 - val_precision: 0.7981 - val_recall: 0.7598 - val_auc: 0.8701 - val_mean_io_u: 0.7465 - val_dice_coef: 0.7817 - 252s/epoch - 6s/step\n",
      "Epoch 65/80\n",
      "45/45 - 251s - loss: 0.1756 - Accuracy: 0.9432 - precision: 0.8226 - recall: 0.8265 - auc: 0.9047 - mean_io_u: 0.7875 - dice_coef: 0.8245 - val_loss: 0.2435 - val_Accuracy: 0.9124 - val_precision: 0.6905 - val_recall: 0.8370 - val_auc: 0.8900 - val_mean_io_u: 0.7612 - val_dice_coef: 0.7585 - 251s/epoch - 6s/step\n",
      "Epoch 66/80\n",
      "45/45 - 245s - loss: 0.1742 - Accuracy: 0.9433 - precision: 0.8198 - recall: 0.8318 - auc: 0.9067 - mean_io_u: 0.7921 - dice_coef: 0.8258 - val_loss: 0.2337 - val_Accuracy: 0.9231 - val_precision: 0.7569 - val_recall: 0.7766 - val_auc: 0.8720 - val_mean_io_u: 0.7547 - val_dice_coef: 0.7702 - 245s/epoch - 5s/step\n",
      "Epoch 67/80\n",
      "45/45 - 256s - loss: 0.1723 - Accuracy: 0.9441 - precision: 0.8235 - recall: 0.8322 - auc: 0.9073 - mean_io_u: 0.7936 - dice_coef: 0.8277 - val_loss: 0.2420 - val_Accuracy: 0.9294 - val_precision: 0.8554 - val_recall: 0.6812 - val_auc: 0.8391 - val_mean_io_u: 0.7108 - val_dice_coef: 0.7632 - 256s/epoch - 6s/step\n",
      "Epoch 68/80\n",
      "45/45 - 231s - loss: 0.1698 - Accuracy: 0.9450 - precision: 0.8277 - recall: 0.8328 - auc: 0.9082 - mean_io_u: 0.7944 - dice_coef: 0.8303 - val_loss: 0.2195 - val_Accuracy: 0.9277 - val_precision: 0.7706 - val_recall: 0.7913 - val_auc: 0.8813 - val_mean_io_u: 0.7594 - val_dice_coef: 0.7840 - 231s/epoch - 5s/step\n",
      "Epoch 69/80\n",
      "45/45 - 255s - loss: 0.1694 - Accuracy: 0.9452 - precision: 0.8284 - recall: 0.8332 - auc: 0.9081 - mean_io_u: 0.7971 - dice_coef: 0.8307 - val_loss: 0.2444 - val_Accuracy: 0.9282 - val_precision: 0.8459 - val_recall: 0.6834 - val_auc: 0.8391 - val_mean_io_u: 0.7112 - val_dice_coef: 0.7601 - 255s/epoch - 6s/step\n",
      "Epoch 70/80\n",
      "45/45 - 226s - loss: 0.1666 - Accuracy: 0.9462 - precision: 0.8322 - recall: 0.8348 - auc: 0.9095 - mean_io_u: 0.7990 - dice_coef: 0.8335 - val_loss: 0.2225 - val_Accuracy: 0.9303 - val_precision: 0.8074 - val_recall: 0.7505 - val_auc: 0.8664 - val_mean_io_u: 0.7495 - val_dice_coef: 0.7815 - 226s/epoch - 5s/step\n",
      "Epoch 71/80\n",
      "45/45 - 248s - loss: 0.1648 - Accuracy: 0.9467 - precision: 0.8335 - recall: 0.8372 - auc: 0.9105 - mean_io_u: 0.8022 - dice_coef: 0.8354 - val_loss: 0.2569 - val_Accuracy: 0.9234 - val_precision: 0.8167 - val_recall: 0.6820 - val_auc: 0.8358 - val_mean_io_u: 0.7055 - val_dice_coef: 0.7466 - 248s/epoch - 6s/step\n",
      "Epoch 72/80\n",
      "45/45 - 240s - loss: 0.1632 - Accuracy: 0.9472 - precision: 0.8344 - recall: 0.8397 - auc: 0.9119 - mean_io_u: 0.8042 - dice_coef: 0.8369 - val_loss: 0.2274 - val_Accuracy: 0.9294 - val_precision: 0.8111 - val_recall: 0.7381 - val_auc: 0.8611 - val_mean_io_u: 0.7416 - val_dice_coef: 0.7756 - 240s/epoch - 5s/step\n",
      "Epoch 73/80\n",
      "45/45 - 232s - loss: 0.1594 - Accuracy: 0.9485 - precision: 0.8397 - recall: 0.8416 - auc: 0.9133 - mean_io_u: 0.8069 - dice_coef: 0.8407 - val_loss: 0.2312 - val_Accuracy: 0.9271 - val_precision: 0.7933 - val_recall: 0.7462 - val_auc: 0.8631 - val_mean_io_u: 0.7396 - val_dice_coef: 0.7714 - 232s/epoch - 5s/step\n",
      "Epoch 74/80\n",
      "45/45 - 231s - loss: 0.1616 - Accuracy: 0.9477 - precision: 0.8366 - recall: 0.8401 - auc: 0.9121 - mean_io_u: 0.8067 - dice_coef: 0.8384 - val_loss: 0.2260 - val_Accuracy: 0.9276 - val_precision: 0.7851 - val_recall: 0.7641 - val_auc: 0.8695 - val_mean_io_u: 0.7563 - val_dice_coef: 0.7799 - 231s/epoch - 5s/step\n",
      "Epoch 75/80\n",
      "45/45 - 231s - loss: 0.1575 - Accuracy: 0.9491 - precision: 0.8413 - recall: 0.8437 - auc: 0.9143 - mean_io_u: 0.8103 - dice_coef: 0.8426 - val_loss: 0.2340 - val_Accuracy: 0.9286 - val_precision: 0.8195 - val_recall: 0.7196 - val_auc: 0.8535 - val_mean_io_u: 0.7335 - val_dice_coef: 0.7694 - 231s/epoch - 5s/step\n",
      "Epoch 76/80\n",
      "45/45 - 233s - loss: 0.1558 - Accuracy: 0.9498 - precision: 0.8446 - recall: 0.8442 - auc: 0.9148 - mean_io_u: 0.8124 - dice_coef: 0.8441 - val_loss: 0.2633 - val_Accuracy: 0.9246 - val_precision: 0.8517 - val_recall: 0.6498 - val_auc: 0.8214 - val_mean_io_u: 0.7147 - val_dice_coef: 0.7430 - 233s/epoch - 5s/step\n",
      "Epoch 77/80\n",
      "45/45 - 232s - loss: 0.1557 - Accuracy: 0.9498 - precision: 0.8453 - recall: 0.8435 - auc: 0.9147 - mean_io_u: 0.8120 - dice_coef: 0.8444 - val_loss: 0.2272 - val_Accuracy: 0.9276 - val_precision: 0.7883 - val_recall: 0.7584 - val_auc: 0.8675 - val_mean_io_u: 0.7517 - val_dice_coef: 0.7755 - 232s/epoch - 5s/step\n",
      "Epoch 78/80\n",
      "45/45 - 234s - loss: 0.1519 - Accuracy: 0.9509 - precision: 0.8473 - recall: 0.8487 - auc: 0.9173 - mean_io_u: 0.8160 - dice_coef: 0.8481 - val_loss: 0.2355 - val_Accuracy: 0.9250 - val_precision: 0.7810 - val_recall: 0.7491 - val_auc: 0.8633 - val_mean_io_u: 0.7381 - val_dice_coef: 0.7673 - 234s/epoch - 5s/step\n"
     ]
    },
    {
     "name": "stdout",
     "output_type": "stream",
     "text": [
      "Epoch 79/80\n",
      "45/45 - 251s - loss: 0.1527 - Accuracy: 0.9507 - precision: 0.8472 - recall: 0.8474 - auc: 0.9165 - mean_io_u: 0.8164 - dice_coef: 0.8473 - val_loss: 0.2309 - val_Accuracy: 0.9281 - val_precision: 0.8035 - val_recall: 0.7383 - val_auc: 0.8595 - val_mean_io_u: 0.7457 - val_dice_coef: 0.7745 - 251s/epoch - 6s/step\n",
      "Epoch 80/80\n",
      "45/45 - 221s - loss: 0.1475 - Accuracy: 0.9524 - precision: 0.8526 - recall: 0.8524 - auc: 0.9195 - mean_io_u: 0.8212 - dice_coef: 0.8525 - val_loss: 0.2280 - val_Accuracy: 0.9252 - val_precision: 0.7652 - val_recall: 0.7796 - val_auc: 0.8735 - val_mean_io_u: 0.7611 - val_dice_coef: 0.7752 - 221s/epoch - 5s/step\n"
     ]
    }
   ],
   "source": [
    "start = time.time()\n",
    "history = model.fit(ds_train,validation_data=ds_test,epochs=epochs,verbose=2,callbacks=callbacks)\n",
    "end = time.time()"
   ]
  },
  {
   "cell_type": "code",
   "execution_count": 14,
   "id": "444d7a06",
   "metadata": {},
   "outputs": [
    {
     "name": "stdout",
     "output_type": "stream",
     "text": [
      "17528.246010780334\n"
     ]
    }
   ],
   "source": [
    "print(end-start)"
   ]
  },
  {
   "cell_type": "code",
   "execution_count": 15,
   "id": "6dbc9d2f",
   "metadata": {},
   "outputs": [
    {
     "data": {
      "text/plain": [
       "<matplotlib.legend.Legend at 0x26f80284580>"
      ]
     },
     "execution_count": 15,
     "metadata": {},
     "output_type": "execute_result"
    },
    {
     "data": {
      "image/png": "[encoded data removed]",
      "text/plain": [
       "<Figure size 432x288 with 1 Axes>"
      ]
     },
     "metadata": {
      "needs_background": "light"
     },
     "output_type": "display_data"
    }
   ],
   "source": [
    "\n",
    "plt.plot(history.history[\"val_dice_coef\"],label= \"val_dice_coef\")\n",
    "plt.plot(history.history[\"dice_coef\"],label=\"train_dice_coef\")\n",
    "plt.legend()"
   ]
  },
  {
   "cell_type": "code",
   "execution_count": null,
   "id": "7ad43bfa",
   "metadata": {},
   "outputs": [],
   "source": [
    "model "
   ]
  },
  {
   "cell_type": "code",
   "execution_count": 19,
   "id": "9f21f47d",
   "metadata": {},
   "outputs": [],
   "source": [
    "model.load_weights(\"bird_segmentation.h5\")"
   ]
  },
  {
   "cell_type": "code",
   "execution_count": 20,
   "id": "9fa4c016",
   "metadata": {},
   "outputs": [],
   "source": [
    "dice_coeff_vals = []\n",
    "n = int(resize_test.cardinality())\n",
    "for image in iter(resize_test):\n",
    "\n",
    "    mask = image[1]\n",
    "    pred = model.predict(tf.reshape(image[0],(-1,128,128,3)))\n",
    "    dice_coeff_vals.append(dice_coef(pred[0],mask))\n",
    "\n",
    "dice_coeff_mean = sum(dice_coeff_vals)/n\n",
    "dice_coeff_std = (sum([((x - dice_coeff_mean) ** 2) for x in dice_coeff_vals]) / n)**0.5"
   ]
  },
  {
   "cell_type": "code",
   "execution_count": 21,
   "id": "fa67beec",
   "metadata": {},
   "outputs": [
    {
     "data": {
      "text/plain": [
       "0.7449637055397034"
      ]
     },
     "execution_count": 21,
     "metadata": {},
     "output_type": "execute_result"
    }
   ],
   "source": [
    "float(dice_coeff_mean)"
   ]
  },
  {
   "cell_type": "code",
   "execution_count": 22,
   "id": "f9a9d32f",
   "metadata": {},
   "outputs": [
    {
     "data": {
      "text/plain": [
       "0.19377823173999786"
      ]
     },
     "execution_count": 22,
     "metadata": {},
     "output_type": "execute_result"
    }
   ],
   "source": [
    "float(dice_coeff_std)"
   ]
  },
  {
   "cell_type": "code",
   "execution_count": null,
   "id": "1d0eb166",
   "metadata": {},
   "outputs": [],
   "source": []
  }
 ],
 "metadata": {
  "kernelspec": {
   "display_name": "Python 3",
   "language": "python",
   "name": "python3"
  },
  "language_info": {
   "codemirror_mode": {
    "name": "ipython",
    "version": 3
   },
   "file_extension": ".py",
   "mimetype": "text/x-python",
   "name": "python",
   "nbconvert_exporter": "python",
   "pygments_lexer": "ipython3",
   "version": "3.8.8"
  }
 },
 "nbformat": 4,
 "nbformat_minor": 5
}
